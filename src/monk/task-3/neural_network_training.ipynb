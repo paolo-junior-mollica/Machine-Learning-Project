{
 "cells": [
  {
   "cell_type": "code",
   "execution_count": null,
   "metadata": {
    "executionInfo": {
     "elapsed": 6,
     "status": "ok",
     "timestamp": 1705309886724,
     "user": {
      "displayName": "NUNZIO CANDUCI",
      "userId": "15156390205628808514"
     },
     "user_tz": -60
    },
    "id": "zFgg8QjlDQHJ"
   },
   "outputs": [],
   "source": [
    "MONK_TASK = 3\n",
    "USER = 'Paolo'"
   ]
  },
  {
   "cell_type": "code",
   "execution_count": null,
   "metadata": {
    "colab": {
     "base_uri": "https://localhost:8080/"
    },
    "executionInfo": {
     "elapsed": 56227,
     "status": "ok",
     "timestamp": 1705309942945,
     "user": {
      "displayName": "NUNZIO CANDUCI",
      "userId": "15156390205628808514"
     },
     "user_tz": -60
    },
    "id": "wvq0L9mEDQHK",
    "outputId": "21752602-81b9-4679-ced5-42c5c0b2bcec"
   },
   "outputs": [],
   "source": [
    "import sys\n",
    "import os\n",
    "if (colab := 'google.colab' in sys.modules):\n",
    "    from google.colab import drive\n",
    "    drive.mount('/content/drive')\n",
    "    BASE_PATH = '/content/drive/Shareddrives/Project_ML_23/' + USER + '/machine-learning-project'\n",
    "    sys.path.insert(0,BASE_PATH)\n",
    "    N_JOBS = 1\n",
    "    sys.path.insert(0,BASE_PATH + '/src/utils')\n",
    "    !pip install optuna\n",
    "    !pip install scikit-learn\n",
    "    !pip install scikeras\n",
    "    TRAIN_DATA = os.path.join(BASE_PATH, 'datasets', 'monk',f'monks-{MONK_TASK}.train')\n",
    "    TEST_DATA = os.path.join(BASE_PATH, 'datasets', 'monk',f'monks-{MONK_TASK}.test')\n",
    "    IMAGES_FOLDER = os.path.join(BASE_PATH, 'images', 'monk',  f'task-{MONK_TASK}', 'neural_network')\n",
    "    MODEL_FOLDER = os.path.join(BASE_PATH, 'trained_models', 'monk', f'task-{MONK_TASK}')\n",
    "else :\n",
    "    TRAIN_DATA = os.path.join('..', '..', '..', 'datasets', 'monk', f'monks-{MONK_TASK}.train')\n",
    "    TEST_DATA = os.path.join('..', '..', '..', 'datasets', 'monk', f'monks-{MONK_TASK}.test')\n",
    "    N_JOBS = -1\n",
    "    IMAGES_FOLDER = os.path.join('..', '..', '..', 'images', 'monk', f'task-{MONK_TASK}', 'neural_network')\n",
    "    MODEL_FOLDER = os.path.join('..', '..', '..', 'trained_models', 'monk', f'task-{MONK_TASK}')"
   ]
  },
  {
   "cell_type": "code",
   "execution_count": null,
   "metadata": {
    "executionInfo": {
     "elapsed": 3261,
     "status": "ok",
     "timestamp": 1705309946196,
     "user": {
      "displayName": "NUNZIO CANDUCI",
      "userId": "15156390205628808514"
     },
     "user_tz": -60
    },
    "id": "BAb_JUZZDQHL"
   },
   "outputs": [],
   "source": [
    "if (colab := 'google.colab' in sys.modules):\n",
    "    sys.path.append(BASE_PATH + '/src/utils')\n",
    "else:\n",
    "    sys.path.append('../../utils')\n",
    "\n",
    "import pandas as pd\n",
    "from matplotlib import pyplot as plt\n",
    "import seaborn as sns; sns.set_theme(style='darkgrid')\n",
    "\n",
    "from utils import save_plot, set_random_state\n",
    "from NN import MonkNeuralNetwork\n",
    "\n",
    "set_random_state(42)"
   ]
  },
  {
   "cell_type": "code",
   "execution_count": null,
   "metadata": {
    "colab": {
     "base_uri": "https://localhost:8080/",
     "height": 206
    },
    "executionInfo": {
     "elapsed": 853,
     "status": "ok",
     "timestamp": 1705309947047,
     "user": {
      "displayName": "NUNZIO CANDUCI",
      "userId": "15156390205628808514"
     },
     "user_tz": -60
    },
    "id": "fZbm1KDKDQHL",
    "outputId": "93803307-219c-4649-a31e-14679a4db26e"
   },
   "outputs": [],
   "source": [
    "# To skip the first column (row indexes)\n",
    "columns_to_read = list(range(1, 8))\n",
    "\n",
    "df_train = pd.read_csv(TRAIN_DATA, header=None, usecols=columns_to_read, delimiter=' ')\n",
    "df_test = pd.read_csv(TEST_DATA, header=None, usecols=columns_to_read, delimiter=' ')\n",
    "df_train.head()"
   ]
  },
  {
   "cell_type": "code",
   "execution_count": null,
   "metadata": {
    "colab": {
     "base_uri": "https://localhost:8080/",
     "height": 206
    },
    "executionInfo": {
     "elapsed": 21,
     "status": "ok",
     "timestamp": 1705309947047,
     "user": {
      "displayName": "NUNZIO CANDUCI",
      "userId": "15156390205628808514"
     },
     "user_tz": -60
    },
    "id": "qrk3w92nDQHL",
    "outputId": "4f9bab2c-3c97-4811-eed6-b750046490c2"
   },
   "outputs": [],
   "source": [
    "features = ['feature_' + str(i) for i in range(1, 7)]\n",
    "\n",
    "# Rename columns\n",
    "new_column_names = ['class'] + features\n",
    "\n",
    "df_train.columns = new_column_names\n",
    "df_test.columns = new_column_names\n",
    "\n",
    "df_train.head()"
   ]
  },
  {
   "cell_type": "code",
   "execution_count": null,
   "metadata": {
    "colab": {
     "base_uri": "https://localhost:8080/",
     "height": 226
    },
    "executionInfo": {
     "elapsed": 19,
     "status": "ok",
     "timestamp": 1705309947047,
     "user": {
      "displayName": "NUNZIO CANDUCI",
      "userId": "15156390205628808514"
     },
     "user_tz": -60
    },
    "id": "XmAi6rsGDQHL",
    "outputId": "03d3d3b0-7fbf-492a-d73d-f05062a6afa9"
   },
   "outputs": [],
   "source": [
    "df_train_encoded = pd.get_dummies(df_train, columns=features)\n",
    "df_test_encoded = pd.get_dummies(df_test, columns=features)\n",
    "\n",
    "df_train_encoded, df_test_encoded = df_train_encoded.align(df_test_encoded, join='inner', axis=1)\n",
    "\n",
    "df_train_encoded.head()"
   ]
  },
  {
   "cell_type": "code",
   "execution_count": null,
   "metadata": {
    "executionInfo": {
     "elapsed": 2,
     "status": "ok",
     "timestamp": 1705309947415,
     "user": {
      "displayName": "NUNZIO CANDUCI",
      "userId": "15156390205628808514"
     },
     "user_tz": -60
    },
    "id": "9x8aYolSDQHL"
   },
   "outputs": [],
   "source": [
    "features = df_train_encoded.columns.difference(['class'])\n",
    "\n",
    "X_train = df_train_encoded[features].to_numpy()\n",
    "y_train = df_train_encoded['class'].to_numpy()\n",
    "\n",
    "X_test = df_test_encoded[features].to_numpy()\n",
    "y_test = df_test_encoded['class'].to_numpy()"
   ]
  },
  {
   "cell_type": "markdown",
   "metadata": {
    "collapsed": false,
    "id": "ikYMHrVgDQHL"
   },
   "source": [
    "# Create model"
   ]
  },
  {
   "cell_type": "code",
   "execution_count": null,
   "metadata": {
    "executionInfo": {
     "elapsed": 435,
     "status": "ok",
     "timestamp": 1705309951905,
     "user": {
      "displayName": "NUNZIO CANDUCI",
      "userId": "15156390205628808514"
     },
     "user_tz": -60
    },
    "id": "X7ZM2kLZDQHM"
   },
   "outputs": [],
   "source": [
    "model = MonkNeuralNetwork(input_dim=X_train.shape[1], verbose=0)"
   ]
  },
  {
   "cell_type": "code",
   "execution_count": null,
   "metadata": {
    "colab": {
     "base_uri": "https://localhost:8080/",
     "height": 1000
    },
    "executionInfo": {
     "elapsed": 884033,
     "status": "ok",
     "timestamp": 1705310835933,
     "user": {
      "displayName": "NUNZIO CANDUCI",
      "userId": "15156390205628808514"
     },
     "user_tz": -60
    },
    "id": "tRHJ0aLTDQHM",
    "outputId": "7184bcb9-effd-4f63-9237-47427b114042"
   },
   "outputs": [],
   "source": [
    "from sklearn.model_selection import GridSearchCV\n",
    "\n",
    "param_grid = {\n",
    "    'architecture': [\n",
    "        (8,), (8, 8), (8, 8, 8), (8, 8, 8, 8)\n",
    "    ],\n",
    "    'optimizer': ['sgd'],\n",
    "    'activation': ['relu'],\n",
    "    'learning_rate': [0.1, 0.3, 0.5],\n",
    "    'momentum': [0.6, 0.8, 0.9],\n",
    "    'lambda_value': [0.01],\n",
    "    'epochs': [200],\n",
    "    'batch_size': [8],\n",
    "    'patience': [6]\n",
    "}\n",
    "\n",
    "grid_search = GridSearchCV(\n",
    "    estimator=model,\n",
    "    param_grid=param_grid,\n",
    "    cv=5,\n",
    "    n_jobs=N_JOBS,\n",
    "    verbose=2,\n",
    "    scoring='accuracy'\n",
    ")\n",
    "\n",
    "grid_search.fit(X_train, y_train)"
   ]
  },
  {
   "cell_type": "code",
   "execution_count": null,
   "metadata": {
    "colab": {
     "base_uri": "https://localhost:8080/"
    },
    "executionInfo": {
     "elapsed": 10,
     "status": "ok",
     "timestamp": 1705310835934,
     "user": {
      "displayName": "NUNZIO CANDUCI",
      "userId": "15156390205628808514"
     },
     "user_tz": -60
    },
    "id": "9d_ljUrBDQHM",
    "outputId": "4fe79ce7-86b0-4e96-e499-2975e8aa8722"
   },
   "outputs": [],
   "source": [
    "from sklearn.metrics import accuracy_score, classification_report\n",
    "\n",
    "final_model = grid_search.best_estimator_\n",
    "y_pred = final_model.predict(X_test)\n",
    "\n",
    "print('Best parameters: ', grid_search.best_params_)\n",
    "print('Best accuracy: ', grid_search.best_score_)\n",
    "print('Test set accuracy: ', accuracy_score(y_test, y_pred))\n",
    "print(classification_report(y_test, y_pred))"
   ]
  },
  {
   "cell_type": "markdown",
   "metadata": {
    "collapsed": false,
    "id": "tGooMwMCDQHM"
   },
   "source": [
    "# Learning curve"
   ]
  },
  {
   "cell_type": "code",
   "execution_count": null,
   "metadata": {
    "executionInfo": {
     "elapsed": 21201,
     "status": "ok",
     "timestamp": 1705310857127,
     "user": {
      "displayName": "NUNZIO CANDUCI",
      "userId": "15156390205628808514"
     },
     "user_tz": -60
    },
    "id": "IXWddoTMDQHM"
   },
   "outputs": [],
   "source": [
    "history_df = pd.DataFrame(final_model.history())"
   ]
  },
  {
   "cell_type": "code",
   "execution_count": null,
   "metadata": {
    "colab": {
     "base_uri": "https://localhost:8080/",
     "height": 479
    },
    "executionInfo": {
     "elapsed": 823,
     "status": "ok",
     "timestamp": 1705310857939,
     "user": {
      "displayName": "NUNZIO CANDUCI",
      "userId": "15156390205628808514"
     },
     "user_tz": -60
    },
    "id": "bP6Rtp_WDQHN",
    "outputId": "c64010ac-c305-47b8-8635-f0316db1f64e"
   },
   "outputs": [],
   "source": [
    "history_df[['loss', 'val_loss']].plot(\n",
    "    figsize=(8, 5),\n",
    "    xlim=[0, 200],\n",
    "    ylim=[0, 2],\n",
    "    grid=True,\n",
    "    xlabel='Epoch',\n",
    "    style=['r--', 'b--'],\n",
    "    title='Training and Validation Loss'\n",
    ")\n",
    "plt.show()"
   ]
  },
  {
   "cell_type": "code",
   "execution_count": null,
   "outputs": [],
   "source": [
    "history_df[['accuracy', 'val_accuracy']].plot(\n",
    "    figsize=(8, 5),\n",
    "    xlim=[0, 200],\n",
    "    ylim=[0, 1],\n",
    "    grid=True,\n",
    "    xlabel='Epoch',\n",
    "    style=['r--.', 'b--'],\n",
    "    title='Training and Validation Accuracy'\n",
    ")\n",
    "plt.show()"
   ],
   "metadata": {
    "collapsed": false
   }
  },
  {
   "cell_type": "markdown",
   "metadata": {
    "collapsed": false,
    "id": "YKTGu_82DQHN"
   },
   "source": [
    "# Save model"
   ]
  },
  {
   "cell_type": "code",
   "execution_count": null,
   "metadata": {
    "colab": {
     "base_uri": "https://localhost:8080/"
    },
    "executionInfo": {
     "elapsed": 1191,
     "status": "ok",
     "timestamp": 1705310859126,
     "user": {
      "displayName": "NUNZIO CANDUCI",
      "userId": "15156390205628808514"
     },
     "user_tz": -60
    },
    "id": "FX2AHFTHDQHN",
    "outputId": "e9a98feb-ecbd-40ef-c1ce-c1db37534acd"
   },
   "outputs": [],
   "source": [
    "from joblib import dump\n",
    "\n",
    "model_path = os.path.join(MODEL_FOLDER, 'NN_model.joblib')\n",
    "dump(final_model, model_path, compress=3)"
   ]
  }
 ],
 "metadata": {
  "accelerator": "TPU",
  "colab": {
   "provenance": []
  },
  "kernelspec": {
   "name": "python3",
   "language": "python",
   "display_name": "Python 3 (ipykernel)"
  },
  "language_info": {
   "codemirror_mode": {
    "name": "ipython",
    "version": 2
   },
   "file_extension": ".py",
   "mimetype": "text/x-python",
   "name": "python",
   "nbconvert_exporter": "python",
   "pygments_lexer": "ipython2",
   "version": "3.9.18"
  }
 },
 "nbformat": 4,
 "nbformat_minor": 0
}
