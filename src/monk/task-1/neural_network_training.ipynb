{
 "cells": [
  {
   "cell_type": "code",
   "execution_count": 1,
   "metadata": {
    "executionInfo": {
     "elapsed": 6,
     "status": "ok",
     "timestamp": 1705309886724,
     "user": {
      "displayName": "NUNZIO CANDUCI",
      "userId": "15156390205628808514"
     },
     "user_tz": -60
    },
    "id": "zFgg8QjlDQHJ"
   },
   "outputs": [],
   "source": [
    "MONK_TASK = 1\n",
    "USER = 'Nunzio'"
   ]
  },
  {
   "cell_type": "code",
   "execution_count": 2,
   "metadata": {
    "colab": {
     "base_uri": "https://localhost:8080/"
    },
    "executionInfo": {
     "elapsed": 56227,
     "status": "ok",
     "timestamp": 1705309942945,
     "user": {
      "displayName": "NUNZIO CANDUCI",
      "userId": "15156390205628808514"
     },
     "user_tz": -60
    },
    "id": "wvq0L9mEDQHK",
    "outputId": "21752602-81b9-4679-ced5-42c5c0b2bcec"
   },
   "outputs": [],
   "source": [
    "import sys\n",
    "import os\n",
    "if (colab := 'google.colab' in sys.modules):\n",
    "    from google.colab import drive\n",
    "    drive.mount('/content/drive')\n",
    "    BASE_PATH = '/content/drive/Shareddrives/Project_ML_23/' + USER + '/machine-learning-project'\n",
    "    sys.path.insert(0,BASE_PATH)\n",
    "    N_JOBS = 1\n",
    "    sys.path.insert(0,BASE_PATH + '/src/utils')\n",
    "    !pip install optuna\n",
    "    !pip install scikit-learn\n",
    "    !pip install scikeras\n",
    "    TRAIN_DATA = os.path.join(BASE_PATH, 'datasets', 'monk',f'monks-{MONK_TASK}.train')\n",
    "    TEST_DATA = os.path.join(BASE_PATH, 'datasets', 'monk',f'monks-{MONK_TASK}.test')\n",
    "    IMAGES_FOLDER = os.path.join(BASE_PATH, 'images', 'monk',  f'task-{MONK_TASK}', 'neural_network')\n",
    "    MODEL_FOLDER = os.path.join(BASE_PATH, 'trained_models', 'monk', f'task-{MONK_TASK}')\n",
    "else :\n",
    "    TRAIN_DATA = os.path.join('..', '..', '..', 'datasets', 'monk', f'monks-{MONK_TASK}.train')\n",
    "    TEST_DATA = os.path.join('..', '..', '..', 'datasets', 'monk', f'monks-{MONK_TASK}.test')\n",
    "    N_JOBS = -1\n",
    "    IMAGES_FOLDER = os.path.join('..', '..', '..', 'images', 'monk', f'task-{MONK_TASK}', 'neural_network')\n",
    "    MODEL_FOLDER = os.path.join('..', '..', '..', 'trained_models', 'monk', f'task-{MONK_TASK}')"
   ]
  },
  {
   "cell_type": "code",
   "execution_count": 3,
   "metadata": {
    "executionInfo": {
     "elapsed": 3261,
     "status": "ok",
     "timestamp": 1705309946196,
     "user": {
      "displayName": "NUNZIO CANDUCI",
      "userId": "15156390205628808514"
     },
     "user_tz": -60
    },
    "id": "BAb_JUZZDQHL"
   },
   "outputs": [],
   "source": [
    "if (colab := 'google.colab' in sys.modules):\n",
    "    sys.path.append(BASE_PATH + '/src/utils')\n",
    "else:\n",
    "    sys.path.append('../../utils')\n",
    "\n",
    "import pandas as pd\n",
    "from matplotlib import pyplot as plt\n",
    "import seaborn as sns; sns.set_theme(style='darkgrid')\n",
    "\n",
    "from utils import save_plot, set_random_state\n",
    "from NN import MonkNeuralNetwork\n",
    "\n",
    "set_random_state(42)"
   ]
  },
  {
   "cell_type": "code",
   "execution_count": 4,
   "metadata": {
    "colab": {
     "base_uri": "https://localhost:8080/",
     "height": 206
    },
    "executionInfo": {
     "elapsed": 853,
     "status": "ok",
     "timestamp": 1705309947047,
     "user": {
      "displayName": "NUNZIO CANDUCI",
      "userId": "15156390205628808514"
     },
     "user_tz": -60
    },
    "id": "fZbm1KDKDQHL",
    "outputId": "93803307-219c-4649-a31e-14679a4db26e"
   },
   "outputs": [
    {
     "data": {
      "text/html": [
       "<div>\n",
       "<style scoped>\n",
       "    .dataframe tbody tr th:only-of-type {\n",
       "        vertical-align: middle;\n",
       "    }\n",
       "\n",
       "    .dataframe tbody tr th {\n",
       "        vertical-align: top;\n",
       "    }\n",
       "\n",
       "    .dataframe thead th {\n",
       "        text-align: right;\n",
       "    }\n",
       "</style>\n",
       "<table border=\"1\" class=\"dataframe\">\n",
       "  <thead>\n",
       "    <tr style=\"text-align: right;\">\n",
       "      <th></th>\n",
       "      <th>1</th>\n",
       "      <th>2</th>\n",
       "      <th>3</th>\n",
       "      <th>4</th>\n",
       "      <th>5</th>\n",
       "      <th>6</th>\n",
       "      <th>7</th>\n",
       "    </tr>\n",
       "  </thead>\n",
       "  <tbody>\n",
       "    <tr>\n",
       "      <th>0</th>\n",
       "      <td>1</td>\n",
       "      <td>1</td>\n",
       "      <td>1</td>\n",
       "      <td>1</td>\n",
       "      <td>1</td>\n",
       "      <td>3</td>\n",
       "      <td>1</td>\n",
       "    </tr>\n",
       "    <tr>\n",
       "      <th>1</th>\n",
       "      <td>1</td>\n",
       "      <td>1</td>\n",
       "      <td>1</td>\n",
       "      <td>1</td>\n",
       "      <td>1</td>\n",
       "      <td>3</td>\n",
       "      <td>2</td>\n",
       "    </tr>\n",
       "    <tr>\n",
       "      <th>2</th>\n",
       "      <td>1</td>\n",
       "      <td>1</td>\n",
       "      <td>1</td>\n",
       "      <td>1</td>\n",
       "      <td>3</td>\n",
       "      <td>2</td>\n",
       "      <td>1</td>\n",
       "    </tr>\n",
       "    <tr>\n",
       "      <th>3</th>\n",
       "      <td>1</td>\n",
       "      <td>1</td>\n",
       "      <td>1</td>\n",
       "      <td>1</td>\n",
       "      <td>3</td>\n",
       "      <td>3</td>\n",
       "      <td>2</td>\n",
       "    </tr>\n",
       "    <tr>\n",
       "      <th>4</th>\n",
       "      <td>1</td>\n",
       "      <td>1</td>\n",
       "      <td>1</td>\n",
       "      <td>2</td>\n",
       "      <td>1</td>\n",
       "      <td>2</td>\n",
       "      <td>1</td>\n",
       "    </tr>\n",
       "  </tbody>\n",
       "</table>\n",
       "</div>"
      ],
      "text/plain": [
       "   1  2  3  4  5  6  7\n",
       "0  1  1  1  1  1  3  1\n",
       "1  1  1  1  1  1  3  2\n",
       "2  1  1  1  1  3  2  1\n",
       "3  1  1  1  1  3  3  2\n",
       "4  1  1  1  2  1  2  1"
      ]
     },
     "execution_count": 4,
     "metadata": {},
     "output_type": "execute_result"
    }
   ],
   "source": [
    "# To skip the first column (row indexes)\n",
    "columns_to_read = list(range(1, 8))\n",
    "\n",
    "df_train = pd.read_csv(TRAIN_DATA, header=None, usecols=columns_to_read, delimiter=' ')\n",
    "df_test = pd.read_csv(TEST_DATA, header=None, usecols=columns_to_read, delimiter=' ')\n",
    "df_train.head()"
   ]
  },
  {
   "cell_type": "code",
   "execution_count": 5,
   "metadata": {
    "colab": {
     "base_uri": "https://localhost:8080/",
     "height": 206
    },
    "executionInfo": {
     "elapsed": 21,
     "status": "ok",
     "timestamp": 1705309947047,
     "user": {
      "displayName": "NUNZIO CANDUCI",
      "userId": "15156390205628808514"
     },
     "user_tz": -60
    },
    "id": "qrk3w92nDQHL",
    "outputId": "4f9bab2c-3c97-4811-eed6-b750046490c2"
   },
   "outputs": [
    {
     "data": {
      "text/html": [
       "<div>\n",
       "<style scoped>\n",
       "    .dataframe tbody tr th:only-of-type {\n",
       "        vertical-align: middle;\n",
       "    }\n",
       "\n",
       "    .dataframe tbody tr th {\n",
       "        vertical-align: top;\n",
       "    }\n",
       "\n",
       "    .dataframe thead th {\n",
       "        text-align: right;\n",
       "    }\n",
       "</style>\n",
       "<table border=\"1\" class=\"dataframe\">\n",
       "  <thead>\n",
       "    <tr style=\"text-align: right;\">\n",
       "      <th></th>\n",
       "      <th>class</th>\n",
       "      <th>feature_1</th>\n",
       "      <th>feature_2</th>\n",
       "      <th>feature_3</th>\n",
       "      <th>feature_4</th>\n",
       "      <th>feature_5</th>\n",
       "      <th>feature_6</th>\n",
       "    </tr>\n",
       "  </thead>\n",
       "  <tbody>\n",
       "    <tr>\n",
       "      <th>0</th>\n",
       "      <td>1</td>\n",
       "      <td>1</td>\n",
       "      <td>1</td>\n",
       "      <td>1</td>\n",
       "      <td>1</td>\n",
       "      <td>3</td>\n",
       "      <td>1</td>\n",
       "    </tr>\n",
       "    <tr>\n",
       "      <th>1</th>\n",
       "      <td>1</td>\n",
       "      <td>1</td>\n",
       "      <td>1</td>\n",
       "      <td>1</td>\n",
       "      <td>1</td>\n",
       "      <td>3</td>\n",
       "      <td>2</td>\n",
       "    </tr>\n",
       "    <tr>\n",
       "      <th>2</th>\n",
       "      <td>1</td>\n",
       "      <td>1</td>\n",
       "      <td>1</td>\n",
       "      <td>1</td>\n",
       "      <td>3</td>\n",
       "      <td>2</td>\n",
       "      <td>1</td>\n",
       "    </tr>\n",
       "    <tr>\n",
       "      <th>3</th>\n",
       "      <td>1</td>\n",
       "      <td>1</td>\n",
       "      <td>1</td>\n",
       "      <td>1</td>\n",
       "      <td>3</td>\n",
       "      <td>3</td>\n",
       "      <td>2</td>\n",
       "    </tr>\n",
       "    <tr>\n",
       "      <th>4</th>\n",
       "      <td>1</td>\n",
       "      <td>1</td>\n",
       "      <td>1</td>\n",
       "      <td>2</td>\n",
       "      <td>1</td>\n",
       "      <td>2</td>\n",
       "      <td>1</td>\n",
       "    </tr>\n",
       "  </tbody>\n",
       "</table>\n",
       "</div>"
      ],
      "text/plain": [
       "   class  feature_1  feature_2  feature_3  feature_4  feature_5  feature_6\n",
       "0      1          1          1          1          1          3          1\n",
       "1      1          1          1          1          1          3          2\n",
       "2      1          1          1          1          3          2          1\n",
       "3      1          1          1          1          3          3          2\n",
       "4      1          1          1          2          1          2          1"
      ]
     },
     "execution_count": 5,
     "metadata": {},
     "output_type": "execute_result"
    }
   ],
   "source": [
    "features = ['feature_' + str(i) for i in range(1, 7)]\n",
    "\n",
    "# Rename columns\n",
    "new_column_names = ['class'] + features\n",
    "\n",
    "df_train.columns = new_column_names\n",
    "df_test.columns = new_column_names\n",
    "\n",
    "df_train.head()"
   ]
  },
  {
   "cell_type": "code",
   "execution_count": 6,
   "metadata": {
    "colab": {
     "base_uri": "https://localhost:8080/",
     "height": 226
    },
    "executionInfo": {
     "elapsed": 19,
     "status": "ok",
     "timestamp": 1705309947047,
     "user": {
      "displayName": "NUNZIO CANDUCI",
      "userId": "15156390205628808514"
     },
     "user_tz": -60
    },
    "id": "XmAi6rsGDQHL",
    "outputId": "03d3d3b0-7fbf-492a-d73d-f05062a6afa9"
   },
   "outputs": [
    {
     "data": {
      "text/html": [
       "<div>\n",
       "<style scoped>\n",
       "    .dataframe tbody tr th:only-of-type {\n",
       "        vertical-align: middle;\n",
       "    }\n",
       "\n",
       "    .dataframe tbody tr th {\n",
       "        vertical-align: top;\n",
       "    }\n",
       "\n",
       "    .dataframe thead th {\n",
       "        text-align: right;\n",
       "    }\n",
       "</style>\n",
       "<table border=\"1\" class=\"dataframe\">\n",
       "  <thead>\n",
       "    <tr style=\"text-align: right;\">\n",
       "      <th></th>\n",
       "      <th>class</th>\n",
       "      <th>feature_1_1</th>\n",
       "      <th>feature_1_2</th>\n",
       "      <th>feature_1_3</th>\n",
       "      <th>feature_2_1</th>\n",
       "      <th>feature_2_2</th>\n",
       "      <th>feature_2_3</th>\n",
       "      <th>feature_3_1</th>\n",
       "      <th>feature_3_2</th>\n",
       "      <th>feature_4_1</th>\n",
       "      <th>feature_4_2</th>\n",
       "      <th>feature_4_3</th>\n",
       "      <th>feature_5_1</th>\n",
       "      <th>feature_5_2</th>\n",
       "      <th>feature_5_3</th>\n",
       "      <th>feature_5_4</th>\n",
       "      <th>feature_6_1</th>\n",
       "      <th>feature_6_2</th>\n",
       "    </tr>\n",
       "  </thead>\n",
       "  <tbody>\n",
       "    <tr>\n",
       "      <th>0</th>\n",
       "      <td>1</td>\n",
       "      <td>True</td>\n",
       "      <td>False</td>\n",
       "      <td>False</td>\n",
       "      <td>True</td>\n",
       "      <td>False</td>\n",
       "      <td>False</td>\n",
       "      <td>True</td>\n",
       "      <td>False</td>\n",
       "      <td>True</td>\n",
       "      <td>False</td>\n",
       "      <td>False</td>\n",
       "      <td>False</td>\n",
       "      <td>False</td>\n",
       "      <td>True</td>\n",
       "      <td>False</td>\n",
       "      <td>True</td>\n",
       "      <td>False</td>\n",
       "    </tr>\n",
       "    <tr>\n",
       "      <th>1</th>\n",
       "      <td>1</td>\n",
       "      <td>True</td>\n",
       "      <td>False</td>\n",
       "      <td>False</td>\n",
       "      <td>True</td>\n",
       "      <td>False</td>\n",
       "      <td>False</td>\n",
       "      <td>True</td>\n",
       "      <td>False</td>\n",
       "      <td>True</td>\n",
       "      <td>False</td>\n",
       "      <td>False</td>\n",
       "      <td>False</td>\n",
       "      <td>False</td>\n",
       "      <td>True</td>\n",
       "      <td>False</td>\n",
       "      <td>False</td>\n",
       "      <td>True</td>\n",
       "    </tr>\n",
       "    <tr>\n",
       "      <th>2</th>\n",
       "      <td>1</td>\n",
       "      <td>True</td>\n",
       "      <td>False</td>\n",
       "      <td>False</td>\n",
       "      <td>True</td>\n",
       "      <td>False</td>\n",
       "      <td>False</td>\n",
       "      <td>True</td>\n",
       "      <td>False</td>\n",
       "      <td>False</td>\n",
       "      <td>False</td>\n",
       "      <td>True</td>\n",
       "      <td>False</td>\n",
       "      <td>True</td>\n",
       "      <td>False</td>\n",
       "      <td>False</td>\n",
       "      <td>True</td>\n",
       "      <td>False</td>\n",
       "    </tr>\n",
       "    <tr>\n",
       "      <th>3</th>\n",
       "      <td>1</td>\n",
       "      <td>True</td>\n",
       "      <td>False</td>\n",
       "      <td>False</td>\n",
       "      <td>True</td>\n",
       "      <td>False</td>\n",
       "      <td>False</td>\n",
       "      <td>True</td>\n",
       "      <td>False</td>\n",
       "      <td>False</td>\n",
       "      <td>False</td>\n",
       "      <td>True</td>\n",
       "      <td>False</td>\n",
       "      <td>False</td>\n",
       "      <td>True</td>\n",
       "      <td>False</td>\n",
       "      <td>False</td>\n",
       "      <td>True</td>\n",
       "    </tr>\n",
       "    <tr>\n",
       "      <th>4</th>\n",
       "      <td>1</td>\n",
       "      <td>True</td>\n",
       "      <td>False</td>\n",
       "      <td>False</td>\n",
       "      <td>True</td>\n",
       "      <td>False</td>\n",
       "      <td>False</td>\n",
       "      <td>False</td>\n",
       "      <td>True</td>\n",
       "      <td>True</td>\n",
       "      <td>False</td>\n",
       "      <td>False</td>\n",
       "      <td>False</td>\n",
       "      <td>True</td>\n",
       "      <td>False</td>\n",
       "      <td>False</td>\n",
       "      <td>True</td>\n",
       "      <td>False</td>\n",
       "    </tr>\n",
       "  </tbody>\n",
       "</table>\n",
       "</div>"
      ],
      "text/plain": [
       "   class  feature_1_1  feature_1_2  feature_1_3  feature_2_1  feature_2_2  \\\n",
       "0      1         True        False        False         True        False   \n",
       "1      1         True        False        False         True        False   \n",
       "2      1         True        False        False         True        False   \n",
       "3      1         True        False        False         True        False   \n",
       "4      1         True        False        False         True        False   \n",
       "\n",
       "   feature_2_3  feature_3_1  feature_3_2  feature_4_1  feature_4_2  \\\n",
       "0        False         True        False         True        False   \n",
       "1        False         True        False         True        False   \n",
       "2        False         True        False        False        False   \n",
       "3        False         True        False        False        False   \n",
       "4        False        False         True         True        False   \n",
       "\n",
       "   feature_4_3  feature_5_1  feature_5_2  feature_5_3  feature_5_4  \\\n",
       "0        False        False        False         True        False   \n",
       "1        False        False        False         True        False   \n",
       "2         True        False         True        False        False   \n",
       "3         True        False        False         True        False   \n",
       "4        False        False         True        False        False   \n",
       "\n",
       "   feature_6_1  feature_6_2  \n",
       "0         True        False  \n",
       "1        False         True  \n",
       "2         True        False  \n",
       "3        False         True  \n",
       "4         True        False  "
      ]
     },
     "execution_count": 6,
     "metadata": {},
     "output_type": "execute_result"
    }
   ],
   "source": [
    "df_train_encoded = pd.get_dummies(df_train, columns=features)\n",
    "df_test_encoded = pd.get_dummies(df_test, columns=features)\n",
    "\n",
    "df_train_encoded, df_test_encoded = df_train_encoded.align(df_test_encoded, join='inner', axis=1)\n",
    "\n",
    "df_train_encoded.head()"
   ]
  },
  {
   "cell_type": "code",
   "execution_count": 7,
   "metadata": {
    "executionInfo": {
     "elapsed": 2,
     "status": "ok",
     "timestamp": 1705309947415,
     "user": {
      "displayName": "NUNZIO CANDUCI",
      "userId": "15156390205628808514"
     },
     "user_tz": -60
    },
    "id": "9x8aYolSDQHL"
   },
   "outputs": [],
   "source": [
    "features = df_train_encoded.columns.difference(['class'])\n",
    "\n",
    "X_train = df_train_encoded[features].to_numpy()\n",
    "y_train = df_train_encoded['class'].to_numpy()\n",
    "\n",
    "X_test = df_test_encoded[features].to_numpy()\n",
    "y_test = df_test_encoded['class'].to_numpy()"
   ]
  },
  {
   "cell_type": "markdown",
   "metadata": {
    "collapsed": false,
    "id": "ikYMHrVgDQHL"
   },
   "source": [
    "# Create model"
   ]
  },
  {
   "cell_type": "code",
   "execution_count": 8,
   "metadata": {
    "executionInfo": {
     "elapsed": 435,
     "status": "ok",
     "timestamp": 1705309951905,
     "user": {
      "displayName": "NUNZIO CANDUCI",
      "userId": "15156390205628808514"
     },
     "user_tz": -60
    },
    "id": "X7ZM2kLZDQHM"
   },
   "outputs": [],
   "source": [
    "model = MonkNeuralNetwork(input_dim=X_train.shape[1], verbose=0)"
   ]
  },
  {
   "cell_type": "code",
   "execution_count": 10,
   "metadata": {
    "colab": {
     "base_uri": "https://localhost:8080/",
     "height": 1000
    },
    "executionInfo": {
     "elapsed": 884033,
     "status": "ok",
     "timestamp": 1705310835933,
     "user": {
      "displayName": "NUNZIO CANDUCI",
      "userId": "15156390205628808514"
     },
     "user_tz": -60
    },
    "id": "tRHJ0aLTDQHM",
    "outputId": "7184bcb9-effd-4f63-9237-47427b114042"
   },
   "outputs": [
    {
     "name": "stdout",
     "output_type": "stream",
     "text": [
      "Fitting 5 folds for each of 6 candidates, totalling 30 fits\n"
     ]
    },
    {
     "name": "stderr",
     "output_type": "stream",
     "text": [
      "2024-01-19 15:40:02.845382: I metal_plugin/src/device/metal_device.cc:1154] Metal device set to: Apple M1\n",
      "2024-01-19 15:40:02.845560: I metal_plugin/src/device/metal_device.cc:296] systemMemory: 8.00 GB\n",
      "2024-01-19 15:40:02.845592: I metal_plugin/src/device/metal_device.cc:313] maxCacheSize: 2.67 GB\n",
      "2024-01-19 15:40:02.845978: I tensorflow/core/common_runtime/pluggable_device/pluggable_device_factory.cc:306] Could not identify NUMA node of platform GPU ID 0, defaulting to 0. Your kernel may not have been built with NUMA support.\n",
      "2024-01-19 15:40:02.846361: I tensorflow/core/common_runtime/pluggable_device/pluggable_device_factory.cc:272] Created TensorFlow device (/job:localhost/replica:0/task:0/device:GPU:0 with 0 MB memory) -> physical PluggableDevice (device: 0, name: METAL, pci bus id: <undefined>)\n",
      "2024-01-19 15:40:03.146258: I metal_plugin/src/device/metal_device.cc:1154] Metal device set to: Apple M1\n",
      "2024-01-19 15:40:03.146568: I metal_plugin/src/device/metal_device.cc:296] systemMemory: 8.00 GB\n",
      "2024-01-19 15:40:03.146602: I metal_plugin/src/device/metal_device.cc:313] maxCacheSize: 2.67 GB\n",
      "2024-01-19 15:40:03.147258: I tensorflow/core/common_runtime/pluggable_device/pluggable_device_factory.cc:306] Could not identify NUMA node of platform GPU ID 0, defaulting to 0. Your kernel may not have been built with NUMA support.\n",
      "2024-01-19 15:40:03.147389: I tensorflow/core/common_runtime/pluggable_device/pluggable_device_factory.cc:272] Created TensorFlow device (/job:localhost/replica:0/task:0/device:GPU:0 with 0 MB memory) -> physical PluggableDevice (device: 0, name: METAL, pci bus id: <undefined>)\n",
      "2024-01-19 15:40:03.211897: I metal_plugin/src/device/metal_device.cc:1154] Metal device set to: Apple M1\n",
      "2024-01-19 15:40:03.211935: I metal_plugin/src/device/metal_device.cc:296] systemMemory: 8.00 GB\n",
      "2024-01-19 15:40:03.211948: I metal_plugin/src/device/metal_device.cc:313] maxCacheSize: 2.67 GB\n",
      "2024-01-19 15:40:03.211989: I tensorflow/core/common_runtime/pluggable_device/pluggable_device_factory.cc:306] Could not identify NUMA node of platform GPU ID 0, defaulting to 0. Your kernel may not have been built with NUMA support.\n",
      "2024-01-19 15:40:03.212007: I tensorflow/core/common_runtime/pluggable_device/pluggable_device_factory.cc:272] Created TensorFlow device (/job:localhost/replica:0/task:0/device:GPU:0 with 0 MB memory) -> physical PluggableDevice (device: 0, name: METAL, pci bus id: <undefined>)\n",
      "2024-01-19 15:40:03.222377: I metal_plugin/src/device/metal_device.cc:1154] Metal device set to: Apple M1\n",
      "2024-01-19 15:40:03.222457: I metal_plugin/src/device/metal_device.cc:296] systemMemory: 8.00 GB\n",
      "2024-01-19 15:40:03.222497: I metal_plugin/src/device/metal_device.cc:313] maxCacheSize: 2.67 GB\n",
      "2024-01-19 15:40:03.222590: I tensorflow/core/common_runtime/pluggable_device/pluggable_device_factory.cc:306] Could not identify NUMA node of platform GPU ID 0, defaulting to 0. Your kernel may not have been built with NUMA support.\n",
      "2024-01-19 15:40:03.222659: I tensorflow/core/common_runtime/pluggable_device/pluggable_device_factory.cc:272] Created TensorFlow device (/job:localhost/replica:0/task:0/device:GPU:0 with 0 MB memory) -> physical PluggableDevice (device: 0, name: METAL, pci bus id: <undefined>)\n",
      "2024-01-19 15:40:03.225107: I metal_plugin/src/device/metal_device.cc:1154] Metal device set to: Apple M1\n",
      "2024-01-19 15:40:03.225242: I metal_plugin/src/device/metal_device.cc:296] systemMemory: 8.00 GB\n",
      "2024-01-19 15:40:03.225254: I metal_plugin/src/device/metal_device.cc:313] maxCacheSize: 2.67 GB\n",
      "2024-01-19 15:40:03.225317: I tensorflow/core/common_runtime/pluggable_device/pluggable_device_factory.cc:306] Could not identify NUMA node of platform GPU ID 0, defaulting to 0. Your kernel may not have been built with NUMA support.\n",
      "2024-01-19 15:40:03.225354: I tensorflow/core/common_runtime/pluggable_device/pluggable_device_factory.cc:272] Created TensorFlow device (/job:localhost/replica:0/task:0/device:GPU:0 with 0 MB memory) -> physical PluggableDevice (device: 0, name: METAL, pci bus id: <undefined>)\n",
      "2024-01-19 15:40:03.311563: I metal_plugin/src/device/metal_device.cc:1154] Metal device set to: Apple M1\n",
      "2024-01-19 15:40:03.311589: I metal_plugin/src/device/metal_device.cc:296] systemMemory: 8.00 GB\n",
      "2024-01-19 15:40:03.311599: I metal_plugin/src/device/metal_device.cc:313] maxCacheSize: 2.67 GB\n",
      "2024-01-19 15:40:03.311632: I tensorflow/core/common_runtime/pluggable_device/pluggable_device_factory.cc:306] Could not identify NUMA node of platform GPU ID 0, defaulting to 0. Your kernel may not have been built with NUMA support.\n",
      "2024-01-19 15:40:03.311645: I tensorflow/core/common_runtime/pluggable_device/pluggable_device_factory.cc:272] Created TensorFlow device (/job:localhost/replica:0/task:0/device:GPU:0 with 0 MB memory) -> physical PluggableDevice (device: 0, name: METAL, pci bus id: <undefined>)\n",
      "2024-01-19 15:40:03.368353: I metal_plugin/src/device/metal_device.cc:1154] Metal device set to: Apple M1\n",
      "2024-01-19 15:40:03.368379: I metal_plugin/src/device/metal_device.cc:296] systemMemory: 8.00 GB\n",
      "2024-01-19 15:40:03.368388: I metal_plugin/src/device/metal_device.cc:313] maxCacheSize: 2.67 GB\n",
      "2024-01-19 15:40:03.368419: I tensorflow/core/common_runtime/pluggable_device/pluggable_device_factory.cc:306] Could not identify NUMA node of platform GPU ID 0, defaulting to 0. Your kernel may not have been built with NUMA support.\n",
      "2024-01-19 15:40:03.368434: I tensorflow/core/common_runtime/pluggable_device/pluggable_device_factory.cc:272] Created TensorFlow device (/job:localhost/replica:0/task:0/device:GPU:0 with 0 MB memory) -> physical PluggableDevice (device: 0, name: METAL, pci bus id: <undefined>)\n",
      "2024-01-19 15:40:03.518248: I metal_plugin/src/device/metal_device.cc:1154] Metal device set to: Apple M1\n",
      "2024-01-19 15:40:03.518299: I metal_plugin/src/device/metal_device.cc:296] systemMemory: 8.00 GB\n",
      "2024-01-19 15:40:03.518349: I metal_plugin/src/device/metal_device.cc:313] maxCacheSize: 2.67 GB\n",
      "2024-01-19 15:40:03.518499: I tensorflow/core/common_runtime/pluggable_device/pluggable_device_factory.cc:306] Could not identify NUMA node of platform GPU ID 0, defaulting to 0. Your kernel may not have been built with NUMA support.\n",
      "2024-01-19 15:40:03.518542: I tensorflow/core/common_runtime/pluggable_device/pluggable_device_factory.cc:272] Created TensorFlow device (/job:localhost/replica:0/task:0/device:GPU:0 with 0 MB memory) -> physical PluggableDevice (device: 0, name: METAL, pci bus id: <undefined>)\n",
      "2024-01-19 15:40:03.793277: I tensorflow/core/grappler/optimizers/custom_graph_optimizer_registry.cc:117] Plugin optimizer for device_type GPU is enabled.\n",
      "2024-01-19 15:40:04.005769: I tensorflow/core/grappler/optimizers/custom_graph_optimizer_registry.cc:117] Plugin optimizer for device_type GPU is enabled.\n",
      "2024-01-19 15:40:04.018534: I tensorflow/core/grappler/optimizers/custom_graph_optimizer_registry.cc:117] Plugin optimizer for device_type GPU is enabled.\n",
      "2024-01-19 15:40:04.019281: I tensorflow/core/grappler/optimizers/custom_graph_optimizer_registry.cc:117] Plugin optimizer for device_type GPU is enabled.\n",
      "2024-01-19 15:40:04.020842: I tensorflow/core/grappler/optimizers/custom_graph_optimizer_registry.cc:117] Plugin optimizer for device_type GPU is enabled.\n",
      "2024-01-19 15:40:04.186124: I tensorflow/core/grappler/optimizers/custom_graph_optimizer_registry.cc:117] Plugin optimizer for device_type GPU is enabled.\n",
      "2024-01-19 15:40:04.199278: I tensorflow/core/grappler/optimizers/custom_graph_optimizer_registry.cc:117] Plugin optimizer for device_type GPU is enabled.\n",
      "2024-01-19 15:40:04.309584: I tensorflow/core/grappler/optimizers/custom_graph_optimizer_registry.cc:117] Plugin optimizer for device_type GPU is enabled.\n",
      "/Users/nunzio/miniforge3/envs/ML23/lib/python3.9/site-packages/sklearn/model_selection/_validation.py:821: UserWarning: Scoring failed. The score on this train-test partition for these parameters will be set to nan. Details: \n",
      "Traceback (most recent call last):\n",
      "  File \"/Users/nunzio/miniforge3/envs/ML23/lib/python3.9/site-packages/sklearn/model_selection/_validation.py\", line 810, in _score\n",
      "    scores = scorer(estimator, X_test, y_test)\n",
      "  File \"/Users/nunzio/miniforge3/envs/ML23/lib/python3.9/site-packages/sklearn/metrics/_scorer.py\", line 266, in __call__\n",
      "    return self._score(partial(_cached_call, None), estimator, X, y_true, **_kwargs)\n",
      "  File \"/Users/nunzio/miniforge3/envs/ML23/lib/python3.9/site-packages/sklearn/metrics/_scorer.py\", line 353, in _score\n",
      "    y_pred = method_caller(estimator, \"predict\", X)\n",
      "  File \"/Users/nunzio/miniforge3/envs/ML23/lib/python3.9/site-packages/sklearn/metrics/_scorer.py\", line 86, in _cached_call\n",
      "    result, _ = _get_response_values(\n",
      "  File \"/Users/nunzio/miniforge3/envs/ML23/lib/python3.9/site-packages/sklearn/utils/_response.py\", line 182, in _get_response_values\n",
      "    classes = estimator.classes_\n",
      "AttributeError: 'MonkNeuralNetwork' object has no attribute 'classes_'\n",
      "\n",
      "  warnings.warn(\n",
      "/Users/nunzio/miniforge3/envs/ML23/lib/python3.9/site-packages/sklearn/model_selection/_validation.py:821: UserWarning: Scoring failed. The score on this train-test partition for these parameters will be set to nan. Details: \n",
      "Traceback (most recent call last):\n",
      "  File \"/Users/nunzio/miniforge3/envs/ML23/lib/python3.9/site-packages/sklearn/model_selection/_validation.py\", line 810, in _score\n",
      "    scores = scorer(estimator, X_test, y_test)\n",
      "  File \"/Users/nunzio/miniforge3/envs/ML23/lib/python3.9/site-packages/sklearn/metrics/_scorer.py\", line 266, in __call__\n",
      "    return self._score(partial(_cached_call, None), estimator, X, y_true, **_kwargs)\n",
      "  File \"/Users/nunzio/miniforge3/envs/ML23/lib/python3.9/site-packages/sklearn/metrics/_scorer.py\", line 353, in _score\n",
      "    y_pred = method_caller(estimator, \"predict\", X)\n",
      "  File \"/Users/nunzio/miniforge3/envs/ML23/lib/python3.9/site-packages/sklearn/metrics/_scorer.py\", line 86, in _cached_call\n",
      "    result, _ = _get_response_values(\n",
      "  File \"/Users/nunzio/miniforge3/envs/ML23/lib/python3.9/site-packages/sklearn/utils/_response.py\", line 182, in _get_response_values\n",
      "    classes = estimator.classes_\n",
      "AttributeError: 'MonkNeuralNetwork' object has no attribute 'classes_'\n",
      "\n",
      "  warnings.warn(\n"
     ]
    },
    {
     "name": "stdout",
     "output_type": "stream",
     "text": [
      "[CV] END activation=relu, architecture=(8,), batch_size=8, epochs=200, lambda_value=0.01, learning_rate=0.1, momentum=0.8, optimizer=sgd, patience=6; total time=   7.7s\n",
      "[CV] END activation=relu, architecture=(8,), batch_size=8, epochs=200, lambda_value=0.01, learning_rate=0.1, momentum=0.8, optimizer=sgd, patience=6; total time=   8.5s\n"
     ]
    },
    {
     "name": "stderr",
     "output_type": "stream",
     "text": [
      "/Users/nunzio/miniforge3/envs/ML23/lib/python3.9/site-packages/sklearn/model_selection/_validation.py:821: UserWarning: Scoring failed. The score on this train-test partition for these parameters will be set to nan. Details: \n",
      "Traceback (most recent call last):\n",
      "  File \"/Users/nunzio/miniforge3/envs/ML23/lib/python3.9/site-packages/sklearn/model_selection/_validation.py\", line 810, in _score\n",
      "    scores = scorer(estimator, X_test, y_test)\n",
      "  File \"/Users/nunzio/miniforge3/envs/ML23/lib/python3.9/site-packages/sklearn/metrics/_scorer.py\", line 266, in __call__\n",
      "    return self._score(partial(_cached_call, None), estimator, X, y_true, **_kwargs)\n",
      "  File \"/Users/nunzio/miniforge3/envs/ML23/lib/python3.9/site-packages/sklearn/metrics/_scorer.py\", line 353, in _score\n",
      "    y_pred = method_caller(estimator, \"predict\", X)\n",
      "  File \"/Users/nunzio/miniforge3/envs/ML23/lib/python3.9/site-packages/sklearn/metrics/_scorer.py\", line 86, in _cached_call\n",
      "    result, _ = _get_response_values(\n",
      "  File \"/Users/nunzio/miniforge3/envs/ML23/lib/python3.9/site-packages/sklearn/utils/_response.py\", line 182, in _get_response_values\n",
      "    classes = estimator.classes_\n",
      "AttributeError: 'MonkNeuralNetwork' object has no attribute 'classes_'\n",
      "\n",
      "  warnings.warn(\n"
     ]
    },
    {
     "name": "stdout",
     "output_type": "stream",
     "text": [
      "[CV] END activation=relu, architecture=(8,), batch_size=8, epochs=200, lambda_value=0.01, learning_rate=0.1, momentum=0.6, optimizer=sgd, patience=6; total time=   8.7s\n"
     ]
    },
    {
     "name": "stderr",
     "output_type": "stream",
     "text": [
      "/Users/nunzio/miniforge3/envs/ML23/lib/python3.9/site-packages/sklearn/model_selection/_validation.py:821: UserWarning: Scoring failed. The score on this train-test partition for these parameters will be set to nan. Details: \n",
      "Traceback (most recent call last):\n",
      "  File \"/Users/nunzio/miniforge3/envs/ML23/lib/python3.9/site-packages/sklearn/model_selection/_validation.py\", line 810, in _score\n",
      "    scores = scorer(estimator, X_test, y_test)\n",
      "  File \"/Users/nunzio/miniforge3/envs/ML23/lib/python3.9/site-packages/sklearn/metrics/_scorer.py\", line 266, in __call__\n",
      "    return self._score(partial(_cached_call, None), estimator, X, y_true, **_kwargs)\n",
      "  File \"/Users/nunzio/miniforge3/envs/ML23/lib/python3.9/site-packages/sklearn/metrics/_scorer.py\", line 353, in _score\n",
      "    y_pred = method_caller(estimator, \"predict\", X)\n",
      "  File \"/Users/nunzio/miniforge3/envs/ML23/lib/python3.9/site-packages/sklearn/metrics/_scorer.py\", line 86, in _cached_call\n",
      "    result, _ = _get_response_values(\n",
      "  File \"/Users/nunzio/miniforge3/envs/ML23/lib/python3.9/site-packages/sklearn/utils/_response.py\", line 182, in _get_response_values\n",
      "    classes = estimator.classes_\n",
      "AttributeError: 'MonkNeuralNetwork' object has no attribute 'classes_'\n",
      "\n",
      "  warnings.warn(\n"
     ]
    },
    {
     "name": "stdout",
     "output_type": "stream",
     "text": [
      "[CV] END activation=relu, architecture=(8,), batch_size=8, epochs=200, lambda_value=0.01, learning_rate=0.1, momentum=0.6, optimizer=sgd, patience=6; total time=  10.0s\n"
     ]
    },
    {
     "name": "stderr",
     "output_type": "stream",
     "text": [
      "/Users/nunzio/miniforge3/envs/ML23/lib/python3.9/site-packages/sklearn/model_selection/_validation.py:821: UserWarning: Scoring failed. The score on this train-test partition for these parameters will be set to nan. Details: \n",
      "Traceback (most recent call last):\n",
      "  File \"/Users/nunzio/miniforge3/envs/ML23/lib/python3.9/site-packages/sklearn/model_selection/_validation.py\", line 810, in _score\n",
      "    scores = scorer(estimator, X_test, y_test)\n",
      "  File \"/Users/nunzio/miniforge3/envs/ML23/lib/python3.9/site-packages/sklearn/metrics/_scorer.py\", line 266, in __call__\n",
      "    return self._score(partial(_cached_call, None), estimator, X, y_true, **_kwargs)\n",
      "  File \"/Users/nunzio/miniforge3/envs/ML23/lib/python3.9/site-packages/sklearn/metrics/_scorer.py\", line 353, in _score\n",
      "    y_pred = method_caller(estimator, \"predict\", X)\n",
      "  File \"/Users/nunzio/miniforge3/envs/ML23/lib/python3.9/site-packages/sklearn/metrics/_scorer.py\", line 86, in _cached_call\n",
      "    result, _ = _get_response_values(\n",
      "  File \"/Users/nunzio/miniforge3/envs/ML23/lib/python3.9/site-packages/sklearn/utils/_response.py\", line 182, in _get_response_values\n",
      "    classes = estimator.classes_\n",
      "AttributeError: 'MonkNeuralNetwork' object has no attribute 'classes_'\n",
      "\n",
      "  warnings.warn(\n"
     ]
    },
    {
     "name": "stdout",
     "output_type": "stream",
     "text": [
      "[CV] END activation=relu, architecture=(8,), batch_size=8, epochs=200, lambda_value=0.01, learning_rate=0.1, momentum=0.6, optimizer=sgd, patience=6; total time=  11.0s\n"
     ]
    },
    {
     "name": "stderr",
     "output_type": "stream",
     "text": [
      "/Users/nunzio/miniforge3/envs/ML23/lib/python3.9/site-packages/sklearn/model_selection/_validation.py:821: UserWarning: Scoring failed. The score on this train-test partition for these parameters will be set to nan. Details: \n",
      "Traceback (most recent call last):\n",
      "  File \"/Users/nunzio/miniforge3/envs/ML23/lib/python3.9/site-packages/sklearn/model_selection/_validation.py\", line 810, in _score\n",
      "    scores = scorer(estimator, X_test, y_test)\n",
      "  File \"/Users/nunzio/miniforge3/envs/ML23/lib/python3.9/site-packages/sklearn/metrics/_scorer.py\", line 266, in __call__\n",
      "    return self._score(partial(_cached_call, None), estimator, X, y_true, **_kwargs)\n",
      "  File \"/Users/nunzio/miniforge3/envs/ML23/lib/python3.9/site-packages/sklearn/metrics/_scorer.py\", line 353, in _score\n",
      "    y_pred = method_caller(estimator, \"predict\", X)\n",
      "  File \"/Users/nunzio/miniforge3/envs/ML23/lib/python3.9/site-packages/sklearn/metrics/_scorer.py\", line 86, in _cached_call\n",
      "    result, _ = _get_response_values(\n",
      "  File \"/Users/nunzio/miniforge3/envs/ML23/lib/python3.9/site-packages/sklearn/utils/_response.py\", line 182, in _get_response_values\n",
      "    classes = estimator.classes_\n",
      "AttributeError: 'MonkNeuralNetwork' object has no attribute 'classes_'\n",
      "\n",
      "  warnings.warn(\n"
     ]
    },
    {
     "name": "stdout",
     "output_type": "stream",
     "text": [
      "[CV] END activation=relu, architecture=(8,), batch_size=8, epochs=200, lambda_value=0.01, learning_rate=0.1, momentum=0.6, optimizer=sgd, patience=6; total time=  11.7s\n",
      "[CV] END activation=relu, architecture=(8,), batch_size=8, epochs=200, lambda_value=0.01, learning_rate=0.1, momentum=0.8, optimizer=sgd, patience=6; total time=   4.3s\n",
      "[CV] END activation=relu, architecture=(8,), batch_size=8, epochs=200, lambda_value=0.01, learning_rate=0.1, momentum=0.8, optimizer=sgd, patience=6; total time=   6.0s\n",
      "[CV] END activation=relu, architecture=(8,), batch_size=8, epochs=200, lambda_value=0.01, learning_rate=0.1, momentum=0.9, optimizer=sgd, patience=6; total time=   6.1s\n",
      "[CV] END activation=relu, architecture=(8,), batch_size=8, epochs=200, lambda_value=0.01, learning_rate=0.1, momentum=0.9, optimizer=sgd, patience=6; total time=   5.3s\n"
     ]
    },
    {
     "name": "stderr",
     "output_type": "stream",
     "text": [
      "/Users/nunzio/miniforge3/envs/ML23/lib/python3.9/site-packages/sklearn/model_selection/_validation.py:821: UserWarning: Scoring failed. The score on this train-test partition for these parameters will be set to nan. Details: \n",
      "Traceback (most recent call last):\n",
      "  File \"/Users/nunzio/miniforge3/envs/ML23/lib/python3.9/site-packages/sklearn/model_selection/_validation.py\", line 810, in _score\n",
      "    scores = scorer(estimator, X_test, y_test)\n",
      "  File \"/Users/nunzio/miniforge3/envs/ML23/lib/python3.9/site-packages/sklearn/metrics/_scorer.py\", line 266, in __call__\n",
      "    return self._score(partial(_cached_call, None), estimator, X, y_true, **_kwargs)\n",
      "  File \"/Users/nunzio/miniforge3/envs/ML23/lib/python3.9/site-packages/sklearn/metrics/_scorer.py\", line 353, in _score\n",
      "    y_pred = method_caller(estimator, \"predict\", X)\n",
      "  File \"/Users/nunzio/miniforge3/envs/ML23/lib/python3.9/site-packages/sklearn/metrics/_scorer.py\", line 86, in _cached_call\n",
      "    result, _ = _get_response_values(\n",
      "  File \"/Users/nunzio/miniforge3/envs/ML23/lib/python3.9/site-packages/sklearn/utils/_response.py\", line 182, in _get_response_values\n",
      "    classes = estimator.classes_\n",
      "AttributeError: 'MonkNeuralNetwork' object has no attribute 'classes_'\n",
      "\n",
      "  warnings.warn(\n"
     ]
    },
    {
     "name": "stdout",
     "output_type": "stream",
     "text": [
      "[CV] END activation=relu, architecture=(8,), batch_size=8, epochs=200, lambda_value=0.01, learning_rate=0.1, momentum=0.8, optimizer=sgd, patience=6; total time=  17.0s\n",
      "[CV] END activation=relu, architecture=(8,), batch_size=8, epochs=200, lambda_value=0.01, learning_rate=0.1, momentum=0.9, optimizer=sgd, patience=6; total time=   6.2s\n"
     ]
    },
    {
     "name": "stderr",
     "output_type": "stream",
     "text": [
      "/Users/nunzio/miniforge3/envs/ML23/lib/python3.9/site-packages/sklearn/model_selection/_validation.py:821: UserWarning: Scoring failed. The score on this train-test partition for these parameters will be set to nan. Details: \n",
      "Traceback (most recent call last):\n",
      "  File \"/Users/nunzio/miniforge3/envs/ML23/lib/python3.9/site-packages/sklearn/model_selection/_validation.py\", line 810, in _score\n",
      "    scores = scorer(estimator, X_test, y_test)\n",
      "  File \"/Users/nunzio/miniforge3/envs/ML23/lib/python3.9/site-packages/sklearn/metrics/_scorer.py\", line 266, in __call__\n",
      "    return self._score(partial(_cached_call, None), estimator, X, y_true, **_kwargs)\n",
      "  File \"/Users/nunzio/miniforge3/envs/ML23/lib/python3.9/site-packages/sklearn/metrics/_scorer.py\", line 353, in _score\n",
      "    y_pred = method_caller(estimator, \"predict\", X)\n",
      "  File \"/Users/nunzio/miniforge3/envs/ML23/lib/python3.9/site-packages/sklearn/metrics/_scorer.py\", line 86, in _cached_call\n",
      "    result, _ = _get_response_values(\n",
      "  File \"/Users/nunzio/miniforge3/envs/ML23/lib/python3.9/site-packages/sklearn/utils/_response.py\", line 182, in _get_response_values\n",
      "    classes = estimator.classes_\n",
      "AttributeError: 'MonkNeuralNetwork' object has no attribute 'classes_'\n",
      "\n",
      "  warnings.warn(\n"
     ]
    },
    {
     "name": "stdout",
     "output_type": "stream",
     "text": [
      "[CV] END activation=relu, architecture=(8,), batch_size=8, epochs=200, lambda_value=0.01, learning_rate=0.1, momentum=0.6, optimizer=sgd, patience=6; total time=  18.2s\n",
      "[CV] END activation=relu, architecture=(8,), batch_size=8, epochs=200, lambda_value=0.01, learning_rate=0.1, momentum=0.9, optimizer=sgd, patience=6; total time=   6.8s\n",
      "[CV] END activation=relu, architecture=(8,), batch_size=8, epochs=200, lambda_value=0.01, learning_rate=0.1, momentum=0.9, optimizer=sgd, patience=6; total time=  10.5s\n",
      "[CV] END activation=relu, architecture=(8, 8), batch_size=8, epochs=200, lambda_value=0.01, learning_rate=0.1, momentum=0.8, optimizer=sgd, patience=6; total time=   8.9s\n",
      "[CV] END activation=relu, architecture=(8, 8), batch_size=8, epochs=200, lambda_value=0.01, learning_rate=0.1, momentum=0.6, optimizer=sgd, patience=6; total time=  14.1s\n",
      "[CV] END activation=relu, architecture=(8, 8), batch_size=8, epochs=200, lambda_value=0.01, learning_rate=0.1, momentum=0.8, optimizer=sgd, patience=6; total time=  12.3s\n",
      "[CV] END activation=relu, architecture=(8, 8), batch_size=8, epochs=200, lambda_value=0.01, learning_rate=0.1, momentum=0.6, optimizer=sgd, patience=6; total time=  14.5s\n",
      "[CV] END activation=relu, architecture=(8, 8), batch_size=8, epochs=200, lambda_value=0.01, learning_rate=0.1, momentum=0.8, optimizer=sgd, patience=6; total time=   9.4s\n",
      "[CV] END activation=relu, architecture=(8, 8), batch_size=8, epochs=200, lambda_value=0.01, learning_rate=0.1, momentum=0.6, optimizer=sgd, patience=6; total time=  19.0s\n",
      "[CV] END activation=relu, architecture=(8, 8), batch_size=8, epochs=200, lambda_value=0.01, learning_rate=0.1, momentum=0.6, optimizer=sgd, patience=6; total time=  19.5s\n",
      "[CV] END activation=relu, architecture=(8, 8), batch_size=8, epochs=200, lambda_value=0.01, learning_rate=0.1, momentum=0.9, optimizer=sgd, patience=6; total time=   6.9s\n",
      "[CV] END activation=relu, architecture=(8, 8), batch_size=8, epochs=200, lambda_value=0.01, learning_rate=0.1, momentum=0.8, optimizer=sgd, patience=6; total time=  10.0s\n",
      "[CV] END activation=relu, architecture=(8, 8), batch_size=8, epochs=200, lambda_value=0.01, learning_rate=0.1, momentum=0.9, optimizer=sgd, patience=6; total time=   8.7s\n",
      "[CV] END activation=relu, architecture=(8, 8), batch_size=8, epochs=200, lambda_value=0.01, learning_rate=0.1, momentum=0.9, optimizer=sgd, patience=6; total time=   7.9s\n",
      "[CV] END activation=relu, architecture=(8, 8), batch_size=8, epochs=200, lambda_value=0.01, learning_rate=0.1, momentum=0.6, optimizer=sgd, patience=6; total time=  23.7s\n",
      "[CV] END activation=relu, architecture=(8, 8), batch_size=8, epochs=200, lambda_value=0.01, learning_rate=0.1, momentum=0.9, optimizer=sgd, patience=6; total time=   8.1s\n",
      "[CV] END activation=relu, architecture=(8, 8), batch_size=8, epochs=200, lambda_value=0.01, learning_rate=0.1, momentum=0.8, optimizer=sgd, patience=6; total time=  12.5s\n",
      "[CV] END activation=relu, architecture=(8, 8), batch_size=8, epochs=200, lambda_value=0.01, learning_rate=0.1, momentum=0.9, optimizer=sgd, patience=6; total time=   5.1s\n"
     ]
    },
    {
     "name": "stderr",
     "output_type": "stream",
     "text": [
      "/Users/nunzio/miniforge3/envs/ML23/lib/python3.9/site-packages/sklearn/model_selection/_search.py:979: UserWarning: One or more of the test scores are non-finite: [nan nan nan nan nan nan]\n",
      "  warnings.warn(\n",
      "2024-01-19 15:40:45.097467: I metal_plugin/src/device/metal_device.cc:1154] Metal device set to: Apple M1\n",
      "2024-01-19 15:40:45.097536: I metal_plugin/src/device/metal_device.cc:296] systemMemory: 8.00 GB\n",
      "2024-01-19 15:40:45.097551: I metal_plugin/src/device/metal_device.cc:313] maxCacheSize: 2.67 GB\n",
      "2024-01-19 15:40:45.097766: I tensorflow/core/common_runtime/pluggable_device/pluggable_device_factory.cc:306] Could not identify NUMA node of platform GPU ID 0, defaulting to 0. Your kernel may not have been built with NUMA support.\n",
      "2024-01-19 15:40:45.097788: I tensorflow/core/common_runtime/pluggable_device/pluggable_device_factory.cc:272] Created TensorFlow device (/job:localhost/replica:0/task:0/device:GPU:0 with 0 MB memory) -> physical PluggableDevice (device: 0, name: METAL, pci bus id: <undefined>)\n",
      "2024-01-19 15:40:45.454252: I tensorflow/core/grappler/optimizers/custom_graph_optimizer_registry.cc:117] Plugin optimizer for device_type GPU is enabled.\n"
     ]
    },
    {
     "data": {
      "text/html": [
       "<style>#sk-container-id-1 {color: black;}#sk-container-id-1 pre{padding: 0;}#sk-container-id-1 div.sk-toggleable {background-color: white;}#sk-container-id-1 label.sk-toggleable__label {cursor: pointer;display: block;width: 100%;margin-bottom: 0;padding: 0.3em;box-sizing: border-box;text-align: center;}#sk-container-id-1 label.sk-toggleable__label-arrow:before {content: \"▸\";float: left;margin-right: 0.25em;color: #696969;}#sk-container-id-1 label.sk-toggleable__label-arrow:hover:before {color: black;}#sk-container-id-1 div.sk-estimator:hover label.sk-toggleable__label-arrow:before {color: black;}#sk-container-id-1 div.sk-toggleable__content {max-height: 0;max-width: 0;overflow: hidden;text-align: left;background-color: #f0f8ff;}#sk-container-id-1 div.sk-toggleable__content pre {margin: 0.2em;color: black;border-radius: 0.25em;background-color: #f0f8ff;}#sk-container-id-1 input.sk-toggleable__control:checked~div.sk-toggleable__content {max-height: 200px;max-width: 100%;overflow: auto;}#sk-container-id-1 input.sk-toggleable__control:checked~label.sk-toggleable__label-arrow:before {content: \"▾\";}#sk-container-id-1 div.sk-estimator input.sk-toggleable__control:checked~label.sk-toggleable__label {background-color: #d4ebff;}#sk-container-id-1 div.sk-label input.sk-toggleable__control:checked~label.sk-toggleable__label {background-color: #d4ebff;}#sk-container-id-1 input.sk-hidden--visually {border: 0;clip: rect(1px 1px 1px 1px);clip: rect(1px, 1px, 1px, 1px);height: 1px;margin: -1px;overflow: hidden;padding: 0;position: absolute;width: 1px;}#sk-container-id-1 div.sk-estimator {font-family: monospace;background-color: #f0f8ff;border: 1px dotted black;border-radius: 0.25em;box-sizing: border-box;margin-bottom: 0.5em;}#sk-container-id-1 div.sk-estimator:hover {background-color: #d4ebff;}#sk-container-id-1 div.sk-parallel-item::after {content: \"\";width: 100%;border-bottom: 1px solid gray;flex-grow: 1;}#sk-container-id-1 div.sk-label:hover label.sk-toggleable__label {background-color: #d4ebff;}#sk-container-id-1 div.sk-serial::before {content: \"\";position: absolute;border-left: 1px solid gray;box-sizing: border-box;top: 0;bottom: 0;left: 50%;z-index: 0;}#sk-container-id-1 div.sk-serial {display: flex;flex-direction: column;align-items: center;background-color: white;padding-right: 0.2em;padding-left: 0.2em;position: relative;}#sk-container-id-1 div.sk-item {position: relative;z-index: 1;}#sk-container-id-1 div.sk-parallel {display: flex;align-items: stretch;justify-content: center;background-color: white;position: relative;}#sk-container-id-1 div.sk-item::before, #sk-container-id-1 div.sk-parallel-item::before {content: \"\";position: absolute;border-left: 1px solid gray;box-sizing: border-box;top: 0;bottom: 0;left: 50%;z-index: -1;}#sk-container-id-1 div.sk-parallel-item {display: flex;flex-direction: column;z-index: 1;position: relative;background-color: white;}#sk-container-id-1 div.sk-parallel-item:first-child::after {align-self: flex-end;width: 50%;}#sk-container-id-1 div.sk-parallel-item:last-child::after {align-self: flex-start;width: 50%;}#sk-container-id-1 div.sk-parallel-item:only-child::after {width: 0;}#sk-container-id-1 div.sk-dashed-wrapped {border: 1px dashed gray;margin: 0 0.4em 0.5em 0.4em;box-sizing: border-box;padding-bottom: 0.4em;background-color: white;}#sk-container-id-1 div.sk-label label {font-family: monospace;font-weight: bold;display: inline-block;line-height: 1.2em;}#sk-container-id-1 div.sk-label-container {text-align: center;}#sk-container-id-1 div.sk-container {/* jupyter's `normalize.less` sets `[hidden] { display: none; }` but bootstrap.min.css set `[hidden] { display: none !important; }` so we also need the `!important` here to be able to override the default hidden behavior on the sphinx rendered scikit-learn.org. See: https://github.com/scikit-learn/scikit-learn/issues/21755 */display: inline-block !important;position: relative;}#sk-container-id-1 div.sk-text-repr-fallback {display: none;}</style><div id=\"sk-container-id-1\" class=\"sk-top-container\"><div class=\"sk-text-repr-fallback\"><pre>GridSearchCV(cv=5, estimator=MonkNeuralNetwork(verbose=0), n_jobs=-1,\n",
       "             param_grid={&#x27;activation&#x27;: [&#x27;relu&#x27;], &#x27;architecture&#x27;: [(8,), (8, 8)],\n",
       "                         &#x27;batch_size&#x27;: [8], &#x27;epochs&#x27;: [200],\n",
       "                         &#x27;lambda_value&#x27;: [0.01], &#x27;learning_rate&#x27;: [0.1],\n",
       "                         &#x27;momentum&#x27;: [0.6, 0.8, 0.9], &#x27;optimizer&#x27;: [&#x27;sgd&#x27;],\n",
       "                         &#x27;patience&#x27;: [6]},\n",
       "             scoring=&#x27;accuracy&#x27;, verbose=2)</pre><b>In a Jupyter environment, please rerun this cell to show the HTML representation or trust the notebook. <br />On GitHub, the HTML representation is unable to render, please try loading this page with nbviewer.org.</b></div><div class=\"sk-container\" hidden><div class=\"sk-item sk-dashed-wrapped\"><div class=\"sk-label-container\"><div class=\"sk-label sk-toggleable\"><input class=\"sk-toggleable__control sk-hidden--visually\" id=\"sk-estimator-id-1\" type=\"checkbox\" ><label for=\"sk-estimator-id-1\" class=\"sk-toggleable__label sk-toggleable__label-arrow\">GridSearchCV</label><div class=\"sk-toggleable__content\"><pre>GridSearchCV(cv=5, estimator=MonkNeuralNetwork(verbose=0), n_jobs=-1,\n",
       "             param_grid={&#x27;activation&#x27;: [&#x27;relu&#x27;], &#x27;architecture&#x27;: [(8,), (8, 8)],\n",
       "                         &#x27;batch_size&#x27;: [8], &#x27;epochs&#x27;: [200],\n",
       "                         &#x27;lambda_value&#x27;: [0.01], &#x27;learning_rate&#x27;: [0.1],\n",
       "                         &#x27;momentum&#x27;: [0.6, 0.8, 0.9], &#x27;optimizer&#x27;: [&#x27;sgd&#x27;],\n",
       "                         &#x27;patience&#x27;: [6]},\n",
       "             scoring=&#x27;accuracy&#x27;, verbose=2)</pre></div></div></div><div class=\"sk-parallel\"><div class=\"sk-parallel-item\"><div class=\"sk-item\"><div class=\"sk-label-container\"><div class=\"sk-label sk-toggleable\"><input class=\"sk-toggleable__control sk-hidden--visually\" id=\"sk-estimator-id-2\" type=\"checkbox\" ><label for=\"sk-estimator-id-2\" class=\"sk-toggleable__label sk-toggleable__label-arrow\">estimator: MonkNeuralNetwork</label><div class=\"sk-toggleable__content\"><pre>MonkNeuralNetwork(verbose=0)</pre></div></div></div><div class=\"sk-serial\"><div class=\"sk-item\"><div class=\"sk-estimator sk-toggleable\"><input class=\"sk-toggleable__control sk-hidden--visually\" id=\"sk-estimator-id-3\" type=\"checkbox\" ><label for=\"sk-estimator-id-3\" class=\"sk-toggleable__label sk-toggleable__label-arrow\">MonkNeuralNetwork</label><div class=\"sk-toggleable__content\"><pre>MonkNeuralNetwork(verbose=0)</pre></div></div></div></div></div></div></div></div></div></div>"
      ],
      "text/plain": [
       "GridSearchCV(cv=5, estimator=MonkNeuralNetwork(verbose=0), n_jobs=-1,\n",
       "             param_grid={'activation': ['relu'], 'architecture': [(8,), (8, 8)],\n",
       "                         'batch_size': [8], 'epochs': [200],\n",
       "                         'lambda_value': [0.01], 'learning_rate': [0.1],\n",
       "                         'momentum': [0.6, 0.8, 0.9], 'optimizer': ['sgd'],\n",
       "                         'patience': [6]},\n",
       "             scoring='accuracy', verbose=2)"
      ]
     },
     "execution_count": 10,
     "metadata": {},
     "output_type": "execute_result"
    }
   ],
   "source": [
    "from sklearn.model_selection import GridSearchCV\n",
    "\n",
    "param_grid = {\n",
    "    'architecture': [\n",
    "        (8,), (8, 8), (8, 8, 8), (8, 8, 8, 8)\n",
    "    ],\n",
    "    'optimizer': ['sgd'],\n",
    "    'activation': ['relu'],\n",
    "    'learning_rate': [0.1, 0.3, 0.5],\n",
    "    'momentum': [0.6, 0.8, 0.9],\n",
    "    'lambda_value': [0.01],\n",
    "    'epochs': [200],\n",
    "    'batch_size': [8],\n",
    "    'patience': [6]\n",
    "}\n",
    "grid_search = GridSearchCV(\n",
    "    estimator=model,\n",
    "    param_grid=param_grid,\n",
    "    cv=5,\n",
    "    n_jobs=N_JOBS,\n",
    "    verbose=2,\n",
    "    scoring='accuracy'\n",
    ")\n",
    "\n",
    "grid_search.fit(X_train, y_train)"
   ]
  },
  {
   "cell_type": "code",
   "execution_count": 11,
   "metadata": {},
   "outputs": [],
   "source": [
    "results = grid_search.cv_results_\n",
    "\n",
    "# Converti i risultati in un DataFrame per una migliore visualizzazione\n",
    "results_df = pd.DataFrame(results)\n",
    "csv_filename = f\"Monk_NN_{MONK_TASK}.csv\"\n",
    "results_df.to_csv(csv_filename, index=False)"
   ]
  },
  {
   "cell_type": "code",
   "execution_count": 32,
   "metadata": {},
   "outputs": [],
   "source": [
    "\n",
    "from sklearn.model_selection import KFold\n",
    "\n",
    "cv = KFold(n_splits=5, shuffle=True, random_state=42)\n",
    "train_scores, test_scores = [], []\n",
    "\n",
    "best_params = grid_search.best_params_\n",
    "\n",
    "\n",
    "# Cross-validation con i migliori parametri\n",
    "for train_index, test_index in cv.split(X_train):\n",
    "    X_train_1, X_test_1 = X_train[train_index], X_train[test_index]\n",
    "    y_train_1, y_test_1 = y_train[train_index], y_train[test_index]\n",
    "    \n",
    "    best_model = MonkNeuralNetwork(input_dim=X_train_1.shape[1], verbose=0, **best_params)\n",
    "    best_model.fit(X_train_1, y_train_1, validation_data=(X_test_1, y_test_1))\n",
    "    \n",
    "    #df = best_model.history.history\n",
    "    train_scores.append(best_model.history.history)"
   ]
  },
  {
   "cell_type": "code",
   "execution_count": 22,
   "metadata": {},
   "outputs": [],
   "source": [
    "train_scores_df = pd.DataFrame(train_scores)"
   ]
  },
  {
   "cell_type": "code",
   "execution_count": null,
   "metadata": {},
   "outputs": [],
   "source": [
    "# TODO : \n",
    "# plottare risultati di ogni fold, plottando la media(o il best) dei fold e la varianza per ogni fold\n",
    "# hold out test set, usarlo per il model assestment \n",
    "# alla fine fare retrain di tutto compreso hold out test set prima di fare predict sui risultati di micheli "
   ]
  },
  {
   "cell_type": "code",
   "execution_count": 41,
   "metadata": {},
   "outputs": [
    {
     "data": {
      "text/plain": [
       "[[0.38247257471084595,\n",
       "  0.3527109622955322,\n",
       "  0.33312568068504333,\n",
       "  0.3153890371322632,\n",
       "  0.29734981060028076,\n",
       "  0.2872540056705475,\n",
       "  0.2744085192680359,\n",
       "  0.26684626936912537,\n",
       "  0.25725963711738586,\n",
       "  0.2530861794948578,\n",
       "  0.2530364990234375,\n",
       "  0.24381113052368164,\n",
       "  0.23737452924251556,\n",
       "  0.23881256580352783,\n",
       "  0.23551641404628754,\n",
       "  0.23358725011348724,\n",
       "  0.22846242785453796,\n",
       "  0.22916603088378906,\n",
       "  0.2255028784275055,\n",
       "  0.22855272889137268,\n",
       "  0.22006756067276,\n",
       "  0.21259425580501556,\n",
       "  0.21475425362586975,\n",
       "  0.20953451097011566,\n",
       "  0.2137918323278427,\n",
       "  0.20895114541053772,\n",
       "  0.2143259048461914,\n",
       "  0.20448806881904602,\n",
       "  0.21443703770637512,\n",
       "  0.2092023342847824,\n",
       "  0.20617450773715973,\n",
       "  0.2056771218776703,\n",
       "  0.20387975871562958,\n",
       "  0.2005126178264618,\n",
       "  0.20154818892478943,\n",
       "  0.2100171446800232,\n",
       "  0.20151197910308838,\n",
       "  0.19864588975906372,\n",
       "  0.19892454147338867,\n",
       "  0.19942227005958557,\n",
       "  0.20027942955493927,\n",
       "  0.19937512278556824,\n",
       "  0.2019125521183014,\n",
       "  0.19918084144592285,\n",
       "  0.1950189471244812,\n",
       "  0.21472643315792084,\n",
       "  0.20233964920043945,\n",
       "  0.2050687074661255,\n",
       "  0.20572514832019806,\n",
       "  0.19771245121955872,\n",
       "  0.20073331892490387,\n",
       "  0.19834622740745544,\n",
       "  0.19942887127399445,\n",
       "  0.19877319037914276,\n",
       "  0.20071664452552795,\n",
       "  0.20165827870368958,\n",
       "  0.20084039866924286,\n",
       "  0.20090541243553162,\n",
       "  0.20629699528217316,\n",
       "  0.20208726823329926,\n",
       "  0.19804644584655762,\n",
       "  0.20213954150676727,\n",
       "  0.20661619305610657,\n",
       "  0.20230236649513245,\n",
       "  0.20088739693164825,\n",
       "  0.20245005190372467,\n",
       "  0.19977255165576935,\n",
       "  0.20459863543510437,\n",
       "  0.20448002219200134,\n",
       "  0.20091573894023895,\n",
       "  0.20056793093681335,\n",
       "  0.20328879356384277,\n",
       "  0.20361188054084778,\n",
       "  0.20465782284736633,\n",
       "  0.20161035656929016,\n",
       "  0.2023012489080429,\n",
       "  0.20643365383148193,\n",
       "  0.2026045173406601,\n",
       "  0.20363742113113403,\n",
       "  0.20394136011600494,\n",
       "  0.2046143114566803,\n",
       "  0.20365267992019653,\n",
       "  0.20520086586475372,\n",
       "  0.20288720726966858,\n",
       "  0.20622822642326355,\n",
       "  0.20173875987529755,\n",
       "  0.2043561488389969,\n",
       "  0.20254522562026978,\n",
       "  0.20210057497024536,\n",
       "  0.2043563425540924,\n",
       "  0.20334962010383606,\n",
       "  0.20720022916793823,\n",
       "  0.20433038473129272,\n",
       "  0.20479106903076172,\n",
       "  0.20424090325832367,\n",
       "  0.20396658778190613,\n",
       "  0.20493105053901672,\n",
       "  0.20545662939548492,\n",
       "  0.20653608441352844,\n",
       "  0.20778191089630127,\n",
       "  0.20575813949108124,\n",
       "  0.20607466995716095,\n",
       "  0.20514465868473053,\n",
       "  0.20858454704284668,\n",
       "  0.2090381383895874,\n",
       "  0.20634031295776367,\n",
       "  0.20654505491256714,\n",
       "  0.2062762975692749,\n",
       "  0.2061304897069931,\n",
       "  0.2070918083190918,\n",
       "  0.20406857132911682,\n",
       "  0.20676147937774658,\n",
       "  0.20792683959007263,\n",
       "  0.2072373777627945,\n",
       "  0.20622135698795319,\n",
       "  0.20633414387702942,\n",
       "  0.2063632309436798,\n",
       "  0.2058064192533493,\n",
       "  0.20736001431941986,\n",
       "  0.21162721514701843,\n",
       "  0.20526805520057678,\n",
       "  0.2063974142074585,\n",
       "  0.21074753999710083,\n",
       "  0.21042367815971375,\n",
       "  0.2061198353767395]]"
      ]
     },
     "execution_count": 41,
     "metadata": {},
     "output_type": "execute_result"
    }
   ],
   "source": [
    "train_scores_df['val_loss']"
   ]
  },
  {
   "cell_type": "code",
   "execution_count": 34,
   "metadata": {},
   "outputs": [],
   "source": [
    "\n",
    "# Create dataframes for train_scores and test_scores\n",
    "train_scores_filename = f\"Monk_NN_{MONK_TASK}_train_scores.csv\"\n",
    "\n",
    "# Save dataframes to CSV files\n",
    "train_scores_df.to_csv(train_scores_filename, index=False)\n"
   ]
  },
  {
   "cell_type": "code",
   "execution_count": null,
   "metadata": {},
   "outputs": [],
   "source": [
    "final_model = grid_search.best_estimator_\n"
   ]
  },
  {
   "cell_type": "code",
   "execution_count": null,
   "metadata": {},
   "outputs": [],
   "source": [
    "final_model.history.history"
   ]
  },
  {
   "cell_type": "code",
   "execution_count": 35,
   "metadata": {
    "colab": {
     "base_uri": "https://localhost:8080/"
    },
    "executionInfo": {
     "elapsed": 10,
     "status": "ok",
     "timestamp": 1705310835934,
     "user": {
      "displayName": "NUNZIO CANDUCI",
      "userId": "15156390205628808514"
     },
     "user_tz": -60
    },
    "id": "9d_ljUrBDQHM",
    "outputId": "4fe79ce7-86b0-4e96-e499-2975e8aa8722"
   },
   "outputs": [
    {
     "name": "stdout",
     "output_type": "stream",
     "text": [
      "1/1 [==============================] - 0s 106ms/step\n",
      "Best parameters:  {'activation': 'relu', 'architecture': (8,), 'batch_size': 8, 'epochs': 200, 'lambda_value': 0.01, 'learning_rate': 0.1, 'momentum': 0.6, 'optimizer': 'sgd', 'patience': 6}\n",
      "Best accuracy:  nan\n",
      "Test set accuracy:  0.9230769230769231\n",
      "              precision    recall  f1-score   support\n",
      "\n",
      "           0       0.83      1.00      0.91         5\n",
      "           1       1.00      0.88      0.93         8\n",
      "\n",
      "    accuracy                           0.92        13\n",
      "   macro avg       0.92      0.94      0.92        13\n",
      "weighted avg       0.94      0.92      0.92        13\n",
      "\n"
     ]
    }
   ],
   "source": [
    "from sklearn.metrics import accuracy_score, classification_report\n",
    "\n",
    "# Test set accuracy hold-out\n",
    "\n",
    "final_model = grid_search.best_estimator_\n",
    "y_pred = final_model.predict(X_test)\n",
    "\n",
    "print('Best parameters: ', grid_search.best_params_)\n",
    "print('Best accuracy: ', grid_search.best_score_)\n",
    "print('Test set accuracy: ', accuracy_score(y_test, y_pred))\n",
    "print(classification_report(y_test, y_pred))"
   ]
  },
  {
   "cell_type": "markdown",
   "metadata": {
    "collapsed": false,
    "id": "tGooMwMCDQHM"
   },
   "source": [
    "# Learning curve"
   ]
  },
  {
   "cell_type": "code",
   "execution_count": null,
   "metadata": {
    "executionInfo": {
     "elapsed": 21201,
     "status": "ok",
     "timestamp": 1705310857127,
     "user": {
      "displayName": "NUNZIO CANDUCI",
      "userId": "15156390205628808514"
     },
     "user_tz": -60
    },
    "id": "IXWddoTMDQHM"
   },
   "outputs": [],
   "source": []
  },
  {
   "cell_type": "code",
   "execution_count": 37,
   "metadata": {
    "colab": {
     "base_uri": "https://localhost:8080/",
     "height": 479
    },
    "executionInfo": {
     "elapsed": 823,
     "status": "ok",
     "timestamp": 1705310857939,
     "user": {
      "displayName": "NUNZIO CANDUCI",
      "userId": "15156390205628808514"
     },
     "user_tz": -60
    },
    "id": "bP6Rtp_WDQHN",
    "outputId": "c64010ac-c305-47b8-8635-f0316db1f64e"
   },
   "outputs": [
    {
     "ename": "KeyError",
     "evalue": "0",
     "output_type": "error",
     "traceback": [
      "\u001b[0;31m---------------------------------------------------------------------------\u001b[0m",
      "\u001b[0;31mKeyError\u001b[0m                                  Traceback (most recent call last)",
      "File \u001b[0;32m~/miniforge3/envs/ML23/lib/python3.9/site-packages/pandas/core/indexes/base.py:3791\u001b[0m, in \u001b[0;36mIndex.get_loc\u001b[0;34m(self, key)\u001b[0m\n\u001b[1;32m   3790\u001b[0m \u001b[39mtry\u001b[39;00m:\n\u001b[0;32m-> 3791\u001b[0m     \u001b[39mreturn\u001b[39;00m \u001b[39mself\u001b[39;49m\u001b[39m.\u001b[39;49m_engine\u001b[39m.\u001b[39;49mget_loc(casted_key)\n\u001b[1;32m   3792\u001b[0m \u001b[39mexcept\u001b[39;00m \u001b[39mKeyError\u001b[39;00m \u001b[39mas\u001b[39;00m err:\n",
      "File \u001b[0;32mindex.pyx:152\u001b[0m, in \u001b[0;36mpandas._libs.index.IndexEngine.get_loc\u001b[0;34m()\u001b[0m\n",
      "File \u001b[0;32mindex.pyx:181\u001b[0m, in \u001b[0;36mpandas._libs.index.IndexEngine.get_loc\u001b[0;34m()\u001b[0m\n",
      "File \u001b[0;32mpandas/_libs/hashtable_class_helper.pxi:7080\u001b[0m, in \u001b[0;36mpandas._libs.hashtable.PyObjectHashTable.get_item\u001b[0;34m()\u001b[0m\n",
      "File \u001b[0;32mpandas/_libs/hashtable_class_helper.pxi:7088\u001b[0m, in \u001b[0;36mpandas._libs.hashtable.PyObjectHashTable.get_item\u001b[0;34m()\u001b[0m\n",
      "\u001b[0;31mKeyError\u001b[0m: 0",
      "\nThe above exception was the direct cause of the following exception:\n",
      "\u001b[0;31mKeyError\u001b[0m                                  Traceback (most recent call last)",
      "\u001b[1;32m/Users/nunzio/VIsualStudioProject/ML_Project23/machine-learning-project/src/monk/task-1/neural_network_training.ipynb Cell 23\u001b[0m line \u001b[0;36m1\n\u001b[0;32m----> <a href='vscode-notebook-cell:/Users/nunzio/VIsualStudioProject/ML_Project23/machine-learning-project/src/monk/task-1/neural_network_training.ipynb#X16sZmlsZQ%3D%3D?line=0'>1</a>\u001b[0m train_scores_df[[\u001b[39m'\u001b[39;49m\u001b[39mloss\u001b[39;49m\u001b[39m'\u001b[39;49m, \u001b[39m'\u001b[39;49m\u001b[39mval_loss\u001b[39;49m\u001b[39m'\u001b[39;49m]][\u001b[39m0\u001b[39;49m]\u001b[39m.\u001b[39mplot(\n\u001b[1;32m      <a href='vscode-notebook-cell:/Users/nunzio/VIsualStudioProject/ML_Project23/machine-learning-project/src/monk/task-1/neural_network_training.ipynb#X16sZmlsZQ%3D%3D?line=1'>2</a>\u001b[0m     figsize\u001b[39m=\u001b[39m(\u001b[39m8\u001b[39m, \u001b[39m5\u001b[39m),\n\u001b[1;32m      <a href='vscode-notebook-cell:/Users/nunzio/VIsualStudioProject/ML_Project23/machine-learning-project/src/monk/task-1/neural_network_training.ipynb#X16sZmlsZQ%3D%3D?line=2'>3</a>\u001b[0m     xlim\u001b[39m=\u001b[39m[\u001b[39m0\u001b[39m, \u001b[39m200\u001b[39m],\n\u001b[1;32m      <a href='vscode-notebook-cell:/Users/nunzio/VIsualStudioProject/ML_Project23/machine-learning-project/src/monk/task-1/neural_network_training.ipynb#X16sZmlsZQ%3D%3D?line=3'>4</a>\u001b[0m     ylim\u001b[39m=\u001b[39m[\u001b[39m0\u001b[39m, \u001b[39m2\u001b[39m],\n\u001b[1;32m      <a href='vscode-notebook-cell:/Users/nunzio/VIsualStudioProject/ML_Project23/machine-learning-project/src/monk/task-1/neural_network_training.ipynb#X16sZmlsZQ%3D%3D?line=4'>5</a>\u001b[0m     grid\u001b[39m=\u001b[39m\u001b[39mTrue\u001b[39;00m,\n\u001b[1;32m      <a href='vscode-notebook-cell:/Users/nunzio/VIsualStudioProject/ML_Project23/machine-learning-project/src/monk/task-1/neural_network_training.ipynb#X16sZmlsZQ%3D%3D?line=5'>6</a>\u001b[0m     xlabel\u001b[39m=\u001b[39m\u001b[39m'\u001b[39m\u001b[39mEpoch\u001b[39m\u001b[39m'\u001b[39m,\n\u001b[1;32m      <a href='vscode-notebook-cell:/Users/nunzio/VIsualStudioProject/ML_Project23/machine-learning-project/src/monk/task-1/neural_network_training.ipynb#X16sZmlsZQ%3D%3D?line=6'>7</a>\u001b[0m     style\u001b[39m=\u001b[39m[\u001b[39m'\u001b[39m\u001b[39mr--\u001b[39m\u001b[39m'\u001b[39m, \u001b[39m'\u001b[39m\u001b[39mb--\u001b[39m\u001b[39m'\u001b[39m],\n\u001b[1;32m      <a href='vscode-notebook-cell:/Users/nunzio/VIsualStudioProject/ML_Project23/machine-learning-project/src/monk/task-1/neural_network_training.ipynb#X16sZmlsZQ%3D%3D?line=7'>8</a>\u001b[0m     title\u001b[39m=\u001b[39m\u001b[39m'\u001b[39m\u001b[39mTraining and Validation Loss\u001b[39m\u001b[39m'\u001b[39m\n\u001b[1;32m      <a href='vscode-notebook-cell:/Users/nunzio/VIsualStudioProject/ML_Project23/machine-learning-project/src/monk/task-1/neural_network_training.ipynb#X16sZmlsZQ%3D%3D?line=8'>9</a>\u001b[0m )\n\u001b[1;32m     <a href='vscode-notebook-cell:/Users/nunzio/VIsualStudioProject/ML_Project23/machine-learning-project/src/monk/task-1/neural_network_training.ipynb#X16sZmlsZQ%3D%3D?line=9'>10</a>\u001b[0m plt\u001b[39m.\u001b[39mshow()\n",
      "File \u001b[0;32m~/miniforge3/envs/ML23/lib/python3.9/site-packages/pandas/core/frame.py:3893\u001b[0m, in \u001b[0;36mDataFrame.__getitem__\u001b[0;34m(self, key)\u001b[0m\n\u001b[1;32m   3891\u001b[0m \u001b[39mif\u001b[39;00m \u001b[39mself\u001b[39m\u001b[39m.\u001b[39mcolumns\u001b[39m.\u001b[39mnlevels \u001b[39m>\u001b[39m \u001b[39m1\u001b[39m:\n\u001b[1;32m   3892\u001b[0m     \u001b[39mreturn\u001b[39;00m \u001b[39mself\u001b[39m\u001b[39m.\u001b[39m_getitem_multilevel(key)\n\u001b[0;32m-> 3893\u001b[0m indexer \u001b[39m=\u001b[39m \u001b[39mself\u001b[39;49m\u001b[39m.\u001b[39;49mcolumns\u001b[39m.\u001b[39;49mget_loc(key)\n\u001b[1;32m   3894\u001b[0m \u001b[39mif\u001b[39;00m is_integer(indexer):\n\u001b[1;32m   3895\u001b[0m     indexer \u001b[39m=\u001b[39m [indexer]\n",
      "File \u001b[0;32m~/miniforge3/envs/ML23/lib/python3.9/site-packages/pandas/core/indexes/base.py:3798\u001b[0m, in \u001b[0;36mIndex.get_loc\u001b[0;34m(self, key)\u001b[0m\n\u001b[1;32m   3793\u001b[0m     \u001b[39mif\u001b[39;00m \u001b[39misinstance\u001b[39m(casted_key, \u001b[39mslice\u001b[39m) \u001b[39mor\u001b[39;00m (\n\u001b[1;32m   3794\u001b[0m         \u001b[39misinstance\u001b[39m(casted_key, abc\u001b[39m.\u001b[39mIterable)\n\u001b[1;32m   3795\u001b[0m         \u001b[39mand\u001b[39;00m \u001b[39many\u001b[39m(\u001b[39misinstance\u001b[39m(x, \u001b[39mslice\u001b[39m) \u001b[39mfor\u001b[39;00m x \u001b[39min\u001b[39;00m casted_key)\n\u001b[1;32m   3796\u001b[0m     ):\n\u001b[1;32m   3797\u001b[0m         \u001b[39mraise\u001b[39;00m InvalidIndexError(key)\n\u001b[0;32m-> 3798\u001b[0m     \u001b[39mraise\u001b[39;00m \u001b[39mKeyError\u001b[39;00m(key) \u001b[39mfrom\u001b[39;00m \u001b[39merr\u001b[39;00m\n\u001b[1;32m   3799\u001b[0m \u001b[39mexcept\u001b[39;00m \u001b[39mTypeError\u001b[39;00m:\n\u001b[1;32m   3800\u001b[0m     \u001b[39m# If we have a listlike key, _check_indexing_error will raise\u001b[39;00m\n\u001b[1;32m   3801\u001b[0m     \u001b[39m#  InvalidIndexError. Otherwise we fall through and re-raise\u001b[39;00m\n\u001b[1;32m   3802\u001b[0m     \u001b[39m#  the TypeError.\u001b[39;00m\n\u001b[1;32m   3803\u001b[0m     \u001b[39mself\u001b[39m\u001b[39m.\u001b[39m_check_indexing_error(key)\n",
      "\u001b[0;31mKeyError\u001b[0m: 0"
     ]
    }
   ],
   "source": [
    "train_scores_df[['loss', 'val_loss']].plot(\n",
    "    figsize=(8, 5),\n",
    "    xlim=[0, 200],\n",
    "    ylim=[0, 2],\n",
    "    grid=True,\n",
    "    xlabel='Epoch',\n",
    "    style=['r--', 'b--'],\n",
    "    title='Training and Validation Loss'\n",
    ")\n",
    "plt.show()"
   ]
  },
  {
   "cell_type": "code",
   "execution_count": null,
   "metadata": {
    "collapsed": false
   },
   "outputs": [],
   "source": [
    "history_df[['accuracy', 'val_accuracy']].plot(\n",
    "    figsize=(8, 5),\n",
    "    xlim=[0, 200],\n",
    "    ylim=[0, 1],\n",
    "    grid=True,\n",
    "    xlabel='Epoch',\n",
    "    style=['r--.', 'b--'],\n",
    "    title='Training and Validation Accuracy'\n",
    ")\n",
    "plt.show()"
   ]
  },
  {
   "cell_type": "markdown",
   "metadata": {
    "collapsed": false,
    "id": "YKTGu_82DQHN"
   },
   "source": [
    "# Save model"
   ]
  },
  {
   "cell_type": "code",
   "execution_count": null,
   "metadata": {
    "colab": {
     "base_uri": "https://localhost:8080/"
    },
    "executionInfo": {
     "elapsed": 1191,
     "status": "ok",
     "timestamp": 1705310859126,
     "user": {
      "displayName": "NUNZIO CANDUCI",
      "userId": "15156390205628808514"
     },
     "user_tz": -60
    },
    "id": "FX2AHFTHDQHN",
    "outputId": "e9a98feb-ecbd-40ef-c1ce-c1db37534acd"
   },
   "outputs": [],
   "source": [
    "from joblib import dump\n",
    "\n",
    "model_path = os.path.join(MODEL_FOLDER, 'NN_model.joblib')\n",
    "dump(final_model, model_path, compress=3)"
   ]
  }
 ],
 "metadata": {
  "accelerator": "TPU",
  "colab": {
   "provenance": []
  },
  "kernelspec": {
   "display_name": "Python 3 (ipykernel)",
   "language": "python",
   "name": "python3"
  },
  "language_info": {
   "codemirror_mode": {
    "name": "ipython",
    "version": 2
   },
   "file_extension": ".py",
   "mimetype": "text/x-python",
   "name": "python",
   "nbconvert_exporter": "python",
   "pygments_lexer": "ipython2",
   "version": "3.9.18"
  }
 },
 "nbformat": 4,
 "nbformat_minor": 0
}
