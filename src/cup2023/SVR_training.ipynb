{
 "cells": [
  {
   "cell_type": "code",
   "execution_count": 1,
   "metadata": {
    "ExecuteTime": {
     "end_time": "2024-01-09T23:47:26.622670Z",
     "start_time": "2024-01-09T23:47:26.583150Z"
    },
    "executionInfo": {
     "elapsed": 6,
     "status": "ok",
     "timestamp": 1706367870117,
     "user": {
      "displayName": "Paolo Junior Mollica",
      "userId": "04056476783609736856"
     },
     "user_tz": -60
    },
    "id": "F6U80hjZMuIe"
   },
   "outputs": [],
   "source": [
    "USER = 'Paolo'"
   ]
  },
  {
   "cell_type": "code",
   "execution_count": 2,
   "metadata": {
    "colab": {
     "base_uri": "https://localhost:8080/"
    },
    "executionInfo": {
     "elapsed": 20490,
     "status": "ok",
     "timestamp": 1706367890601,
     "user": {
      "displayName": "Paolo Junior Mollica",
      "userId": "04056476783609736856"
     },
     "user_tz": -60
    },
    "id": "ZJixlNYBMxj2",
    "outputId": "8162a2cb-1dc7-4488-8cec-184214b0ab6f"
   },
   "outputs": [
    {
     "name": "stdout",
     "output_type": "stream",
     "text": [
      "Drive already mounted at /content/drive; to attempt to forcibly remount, call drive.mount(\"/content/drive\", force_remount=True).\n",
      "Collecting optuna\n",
      "  Downloading optuna-3.5.0-py3-none-any.whl (413 kB)\n",
      "\u001b[2K     \u001b[90m━━━━━━━━━━━━━━━━━━━━━━━━━━━━━━━━━━━━━━━━\u001b[0m \u001b[32m413.4/413.4 kB\u001b[0m \u001b[31m9.3 MB/s\u001b[0m eta \u001b[36m0:00:00\u001b[0m\n",
      "\u001b[?25hCollecting alembic>=1.5.0 (from optuna)\n",
      "  Downloading alembic-1.13.1-py3-none-any.whl (233 kB)\n",
      "\u001b[2K     \u001b[90m━━━━━━━━━━━━━━━━━━━━━━━━━━━━━━━━━━━━━━━━\u001b[0m \u001b[32m233.4/233.4 kB\u001b[0m \u001b[31m29.6 MB/s\u001b[0m eta \u001b[36m0:00:00\u001b[0m\n",
      "\u001b[?25hCollecting colorlog (from optuna)\n",
      "  Downloading colorlog-6.8.2-py3-none-any.whl (11 kB)\n",
      "Requirement already satisfied: numpy in /usr/local/lib/python3.10/dist-packages (from optuna) (1.23.5)\n",
      "Requirement already satisfied: packaging>=20.0 in /usr/local/lib/python3.10/dist-packages (from optuna) (23.2)\n",
      "Requirement already satisfied: sqlalchemy>=1.3.0 in /usr/local/lib/python3.10/dist-packages (from optuna) (2.0.24)\n",
      "Requirement already satisfied: tqdm in /usr/local/lib/python3.10/dist-packages (from optuna) (4.66.1)\n",
      "Requirement already satisfied: PyYAML in /usr/local/lib/python3.10/dist-packages (from optuna) (6.0.1)\n",
      "Collecting Mako (from alembic>=1.5.0->optuna)\n",
      "  Downloading Mako-1.3.0-py3-none-any.whl (78 kB)\n",
      "\u001b[2K     \u001b[90m━━━━━━━━━━━━━━━━━━━━━━━━━━━━━━━━━━━━━━━━\u001b[0m \u001b[32m78.6/78.6 kB\u001b[0m \u001b[31m10.7 MB/s\u001b[0m eta \u001b[36m0:00:00\u001b[0m\n",
      "\u001b[?25hRequirement already satisfied: typing-extensions>=4 in /usr/local/lib/python3.10/dist-packages (from alembic>=1.5.0->optuna) (4.5.0)\n",
      "Requirement already satisfied: greenlet!=0.4.17 in /usr/local/lib/python3.10/dist-packages (from sqlalchemy>=1.3.0->optuna) (3.0.3)\n",
      "Requirement already satisfied: MarkupSafe>=0.9.2 in /usr/local/lib/python3.10/dist-packages (from Mako->alembic>=1.5.0->optuna) (2.1.4)\n",
      "Installing collected packages: Mako, colorlog, alembic, optuna\n",
      "Successfully installed Mako-1.3.0 alembic-1.13.1 colorlog-6.8.2 optuna-3.5.0\n",
      "Requirement already satisfied: scikit-learn in /usr/local/lib/python3.10/dist-packages (1.2.2)\n",
      "Requirement already satisfied: numpy>=1.17.3 in /usr/local/lib/python3.10/dist-packages (from scikit-learn) (1.23.5)\n",
      "Requirement already satisfied: scipy>=1.3.2 in /usr/local/lib/python3.10/dist-packages (from scikit-learn) (1.11.4)\n",
      "Requirement already satisfied: joblib>=1.1.1 in /usr/local/lib/python3.10/dist-packages (from scikit-learn) (1.3.2)\n",
      "Requirement already satisfied: threadpoolctl>=2.0.0 in /usr/local/lib/python3.10/dist-packages (from scikit-learn) (3.2.0)\n",
      "Collecting scikeras\n",
      "  Downloading scikeras-0.12.0-py3-none-any.whl (27 kB)\n",
      "Requirement already satisfied: packaging>=0.21 in /usr/local/lib/python3.10/dist-packages (from scikeras) (23.2)\n",
      "Requirement already satisfied: scikit-learn>=1.0.0 in /usr/local/lib/python3.10/dist-packages (from scikeras) (1.2.2)\n",
      "Requirement already satisfied: numpy>=1.17.3 in /usr/local/lib/python3.10/dist-packages (from scikit-learn>=1.0.0->scikeras) (1.23.5)\n",
      "Requirement already satisfied: scipy>=1.3.2 in /usr/local/lib/python3.10/dist-packages (from scikit-learn>=1.0.0->scikeras) (1.11.4)\n",
      "Requirement already satisfied: joblib>=1.1.1 in /usr/local/lib/python3.10/dist-packages (from scikit-learn>=1.0.0->scikeras) (1.3.2)\n",
      "Requirement already satisfied: threadpoolctl>=2.0.0 in /usr/local/lib/python3.10/dist-packages (from scikit-learn>=1.0.0->scikeras) (3.2.0)\n",
      "Installing collected packages: scikeras\n",
      "Successfully installed scikeras-0.12.0\n"
     ]
    }
   ],
   "source": [
    "import sys\n",
    "import os\n",
    "if (colab := 'google.colab' in sys.modules):\n",
    "    from google.colab import drive\n",
    "    drive.mount('/content/drive')\n",
    "    # BASE_PATH = '/content/drive/Shareddrives/Project_ML_23/' + USER + '/machine-learning-project'\n",
    "    BASE_PATH = '/content/drive/My Drive/machine-learning-project'\n",
    "    sys.path.insert(0, BASE_PATH)\n",
    "    N_JOBS = -1\n",
    "    sys.path.insert(0, BASE_PATH + '/src/utils')\n",
    "    !pip install optuna\n",
    "    !pip install scikit-learn\n",
    "    !pip install scikeras\n",
    "    TRAIN_DATA = os.path.join(BASE_PATH, 'datasets', 'cup2023','ML-CUP23-TR.csv')\n",
    "    IMAGES_FOLDER = os.path.join(BASE_PATH, 'images', 'cup2023', 'SVR')\n",
    "    MODEL_FOLDER = os.path.join(BASE_PATH, 'trained_models', 'cup2023')\n",
    "else :\n",
    "    N_JOBS = -1\n",
    "    TRAIN_DATA = os.path.join('..', '..', 'datasets', 'cup2023', 'ML-CUP23-TR.csv')\n",
    "    IMAGES_FOLDER = os.path.join('..', '..', 'images', 'cup2023', 'SVR')\n",
    "    MODEL_FOLDER = os.path.join('..', '..', 'trained_models', 'cup2023')"
   ]
  },
  {
   "cell_type": "code",
   "execution_count": 3,
   "metadata": {
    "ExecuteTime": {
     "end_time": "2024-01-09T23:47:26.757707Z",
     "start_time": "2024-01-09T23:47:26.588226Z"
    },
    "collapsed": true,
    "executionInfo": {
     "elapsed": 6715,
     "status": "ok",
     "timestamp": 1706367897311,
     "user": {
      "displayName": "Paolo Junior Mollica",
      "userId": "04056476783609736856"
     },
     "user_tz": -60
    },
    "id": "6Jn1MAXKMuIg"
   },
   "outputs": [],
   "source": [
    "if (colab := 'google.colab' in sys.modules):\n",
    "    sys.path.append(BASE_PATH + '/src/utils')\n",
    "else:\n",
    "    sys.path.append('../utils')\n",
    "\n",
    "import os\n",
    "import numpy as np\n",
    "import pandas as pd\n",
    "import matplotlib.pyplot as plt\n",
    "import seaborn as sns\n",
    "from sklearn import svm\n",
    "from sklearn.multioutput import MultiOutputRegressor\n",
    "sns.set_theme(style='darkgrid')\n",
    "\n",
    "from sklearn.metrics import make_scorer\n",
    "from utils import save_plot, mean_euclidean_error, root_mean_squared_error, multidim_r2, set_random_state, mean_squared_error\n",
    "from joblib import dump\n",
    "\n",
    "set_random_state(42)"
   ]
  },
  {
   "cell_type": "code",
   "execution_count": 4,
   "metadata": {
    "ExecuteTime": {
     "end_time": "2024-01-09T23:47:26.773271Z",
     "start_time": "2024-01-09T23:47:26.763162Z"
    },
    "colab": {
     "base_uri": "https://localhost:8080/",
     "height": 206
    },
    "executionInfo": {
     "elapsed": 1326,
     "status": "ok",
     "timestamp": 1706367898631,
     "user": {
      "displayName": "Paolo Junior Mollica",
      "userId": "04056476783609736856"
     },
     "user_tz": -60
    },
    "id": "R8tKq27eMuIg",
    "outputId": "4154c9fe-68e6-4aa8-9b87-ab5f7ec1ae57"
   },
   "outputs": [
    {
     "data": {
      "text/html": [
       "\n",
       "  <div id=\"df-f10982c3-d0d2-4c3c-bd87-aa5f5e2d283a\" class=\"colab-df-container\">\n",
       "    <div>\n",
       "<style scoped>\n",
       "    .dataframe tbody tr th:only-of-type {\n",
       "        vertical-align: middle;\n",
       "    }\n",
       "\n",
       "    .dataframe tbody tr th {\n",
       "        vertical-align: top;\n",
       "    }\n",
       "\n",
       "    .dataframe thead th {\n",
       "        text-align: right;\n",
       "    }\n",
       "</style>\n",
       "<table border=\"1\" class=\"dataframe\">\n",
       "  <thead>\n",
       "    <tr style=\"text-align: right;\">\n",
       "      <th></th>\n",
       "      <th>1</th>\n",
       "      <th>2</th>\n",
       "      <th>3</th>\n",
       "      <th>4</th>\n",
       "      <th>5</th>\n",
       "      <th>6</th>\n",
       "      <th>7</th>\n",
       "      <th>8</th>\n",
       "      <th>9</th>\n",
       "      <th>10</th>\n",
       "      <th>11</th>\n",
       "      <th>12</th>\n",
       "      <th>13</th>\n",
       "    </tr>\n",
       "  </thead>\n",
       "  <tbody>\n",
       "    <tr>\n",
       "      <th>0</th>\n",
       "      <td>-0.917280</td>\n",
       "      <td>-0.712727</td>\n",
       "      <td>-0.989904</td>\n",
       "      <td>0.992819</td>\n",
       "      <td>0.993649</td>\n",
       "      <td>0.995543</td>\n",
       "      <td>0.711074</td>\n",
       "      <td>0.407645</td>\n",
       "      <td>-0.688548</td>\n",
       "      <td>0.616890</td>\n",
       "      <td>7.897453</td>\n",
       "      <td>-35.936382</td>\n",
       "      <td>21.077147</td>\n",
       "    </tr>\n",
       "    <tr>\n",
       "      <th>1</th>\n",
       "      <td>-0.858784</td>\n",
       "      <td>0.998755</td>\n",
       "      <td>-0.998396</td>\n",
       "      <td>0.999909</td>\n",
       "      <td>0.316503</td>\n",
       "      <td>-0.951897</td>\n",
       "      <td>-0.163139</td>\n",
       "      <td>0.980982</td>\n",
       "      <td>0.661759</td>\n",
       "      <td>-0.800155</td>\n",
       "      <td>-9.330632</td>\n",
       "      <td>19.901571</td>\n",
       "      <td>6.069154</td>\n",
       "    </tr>\n",
       "    <tr>\n",
       "      <th>2</th>\n",
       "      <td>-0.990441</td>\n",
       "      <td>0.958726</td>\n",
       "      <td>-0.998675</td>\n",
       "      <td>0.997216</td>\n",
       "      <td>0.987166</td>\n",
       "      <td>0.356483</td>\n",
       "      <td>-0.279689</td>\n",
       "      <td>0.599163</td>\n",
       "      <td>-0.684630</td>\n",
       "      <td>0.922901</td>\n",
       "      <td>14.849400</td>\n",
       "      <td>3.374090</td>\n",
       "      <td>19.667479</td>\n",
       "    </tr>\n",
       "    <tr>\n",
       "      <th>3</th>\n",
       "      <td>0.937117</td>\n",
       "      <td>0.984474</td>\n",
       "      <td>-0.612420</td>\n",
       "      <td>0.999812</td>\n",
       "      <td>0.728623</td>\n",
       "      <td>-0.539962</td>\n",
       "      <td>-0.165939</td>\n",
       "      <td>0.999352</td>\n",
       "      <td>-0.921444</td>\n",
       "      <td>-0.974766</td>\n",
       "      <td>-46.591854</td>\n",
       "      <td>13.734777</td>\n",
       "      <td>17.953600</td>\n",
       "    </tr>\n",
       "    <tr>\n",
       "      <th>4</th>\n",
       "      <td>-0.906628</td>\n",
       "      <td>-0.884567</td>\n",
       "      <td>-0.932487</td>\n",
       "      <td>0.941037</td>\n",
       "      <td>0.978134</td>\n",
       "      <td>0.998179</td>\n",
       "      <td>0.749606</td>\n",
       "      <td>-0.590599</td>\n",
       "      <td>-0.508268</td>\n",
       "      <td>0.691798</td>\n",
       "      <td>8.217500</td>\n",
       "      <td>-45.885254</td>\n",
       "      <td>14.894251</td>\n",
       "    </tr>\n",
       "  </tbody>\n",
       "</table>\n",
       "</div>\n",
       "    <div class=\"colab-df-buttons\">\n",
       "\n",
       "  <div class=\"colab-df-container\">\n",
       "    <button class=\"colab-df-convert\" onclick=\"convertToInteractive('df-f10982c3-d0d2-4c3c-bd87-aa5f5e2d283a')\"\n",
       "            title=\"Convert this dataframe to an interactive table.\"\n",
       "            style=\"display:none;\">\n",
       "\n",
       "  <svg xmlns=\"http://www.w3.org/2000/svg\" height=\"24px\" viewBox=\"0 -960 960 960\">\n",
       "    <path d=\"M120-120v-720h720v720H120Zm60-500h600v-160H180v160Zm220 220h160v-160H400v160Zm0 220h160v-160H400v160ZM180-400h160v-160H180v160Zm440 0h160v-160H620v160ZM180-180h160v-160H180v160Zm440 0h160v-160H620v160Z\"/>\n",
       "  </svg>\n",
       "    </button>\n",
       "\n",
       "  <style>\n",
       "    .colab-df-container {\n",
       "      display:flex;\n",
       "      gap: 12px;\n",
       "    }\n",
       "\n",
       "    .colab-df-convert {\n",
       "      background-color: #E8F0FE;\n",
       "      border: none;\n",
       "      border-radius: 50%;\n",
       "      cursor: pointer;\n",
       "      display: none;\n",
       "      fill: #1967D2;\n",
       "      height: 32px;\n",
       "      padding: 0 0 0 0;\n",
       "      width: 32px;\n",
       "    }\n",
       "\n",
       "    .colab-df-convert:hover {\n",
       "      background-color: #E2EBFA;\n",
       "      box-shadow: 0px 1px 2px rgba(60, 64, 67, 0.3), 0px 1px 3px 1px rgba(60, 64, 67, 0.15);\n",
       "      fill: #174EA6;\n",
       "    }\n",
       "\n",
       "    .colab-df-buttons div {\n",
       "      margin-bottom: 4px;\n",
       "    }\n",
       "\n",
       "    [theme=dark] .colab-df-convert {\n",
       "      background-color: #3B4455;\n",
       "      fill: #D2E3FC;\n",
       "    }\n",
       "\n",
       "    [theme=dark] .colab-df-convert:hover {\n",
       "      background-color: #434B5C;\n",
       "      box-shadow: 0px 1px 3px 1px rgba(0, 0, 0, 0.15);\n",
       "      filter: drop-shadow(0px 1px 2px rgba(0, 0, 0, 0.3));\n",
       "      fill: #FFFFFF;\n",
       "    }\n",
       "  </style>\n",
       "\n",
       "    <script>\n",
       "      const buttonEl =\n",
       "        document.querySelector('#df-f10982c3-d0d2-4c3c-bd87-aa5f5e2d283a button.colab-df-convert');\n",
       "      buttonEl.style.display =\n",
       "        google.colab.kernel.accessAllowed ? 'block' : 'none';\n",
       "\n",
       "      async function convertToInteractive(key) {\n",
       "        const element = document.querySelector('#df-f10982c3-d0d2-4c3c-bd87-aa5f5e2d283a');\n",
       "        const dataTable =\n",
       "          await google.colab.kernel.invokeFunction('convertToInteractive',\n",
       "                                                    [key], {});\n",
       "        if (!dataTable) return;\n",
       "\n",
       "        const docLinkHtml = 'Like what you see? Visit the ' +\n",
       "          '<a target=\"_blank\" href=https://colab.research.google.com/notebooks/data_table.ipynb>data table notebook</a>'\n",
       "          + ' to learn more about interactive tables.';\n",
       "        element.innerHTML = '';\n",
       "        dataTable['output_type'] = 'display_data';\n",
       "        await google.colab.output.renderOutput(dataTable, element);\n",
       "        const docLink = document.createElement('div');\n",
       "        docLink.innerHTML = docLinkHtml;\n",
       "        element.appendChild(docLink);\n",
       "      }\n",
       "    </script>\n",
       "  </div>\n",
       "\n",
       "\n",
       "<div id=\"df-213b1a20-b907-48b1-9ac9-04080b2a4bba\">\n",
       "  <button class=\"colab-df-quickchart\" onclick=\"quickchart('df-213b1a20-b907-48b1-9ac9-04080b2a4bba')\"\n",
       "            title=\"Suggest charts\"\n",
       "            style=\"display:none;\">\n",
       "\n",
       "<svg xmlns=\"http://www.w3.org/2000/svg\" height=\"24px\"viewBox=\"0 0 24 24\"\n",
       "     width=\"24px\">\n",
       "    <g>\n",
       "        <path d=\"M19 3H5c-1.1 0-2 .9-2 2v14c0 1.1.9 2 2 2h14c1.1 0 2-.9 2-2V5c0-1.1-.9-2-2-2zM9 17H7v-7h2v7zm4 0h-2V7h2v10zm4 0h-2v-4h2v4z\"/>\n",
       "    </g>\n",
       "</svg>\n",
       "  </button>\n",
       "\n",
       "<style>\n",
       "  .colab-df-quickchart {\n",
       "      --bg-color: #E8F0FE;\n",
       "      --fill-color: #1967D2;\n",
       "      --hover-bg-color: #E2EBFA;\n",
       "      --hover-fill-color: #174EA6;\n",
       "      --disabled-fill-color: #AAA;\n",
       "      --disabled-bg-color: #DDD;\n",
       "  }\n",
       "\n",
       "  [theme=dark] .colab-df-quickchart {\n",
       "      --bg-color: #3B4455;\n",
       "      --fill-color: #D2E3FC;\n",
       "      --hover-bg-color: #434B5C;\n",
       "      --hover-fill-color: #FFFFFF;\n",
       "      --disabled-bg-color: #3B4455;\n",
       "      --disabled-fill-color: #666;\n",
       "  }\n",
       "\n",
       "  .colab-df-quickchart {\n",
       "    background-color: var(--bg-color);\n",
       "    border: none;\n",
       "    border-radius: 50%;\n",
       "    cursor: pointer;\n",
       "    display: none;\n",
       "    fill: var(--fill-color);\n",
       "    height: 32px;\n",
       "    padding: 0;\n",
       "    width: 32px;\n",
       "  }\n",
       "\n",
       "  .colab-df-quickchart:hover {\n",
       "    background-color: var(--hover-bg-color);\n",
       "    box-shadow: 0 1px 2px rgba(60, 64, 67, 0.3), 0 1px 3px 1px rgba(60, 64, 67, 0.15);\n",
       "    fill: var(--button-hover-fill-color);\n",
       "  }\n",
       "\n",
       "  .colab-df-quickchart-complete:disabled,\n",
       "  .colab-df-quickchart-complete:disabled:hover {\n",
       "    background-color: var(--disabled-bg-color);\n",
       "    fill: var(--disabled-fill-color);\n",
       "    box-shadow: none;\n",
       "  }\n",
       "\n",
       "  .colab-df-spinner {\n",
       "    border: 2px solid var(--fill-color);\n",
       "    border-color: transparent;\n",
       "    border-bottom-color: var(--fill-color);\n",
       "    animation:\n",
       "      spin 1s steps(1) infinite;\n",
       "  }\n",
       "\n",
       "  @keyframes spin {\n",
       "    0% {\n",
       "      border-color: transparent;\n",
       "      border-bottom-color: var(--fill-color);\n",
       "      border-left-color: var(--fill-color);\n",
       "    }\n",
       "    20% {\n",
       "      border-color: transparent;\n",
       "      border-left-color: var(--fill-color);\n",
       "      border-top-color: var(--fill-color);\n",
       "    }\n",
       "    30% {\n",
       "      border-color: transparent;\n",
       "      border-left-color: var(--fill-color);\n",
       "      border-top-color: var(--fill-color);\n",
       "      border-right-color: var(--fill-color);\n",
       "    }\n",
       "    40% {\n",
       "      border-color: transparent;\n",
       "      border-right-color: var(--fill-color);\n",
       "      border-top-color: var(--fill-color);\n",
       "    }\n",
       "    60% {\n",
       "      border-color: transparent;\n",
       "      border-right-color: var(--fill-color);\n",
       "    }\n",
       "    80% {\n",
       "      border-color: transparent;\n",
       "      border-right-color: var(--fill-color);\n",
       "      border-bottom-color: var(--fill-color);\n",
       "    }\n",
       "    90% {\n",
       "      border-color: transparent;\n",
       "      border-bottom-color: var(--fill-color);\n",
       "    }\n",
       "  }\n",
       "</style>\n",
       "\n",
       "  <script>\n",
       "    async function quickchart(key) {\n",
       "      const quickchartButtonEl =\n",
       "        document.querySelector('#' + key + ' button');\n",
       "      quickchartButtonEl.disabled = true;  // To prevent multiple clicks.\n",
       "      quickchartButtonEl.classList.add('colab-df-spinner');\n",
       "      try {\n",
       "        const charts = await google.colab.kernel.invokeFunction(\n",
       "            'suggestCharts', [key], {});\n",
       "      } catch (error) {\n",
       "        console.error('Error during call to suggestCharts:', error);\n",
       "      }\n",
       "      quickchartButtonEl.classList.remove('colab-df-spinner');\n",
       "      quickchartButtonEl.classList.add('colab-df-quickchart-complete');\n",
       "    }\n",
       "    (() => {\n",
       "      let quickchartButtonEl =\n",
       "        document.querySelector('#df-213b1a20-b907-48b1-9ac9-04080b2a4bba button');\n",
       "      quickchartButtonEl.style.display =\n",
       "        google.colab.kernel.accessAllowed ? 'block' : 'none';\n",
       "    })();\n",
       "  </script>\n",
       "</div>\n",
       "    </div>\n",
       "  </div>\n"
      ],
      "text/plain": [
       "         1         2         3         4         5         6         7   \\\n",
       "0 -0.917280 -0.712727 -0.989904  0.992819  0.993649  0.995543  0.711074   \n",
       "1 -0.858784  0.998755 -0.998396  0.999909  0.316503 -0.951897 -0.163139   \n",
       "2 -0.990441  0.958726 -0.998675  0.997216  0.987166  0.356483 -0.279689   \n",
       "3  0.937117  0.984474 -0.612420  0.999812  0.728623 -0.539962 -0.165939   \n",
       "4 -0.906628 -0.884567 -0.932487  0.941037  0.978134  0.998179  0.749606   \n",
       "\n",
       "         8         9         10         11         12         13  \n",
       "0  0.407645 -0.688548  0.616890   7.897453 -35.936382  21.077147  \n",
       "1  0.980982  0.661759 -0.800155  -9.330632  19.901571   6.069154  \n",
       "2  0.599163 -0.684630  0.922901  14.849400   3.374090  19.667479  \n",
       "3  0.999352 -0.921444 -0.974766 -46.591854  13.734777  17.953600  \n",
       "4 -0.590599 -0.508268  0.691798   8.217500 -45.885254  14.894251  "
      ]
     },
     "execution_count": 4,
     "metadata": {},
     "output_type": "execute_result"
    }
   ],
   "source": [
    "# To skip the first column (row indexes)\n",
    "columns_to_read = list(range(1, 14))\n",
    "\n",
    "df_train = pd.read_csv(TRAIN_DATA, header=None, comment='#', usecols=columns_to_read, delimiter=',')\n",
    "df_train = df_train.astype('float64') # casting\n",
    "df_train.head()"
   ]
  },
  {
   "cell_type": "code",
   "execution_count": 5,
   "metadata": {
    "ExecuteTime": {
     "end_time": "2024-01-09T23:47:26.784549Z",
     "start_time": "2024-01-09T23:47:26.778165Z"
    },
    "colab": {
     "base_uri": "https://localhost:8080/",
     "height": 206
    },
    "executionInfo": {
     "elapsed": 15,
     "status": "ok",
     "timestamp": 1706367898631,
     "user": {
      "displayName": "Paolo Junior Mollica",
      "userId": "04056476783609736856"
     },
     "user_tz": -60
    },
    "id": "SGBI0j44MuIh",
    "outputId": "5444b19d-9f46-4a35-fd6b-f4024da1ecb9"
   },
   "outputs": [
    {
     "data": {
      "text/html": [
       "\n",
       "  <div id=\"df-7b7d182a-d1c9-4f53-8e89-c618af015b95\" class=\"colab-df-container\">\n",
       "    <div>\n",
       "<style scoped>\n",
       "    .dataframe tbody tr th:only-of-type {\n",
       "        vertical-align: middle;\n",
       "    }\n",
       "\n",
       "    .dataframe tbody tr th {\n",
       "        vertical-align: top;\n",
       "    }\n",
       "\n",
       "    .dataframe thead th {\n",
       "        text-align: right;\n",
       "    }\n",
       "</style>\n",
       "<table border=\"1\" class=\"dataframe\">\n",
       "  <thead>\n",
       "    <tr style=\"text-align: right;\">\n",
       "      <th></th>\n",
       "      <th>feature_1</th>\n",
       "      <th>feature_2</th>\n",
       "      <th>feature_3</th>\n",
       "      <th>feature_4</th>\n",
       "      <th>feature_5</th>\n",
       "      <th>feature_6</th>\n",
       "      <th>feature_7</th>\n",
       "      <th>feature_8</th>\n",
       "      <th>feature_9</th>\n",
       "      <th>feature_10</th>\n",
       "      <th>target_x</th>\n",
       "      <th>target_y</th>\n",
       "      <th>target_z</th>\n",
       "    </tr>\n",
       "  </thead>\n",
       "  <tbody>\n",
       "    <tr>\n",
       "      <th>0</th>\n",
       "      <td>-0.917280</td>\n",
       "      <td>-0.712727</td>\n",
       "      <td>-0.989904</td>\n",
       "      <td>0.992819</td>\n",
       "      <td>0.993649</td>\n",
       "      <td>0.995543</td>\n",
       "      <td>0.711074</td>\n",
       "      <td>0.407645</td>\n",
       "      <td>-0.688548</td>\n",
       "      <td>0.616890</td>\n",
       "      <td>7.897453</td>\n",
       "      <td>-35.936382</td>\n",
       "      <td>21.077147</td>\n",
       "    </tr>\n",
       "    <tr>\n",
       "      <th>1</th>\n",
       "      <td>-0.858784</td>\n",
       "      <td>0.998755</td>\n",
       "      <td>-0.998396</td>\n",
       "      <td>0.999909</td>\n",
       "      <td>0.316503</td>\n",
       "      <td>-0.951897</td>\n",
       "      <td>-0.163139</td>\n",
       "      <td>0.980982</td>\n",
       "      <td>0.661759</td>\n",
       "      <td>-0.800155</td>\n",
       "      <td>-9.330632</td>\n",
       "      <td>19.901571</td>\n",
       "      <td>6.069154</td>\n",
       "    </tr>\n",
       "    <tr>\n",
       "      <th>2</th>\n",
       "      <td>-0.990441</td>\n",
       "      <td>0.958726</td>\n",
       "      <td>-0.998675</td>\n",
       "      <td>0.997216</td>\n",
       "      <td>0.987166</td>\n",
       "      <td>0.356483</td>\n",
       "      <td>-0.279689</td>\n",
       "      <td>0.599163</td>\n",
       "      <td>-0.684630</td>\n",
       "      <td>0.922901</td>\n",
       "      <td>14.849400</td>\n",
       "      <td>3.374090</td>\n",
       "      <td>19.667479</td>\n",
       "    </tr>\n",
       "    <tr>\n",
       "      <th>3</th>\n",
       "      <td>0.937117</td>\n",
       "      <td>0.984474</td>\n",
       "      <td>-0.612420</td>\n",
       "      <td>0.999812</td>\n",
       "      <td>0.728623</td>\n",
       "      <td>-0.539962</td>\n",
       "      <td>-0.165939</td>\n",
       "      <td>0.999352</td>\n",
       "      <td>-0.921444</td>\n",
       "      <td>-0.974766</td>\n",
       "      <td>-46.591854</td>\n",
       "      <td>13.734777</td>\n",
       "      <td>17.953600</td>\n",
       "    </tr>\n",
       "    <tr>\n",
       "      <th>4</th>\n",
       "      <td>-0.906628</td>\n",
       "      <td>-0.884567</td>\n",
       "      <td>-0.932487</td>\n",
       "      <td>0.941037</td>\n",
       "      <td>0.978134</td>\n",
       "      <td>0.998179</td>\n",
       "      <td>0.749606</td>\n",
       "      <td>-0.590599</td>\n",
       "      <td>-0.508268</td>\n",
       "      <td>0.691798</td>\n",
       "      <td>8.217500</td>\n",
       "      <td>-45.885254</td>\n",
       "      <td>14.894251</td>\n",
       "    </tr>\n",
       "  </tbody>\n",
       "</table>\n",
       "</div>\n",
       "    <div class=\"colab-df-buttons\">\n",
       "\n",
       "  <div class=\"colab-df-container\">\n",
       "    <button class=\"colab-df-convert\" onclick=\"convertToInteractive('df-7b7d182a-d1c9-4f53-8e89-c618af015b95')\"\n",
       "            title=\"Convert this dataframe to an interactive table.\"\n",
       "            style=\"display:none;\">\n",
       "\n",
       "  <svg xmlns=\"http://www.w3.org/2000/svg\" height=\"24px\" viewBox=\"0 -960 960 960\">\n",
       "    <path d=\"M120-120v-720h720v720H120Zm60-500h600v-160H180v160Zm220 220h160v-160H400v160Zm0 220h160v-160H400v160ZM180-400h160v-160H180v160Zm440 0h160v-160H620v160ZM180-180h160v-160H180v160Zm440 0h160v-160H620v160Z\"/>\n",
       "  </svg>\n",
       "    </button>\n",
       "\n",
       "  <style>\n",
       "    .colab-df-container {\n",
       "      display:flex;\n",
       "      gap: 12px;\n",
       "    }\n",
       "\n",
       "    .colab-df-convert {\n",
       "      background-color: #E8F0FE;\n",
       "      border: none;\n",
       "      border-radius: 50%;\n",
       "      cursor: pointer;\n",
       "      display: none;\n",
       "      fill: #1967D2;\n",
       "      height: 32px;\n",
       "      padding: 0 0 0 0;\n",
       "      width: 32px;\n",
       "    }\n",
       "\n",
       "    .colab-df-convert:hover {\n",
       "      background-color: #E2EBFA;\n",
       "      box-shadow: 0px 1px 2px rgba(60, 64, 67, 0.3), 0px 1px 3px 1px rgba(60, 64, 67, 0.15);\n",
       "      fill: #174EA6;\n",
       "    }\n",
       "\n",
       "    .colab-df-buttons div {\n",
       "      margin-bottom: 4px;\n",
       "    }\n",
       "\n",
       "    [theme=dark] .colab-df-convert {\n",
       "      background-color: #3B4455;\n",
       "      fill: #D2E3FC;\n",
       "    }\n",
       "\n",
       "    [theme=dark] .colab-df-convert:hover {\n",
       "      background-color: #434B5C;\n",
       "      box-shadow: 0px 1px 3px 1px rgba(0, 0, 0, 0.15);\n",
       "      filter: drop-shadow(0px 1px 2px rgba(0, 0, 0, 0.3));\n",
       "      fill: #FFFFFF;\n",
       "    }\n",
       "  </style>\n",
       "\n",
       "    <script>\n",
       "      const buttonEl =\n",
       "        document.querySelector('#df-7b7d182a-d1c9-4f53-8e89-c618af015b95 button.colab-df-convert');\n",
       "      buttonEl.style.display =\n",
       "        google.colab.kernel.accessAllowed ? 'block' : 'none';\n",
       "\n",
       "      async function convertToInteractive(key) {\n",
       "        const element = document.querySelector('#df-7b7d182a-d1c9-4f53-8e89-c618af015b95');\n",
       "        const dataTable =\n",
       "          await google.colab.kernel.invokeFunction('convertToInteractive',\n",
       "                                                    [key], {});\n",
       "        if (!dataTable) return;\n",
       "\n",
       "        const docLinkHtml = 'Like what you see? Visit the ' +\n",
       "          '<a target=\"_blank\" href=https://colab.research.google.com/notebooks/data_table.ipynb>data table notebook</a>'\n",
       "          + ' to learn more about interactive tables.';\n",
       "        element.innerHTML = '';\n",
       "        dataTable['output_type'] = 'display_data';\n",
       "        await google.colab.output.renderOutput(dataTable, element);\n",
       "        const docLink = document.createElement('div');\n",
       "        docLink.innerHTML = docLinkHtml;\n",
       "        element.appendChild(docLink);\n",
       "      }\n",
       "    </script>\n",
       "  </div>\n",
       "\n",
       "\n",
       "<div id=\"df-77fd1b38-ca00-4d94-86d1-55287051f688\">\n",
       "  <button class=\"colab-df-quickchart\" onclick=\"quickchart('df-77fd1b38-ca00-4d94-86d1-55287051f688')\"\n",
       "            title=\"Suggest charts\"\n",
       "            style=\"display:none;\">\n",
       "\n",
       "<svg xmlns=\"http://www.w3.org/2000/svg\" height=\"24px\"viewBox=\"0 0 24 24\"\n",
       "     width=\"24px\">\n",
       "    <g>\n",
       "        <path d=\"M19 3H5c-1.1 0-2 .9-2 2v14c0 1.1.9 2 2 2h14c1.1 0 2-.9 2-2V5c0-1.1-.9-2-2-2zM9 17H7v-7h2v7zm4 0h-2V7h2v10zm4 0h-2v-4h2v4z\"/>\n",
       "    </g>\n",
       "</svg>\n",
       "  </button>\n",
       "\n",
       "<style>\n",
       "  .colab-df-quickchart {\n",
       "      --bg-color: #E8F0FE;\n",
       "      --fill-color: #1967D2;\n",
       "      --hover-bg-color: #E2EBFA;\n",
       "      --hover-fill-color: #174EA6;\n",
       "      --disabled-fill-color: #AAA;\n",
       "      --disabled-bg-color: #DDD;\n",
       "  }\n",
       "\n",
       "  [theme=dark] .colab-df-quickchart {\n",
       "      --bg-color: #3B4455;\n",
       "      --fill-color: #D2E3FC;\n",
       "      --hover-bg-color: #434B5C;\n",
       "      --hover-fill-color: #FFFFFF;\n",
       "      --disabled-bg-color: #3B4455;\n",
       "      --disabled-fill-color: #666;\n",
       "  }\n",
       "\n",
       "  .colab-df-quickchart {\n",
       "    background-color: var(--bg-color);\n",
       "    border: none;\n",
       "    border-radius: 50%;\n",
       "    cursor: pointer;\n",
       "    display: none;\n",
       "    fill: var(--fill-color);\n",
       "    height: 32px;\n",
       "    padding: 0;\n",
       "    width: 32px;\n",
       "  }\n",
       "\n",
       "  .colab-df-quickchart:hover {\n",
       "    background-color: var(--hover-bg-color);\n",
       "    box-shadow: 0 1px 2px rgba(60, 64, 67, 0.3), 0 1px 3px 1px rgba(60, 64, 67, 0.15);\n",
       "    fill: var(--button-hover-fill-color);\n",
       "  }\n",
       "\n",
       "  .colab-df-quickchart-complete:disabled,\n",
       "  .colab-df-quickchart-complete:disabled:hover {\n",
       "    background-color: var(--disabled-bg-color);\n",
       "    fill: var(--disabled-fill-color);\n",
       "    box-shadow: none;\n",
       "  }\n",
       "\n",
       "  .colab-df-spinner {\n",
       "    border: 2px solid var(--fill-color);\n",
       "    border-color: transparent;\n",
       "    border-bottom-color: var(--fill-color);\n",
       "    animation:\n",
       "      spin 1s steps(1) infinite;\n",
       "  }\n",
       "\n",
       "  @keyframes spin {\n",
       "    0% {\n",
       "      border-color: transparent;\n",
       "      border-bottom-color: var(--fill-color);\n",
       "      border-left-color: var(--fill-color);\n",
       "    }\n",
       "    20% {\n",
       "      border-color: transparent;\n",
       "      border-left-color: var(--fill-color);\n",
       "      border-top-color: var(--fill-color);\n",
       "    }\n",
       "    30% {\n",
       "      border-color: transparent;\n",
       "      border-left-color: var(--fill-color);\n",
       "      border-top-color: var(--fill-color);\n",
       "      border-right-color: var(--fill-color);\n",
       "    }\n",
       "    40% {\n",
       "      border-color: transparent;\n",
       "      border-right-color: var(--fill-color);\n",
       "      border-top-color: var(--fill-color);\n",
       "    }\n",
       "    60% {\n",
       "      border-color: transparent;\n",
       "      border-right-color: var(--fill-color);\n",
       "    }\n",
       "    80% {\n",
       "      border-color: transparent;\n",
       "      border-right-color: var(--fill-color);\n",
       "      border-bottom-color: var(--fill-color);\n",
       "    }\n",
       "    90% {\n",
       "      border-color: transparent;\n",
       "      border-bottom-color: var(--fill-color);\n",
       "    }\n",
       "  }\n",
       "</style>\n",
       "\n",
       "  <script>\n",
       "    async function quickchart(key) {\n",
       "      const quickchartButtonEl =\n",
       "        document.querySelector('#' + key + ' button');\n",
       "      quickchartButtonEl.disabled = true;  // To prevent multiple clicks.\n",
       "      quickchartButtonEl.classList.add('colab-df-spinner');\n",
       "      try {\n",
       "        const charts = await google.colab.kernel.invokeFunction(\n",
       "            'suggestCharts', [key], {});\n",
       "      } catch (error) {\n",
       "        console.error('Error during call to suggestCharts:', error);\n",
       "      }\n",
       "      quickchartButtonEl.classList.remove('colab-df-spinner');\n",
       "      quickchartButtonEl.classList.add('colab-df-quickchart-complete');\n",
       "    }\n",
       "    (() => {\n",
       "      let quickchartButtonEl =\n",
       "        document.querySelector('#df-77fd1b38-ca00-4d94-86d1-55287051f688 button');\n",
       "      quickchartButtonEl.style.display =\n",
       "        google.colab.kernel.accessAllowed ? 'block' : 'none';\n",
       "    })();\n",
       "  </script>\n",
       "</div>\n",
       "    </div>\n",
       "  </div>\n"
      ],
      "text/plain": [
       "   feature_1  feature_2  feature_3  feature_4  feature_5  feature_6  \\\n",
       "0  -0.917280  -0.712727  -0.989904   0.992819   0.993649   0.995543   \n",
       "1  -0.858784   0.998755  -0.998396   0.999909   0.316503  -0.951897   \n",
       "2  -0.990441   0.958726  -0.998675   0.997216   0.987166   0.356483   \n",
       "3   0.937117   0.984474  -0.612420   0.999812   0.728623  -0.539962   \n",
       "4  -0.906628  -0.884567  -0.932487   0.941037   0.978134   0.998179   \n",
       "\n",
       "   feature_7  feature_8  feature_9  feature_10   target_x   target_y  \\\n",
       "0   0.711074   0.407645  -0.688548    0.616890   7.897453 -35.936382   \n",
       "1  -0.163139   0.980982   0.661759   -0.800155  -9.330632  19.901571   \n",
       "2  -0.279689   0.599163  -0.684630    0.922901  14.849400   3.374090   \n",
       "3  -0.165939   0.999352  -0.921444   -0.974766 -46.591854  13.734777   \n",
       "4   0.749606  -0.590599  -0.508268    0.691798   8.217500 -45.885254   \n",
       "\n",
       "    target_z  \n",
       "0  21.077147  \n",
       "1   6.069154  \n",
       "2  19.667479  \n",
       "3  17.953600  \n",
       "4  14.894251  "
      ]
     },
     "execution_count": 5,
     "metadata": {},
     "output_type": "execute_result"
    }
   ],
   "source": [
    "features = ['feature_' + str(i) for i in range(1, 11)]\n",
    "targets = ['target_x', 'target_y', 'target_z']\n",
    "\n",
    "# Rename columns\n",
    "new_column_names = features + targets\n",
    "df_train.columns = new_column_names\n",
    "\n",
    "df_train.head()"
   ]
  },
  {
   "cell_type": "code",
   "execution_count": 6,
   "metadata": {
    "ExecuteTime": {
     "end_time": "2024-01-09T23:47:26.802432Z",
     "start_time": "2024-01-09T23:47:26.782125Z"
    },
    "executionInfo": {
     "elapsed": 14,
     "status": "ok",
     "timestamp": 1706367898632,
     "user": {
      "displayName": "Paolo Junior Mollica",
      "userId": "04056476783609736856"
     },
     "user_tz": -60
    },
    "id": "aD8NeEPtMuIh"
   },
   "outputs": [],
   "source": [
    "from sklearn.model_selection import train_test_split\n",
    "\n",
    "X = df_train[features].to_numpy()\n",
    "y = df_train[targets].to_numpy()\n",
    "\n",
    "X_train, X_test, y_train, y_test = train_test_split(X, y, test_size=0.2, random_state=42)"
   ]
  },
  {
   "cell_type": "markdown",
   "metadata": {
    "collapsed": false,
    "id": "e8z1CI62MuIh"
   },
   "source": [
    "# Create model"
   ]
  },
  {
   "cell_type": "code",
   "execution_count": 7,
   "metadata": {
    "ExecuteTime": {
     "end_time": "2024-01-09T23:47:26.825843Z",
     "start_time": "2024-01-09T23:47:26.786209Z"
    },
    "executionInfo": {
     "elapsed": 14,
     "status": "ok",
     "timestamp": 1706367898632,
     "user": {
      "displayName": "Paolo Junior Mollica",
      "userId": "04056476783609736856"
     },
     "user_tz": -60
    },
    "id": "7648JXbMMuIi"
   },
   "outputs": [],
   "source": [
    "mee_scorer = make_scorer(mean_euclidean_error, greater_is_better=False)\n",
    "rmse_scorer = make_scorer(root_mean_squared_error, greater_is_better=False)\n",
    "multidim_r2_scorer = make_scorer(multidim_r2, greater_is_better=True)\n",
    "\n",
    "scoring = {'MEE': mee_scorer, 'R2': multidim_r2_scorer, 'RMSE': rmse_scorer}"
   ]
  },
  {
   "cell_type": "code",
   "execution_count": 8,
   "metadata": {
    "ExecuteTime": {
     "end_time": "2024-01-09T23:47:26.841401Z",
     "start_time": "2024-01-09T23:47:26.788944Z"
    },
    "executionInfo": {
     "elapsed": 14,
     "status": "ok",
     "timestamp": 1706367898632,
     "user": {
      "displayName": "Paolo Junior Mollica",
      "userId": "04056476783609736856"
     },
     "user_tz": -60
    },
    "id": "6wWaL7i9MuIi"
   },
   "outputs": [],
   "source": [
    "svr = svm.SVR()\n",
    "\n",
    "model = MultiOutputRegressor(svr)"
   ]
  },
  {
   "cell_type": "code",
   "execution_count": 9,
   "metadata": {
    "ExecuteTime": {
     "end_time": "2024-01-09T23:47:26.862718Z",
     "start_time": "2024-01-09T23:47:26.792987Z"
    },
    "executionInfo": {
     "elapsed": 13,
     "status": "ok",
     "timestamp": 1706367898632,
     "user": {
      "displayName": "Paolo Junior Mollica",
      "userId": "04056476783609736856"
     },
     "user_tz": -60
    },
    "id": "5BuLDz0aMuIi"
   },
   "outputs": [],
   "source": [
    "param_grid = [\n",
    "    {\n",
    "        'svr__estimator__kernel': ['linear'],\n",
    "        'svr__estimator__C': [0.1, 1, 10, 100],\n",
    "        'svr__estimator__epsilon': [0.01, 0.1, 1]\n",
    "    },\n",
    "    {\n",
    "        'svr__estimator__kernel': ['rbf'],\n",
    "        'svr__estimator__C': [0.1, 1, 10, 100],\n",
    "        'svr__estimator__gamma': [0.1, 0.01, 0.001],\n",
    "        'svr__estimator__epsilon': [0.01, 0.1, 1]\n",
    "    },\n",
    "    {\n",
    "        'svr__estimator__kernel': ['poly'],\n",
    "        'svr__estimator__C': [0.1, 1, 10, 100],\n",
    "        'svr__estimator__degree': [2, 3, 4],\n",
    "        'svr__estimator__gamma': [0.1, 0.01, 0.001],\n",
    "        'svr__estimator__coef0': [0, 1, 2],\n",
    "        'svr__estimator__epsilon': [0.01, 0.1, 1]\n",
    "    },\n",
    "    {\n",
    "        'svr__estimator__kernel': ['sigmoid'],\n",
    "        'svr__estimator__C': [0.1, 1, 10, 100],\n",
    "        'svr__estimator__gamma': [0.1, 0.01, 0.001],\n",
    "        'svr__estimator__coef0': [0, 1, 2],\n",
    "        'svr__estimator__epsilon': [0.01, 0.1, 1]\n",
    "    }\n",
    "]"
   ]
  },
  {
   "cell_type": "code",
   "execution_count": 10,
   "metadata": {
    "ExecuteTime": {
     "end_time": "2024-01-09T23:47:26.862949Z",
     "start_time": "2024-01-09T23:47:26.802582Z"
    },
    "executionInfo": {
     "elapsed": 13,
     "status": "ok",
     "timestamp": 1706367898632,
     "user": {
      "displayName": "Paolo Junior Mollica",
      "userId": "04056476783609736856"
     },
     "user_tz": -60
    },
    "id": "gzRDucXgMuIj"
   },
   "outputs": [],
   "source": [
    "from sklearn.pipeline import Pipeline\n",
    "from sklearn.preprocessing import RobustScaler\n",
    "\n",
    "'''\n",
    "Scales input data using RobustScaler with the formula: (X - median(X)) / IQR,\n",
    "where IQR is the interquartile range (75th - 25th percentile). This scaler is\n",
    "chosen for its robustness to outliers, utilizing the median rather than the mean.\n",
    "It is particularly beneficial for algorithms that are sensitive to the scale of data,\n",
    "like neural networks, where it promotes zero mean and unit variance, leading to faster\n",
    "gradient descent convergence. It also improves algorithms based on distance measures\n",
    "(e.g., K-nearest neighbors, hierarchical clustering) and those assuming data normality.\n",
    "However, algorithms such as Random Forest, which do not rely on distance or data normality,\n",
    "may not see as much benefit from scaling.\n",
    "\n",
    "Parameters:\n",
    "X_train (array-like): Input data to be scaled.\n",
    "\n",
    "Returns:\n",
    "scaled_data (array-like): Scaled version of X_train.\n",
    "'''\n",
    "\n",
    "pipeline = Pipeline([\n",
    "    ('scaler', RobustScaler()),\n",
    "    ('svr', model)\n",
    "])"
   ]
  },
  {
   "cell_type": "code",
   "execution_count": 11,
   "metadata": {
    "ExecuteTime": {
     "end_time": "2024-01-09T23:54:31.631621Z",
     "start_time": "2024-01-09T23:47:26.802735Z"
    },
    "colab": {
     "base_uri": "https://localhost:8080/",
     "height": 236
    },
    "executionInfo": {
     "elapsed": 1548645,
     "status": "ok",
     "timestamp": 1706369447264,
     "user": {
      "displayName": "Paolo Junior Mollica",
      "userId": "04056476783609736856"
     },
     "user_tz": -60
    },
    "id": "xTlfotO1MuIj",
    "outputId": "8ab14fb1-dddc-4463-c968-76e0c78b87c7"
   },
   "outputs": [
    {
     "name": "stdout",
     "output_type": "stream",
     "text": [
      "Fitting 5 folds for each of 480 candidates, totalling 2400 fits\n"
     ]
    },
    {
     "data": {
      "text/html": [
       "<style>#sk-container-id-1 {color: black;background-color: white;}#sk-container-id-1 pre{padding: 0;}#sk-container-id-1 div.sk-toggleable {background-color: white;}#sk-container-id-1 label.sk-toggleable__label {cursor: pointer;display: block;width: 100%;margin-bottom: 0;padding: 0.3em;box-sizing: border-box;text-align: center;}#sk-container-id-1 label.sk-toggleable__label-arrow:before {content: \"▸\";float: left;margin-right: 0.25em;color: #696969;}#sk-container-id-1 label.sk-toggleable__label-arrow:hover:before {color: black;}#sk-container-id-1 div.sk-estimator:hover label.sk-toggleable__label-arrow:before {color: black;}#sk-container-id-1 div.sk-toggleable__content {max-height: 0;max-width: 0;overflow: hidden;text-align: left;background-color: #f0f8ff;}#sk-container-id-1 div.sk-toggleable__content pre {margin: 0.2em;color: black;border-radius: 0.25em;background-color: #f0f8ff;}#sk-container-id-1 input.sk-toggleable__control:checked~div.sk-toggleable__content {max-height: 200px;max-width: 100%;overflow: auto;}#sk-container-id-1 input.sk-toggleable__control:checked~label.sk-toggleable__label-arrow:before {content: \"▾\";}#sk-container-id-1 div.sk-estimator input.sk-toggleable__control:checked~label.sk-toggleable__label {background-color: #d4ebff;}#sk-container-id-1 div.sk-label input.sk-toggleable__control:checked~label.sk-toggleable__label {background-color: #d4ebff;}#sk-container-id-1 input.sk-hidden--visually {border: 0;clip: rect(1px 1px 1px 1px);clip: rect(1px, 1px, 1px, 1px);height: 1px;margin: -1px;overflow: hidden;padding: 0;position: absolute;width: 1px;}#sk-container-id-1 div.sk-estimator {font-family: monospace;background-color: #f0f8ff;border: 1px dotted black;border-radius: 0.25em;box-sizing: border-box;margin-bottom: 0.5em;}#sk-container-id-1 div.sk-estimator:hover {background-color: #d4ebff;}#sk-container-id-1 div.sk-parallel-item::after {content: \"\";width: 100%;border-bottom: 1px solid gray;flex-grow: 1;}#sk-container-id-1 div.sk-label:hover label.sk-toggleable__label {background-color: #d4ebff;}#sk-container-id-1 div.sk-serial::before {content: \"\";position: absolute;border-left: 1px solid gray;box-sizing: border-box;top: 0;bottom: 0;left: 50%;z-index: 0;}#sk-container-id-1 div.sk-serial {display: flex;flex-direction: column;align-items: center;background-color: white;padding-right: 0.2em;padding-left: 0.2em;position: relative;}#sk-container-id-1 div.sk-item {position: relative;z-index: 1;}#sk-container-id-1 div.sk-parallel {display: flex;align-items: stretch;justify-content: center;background-color: white;position: relative;}#sk-container-id-1 div.sk-item::before, #sk-container-id-1 div.sk-parallel-item::before {content: \"\";position: absolute;border-left: 1px solid gray;box-sizing: border-box;top: 0;bottom: 0;left: 50%;z-index: -1;}#sk-container-id-1 div.sk-parallel-item {display: flex;flex-direction: column;z-index: 1;position: relative;background-color: white;}#sk-container-id-1 div.sk-parallel-item:first-child::after {align-self: flex-end;width: 50%;}#sk-container-id-1 div.sk-parallel-item:last-child::after {align-self: flex-start;width: 50%;}#sk-container-id-1 div.sk-parallel-item:only-child::after {width: 0;}#sk-container-id-1 div.sk-dashed-wrapped {border: 1px dashed gray;margin: 0 0.4em 0.5em 0.4em;box-sizing: border-box;padding-bottom: 0.4em;background-color: white;}#sk-container-id-1 div.sk-label label {font-family: monospace;font-weight: bold;display: inline-block;line-height: 1.2em;}#sk-container-id-1 div.sk-label-container {text-align: center;}#sk-container-id-1 div.sk-container {/* jupyter's `normalize.less` sets `[hidden] { display: none; }` but bootstrap.min.css set `[hidden] { display: none !important; }` so we also need the `!important` here to be able to override the default hidden behavior on the sphinx rendered scikit-learn.org. See: https://github.com/scikit-learn/scikit-learn/issues/21755 */display: inline-block !important;position: relative;}#sk-container-id-1 div.sk-text-repr-fallback {display: none;}</style><div id=\"sk-container-id-1\" class=\"sk-top-container\"><div class=\"sk-text-repr-fallback\"><pre>GridSearchCV(cv=KFold(n_splits=5, random_state=42, shuffle=True),\n",
       "             estimator=Pipeline(steps=[(&#x27;scaler&#x27;, RobustScaler()),\n",
       "                                       (&#x27;svr&#x27;,\n",
       "                                        MultiOutputRegressor(estimator=SVR()))]),\n",
       "             n_jobs=-1,\n",
       "             param_grid=[{&#x27;svr__estimator__C&#x27;: [0.1, 1, 10, 100],\n",
       "                          &#x27;svr__estimator__epsilon&#x27;: [0.01, 0.1, 1],\n",
       "                          &#x27;svr__estimator__kernel&#x27;: [&#x27;linear&#x27;]},\n",
       "                         {&#x27;svr__estimator__C&#x27;: [0.1, 1, 10, 100],\n",
       "                          &#x27;svr__estimator__...\n",
       "                         {&#x27;svr__estimator__C&#x27;: [0.1, 1, 10, 100],\n",
       "                          &#x27;svr__estimator__coef0&#x27;: [0, 1, 2],\n",
       "                          &#x27;svr__estimator__epsilon&#x27;: [0.01, 0.1, 1],\n",
       "                          &#x27;svr__estimator__gamma&#x27;: [0.1, 0.01, 0.001],\n",
       "                          &#x27;svr__estimator__kernel&#x27;: [&#x27;sigmoid&#x27;]}],\n",
       "             refit=&#x27;MEE&#x27;,\n",
       "             scoring={&#x27;MEE&#x27;: make_scorer(mean_euclidean_error, greater_is_better=False),\n",
       "                      &#x27;R2&#x27;: make_scorer(multidim_r2),\n",
       "                      &#x27;RMSE&#x27;: make_scorer(root_mean_squared_error, greater_is_better=False)},\n",
       "             verbose=2)</pre><b>In a Jupyter environment, please rerun this cell to show the HTML representation or trust the notebook. <br />On GitHub, the HTML representation is unable to render, please try loading this page with nbviewer.org.</b></div><div class=\"sk-container\" hidden><div class=\"sk-item sk-dashed-wrapped\"><div class=\"sk-label-container\"><div class=\"sk-label sk-toggleable\"><input class=\"sk-toggleable__control sk-hidden--visually\" id=\"sk-estimator-id-1\" type=\"checkbox\" ><label for=\"sk-estimator-id-1\" class=\"sk-toggleable__label sk-toggleable__label-arrow\">GridSearchCV</label><div class=\"sk-toggleable__content\"><pre>GridSearchCV(cv=KFold(n_splits=5, random_state=42, shuffle=True),\n",
       "             estimator=Pipeline(steps=[(&#x27;scaler&#x27;, RobustScaler()),\n",
       "                                       (&#x27;svr&#x27;,\n",
       "                                        MultiOutputRegressor(estimator=SVR()))]),\n",
       "             n_jobs=-1,\n",
       "             param_grid=[{&#x27;svr__estimator__C&#x27;: [0.1, 1, 10, 100],\n",
       "                          &#x27;svr__estimator__epsilon&#x27;: [0.01, 0.1, 1],\n",
       "                          &#x27;svr__estimator__kernel&#x27;: [&#x27;linear&#x27;]},\n",
       "                         {&#x27;svr__estimator__C&#x27;: [0.1, 1, 10, 100],\n",
       "                          &#x27;svr__estimator__...\n",
       "                         {&#x27;svr__estimator__C&#x27;: [0.1, 1, 10, 100],\n",
       "                          &#x27;svr__estimator__coef0&#x27;: [0, 1, 2],\n",
       "                          &#x27;svr__estimator__epsilon&#x27;: [0.01, 0.1, 1],\n",
       "                          &#x27;svr__estimator__gamma&#x27;: [0.1, 0.01, 0.001],\n",
       "                          &#x27;svr__estimator__kernel&#x27;: [&#x27;sigmoid&#x27;]}],\n",
       "             refit=&#x27;MEE&#x27;,\n",
       "             scoring={&#x27;MEE&#x27;: make_scorer(mean_euclidean_error, greater_is_better=False),\n",
       "                      &#x27;R2&#x27;: make_scorer(multidim_r2),\n",
       "                      &#x27;RMSE&#x27;: make_scorer(root_mean_squared_error, greater_is_better=False)},\n",
       "             verbose=2)</pre></div></div></div><div class=\"sk-parallel\"><div class=\"sk-parallel-item\"><div class=\"sk-item\"><div class=\"sk-label-container\"><div class=\"sk-label sk-toggleable\"><input class=\"sk-toggleable__control sk-hidden--visually\" id=\"sk-estimator-id-2\" type=\"checkbox\" ><label for=\"sk-estimator-id-2\" class=\"sk-toggleable__label sk-toggleable__label-arrow\">estimator: Pipeline</label><div class=\"sk-toggleable__content\"><pre>Pipeline(steps=[(&#x27;scaler&#x27;, RobustScaler()),\n",
       "                (&#x27;svr&#x27;, MultiOutputRegressor(estimator=SVR()))])</pre></div></div></div><div class=\"sk-serial\"><div class=\"sk-item\"><div class=\"sk-serial\"><div class=\"sk-item\"><div class=\"sk-estimator sk-toggleable\"><input class=\"sk-toggleable__control sk-hidden--visually\" id=\"sk-estimator-id-3\" type=\"checkbox\" ><label for=\"sk-estimator-id-3\" class=\"sk-toggleable__label sk-toggleable__label-arrow\">RobustScaler</label><div class=\"sk-toggleable__content\"><pre>RobustScaler()</pre></div></div></div><div class=\"sk-item sk-dashed-wrapped\"><div class=\"sk-label-container\"><div class=\"sk-label sk-toggleable\"><input class=\"sk-toggleable__control sk-hidden--visually\" id=\"sk-estimator-id-4\" type=\"checkbox\" ><label for=\"sk-estimator-id-4\" class=\"sk-toggleable__label sk-toggleable__label-arrow\">svr: MultiOutputRegressor</label><div class=\"sk-toggleable__content\"><pre>MultiOutputRegressor(estimator=SVR())</pre></div></div></div><div class=\"sk-parallel\"><div class=\"sk-parallel-item\"><div class=\"sk-item\"><div class=\"sk-label-container\"><div class=\"sk-label sk-toggleable\"><input class=\"sk-toggleable__control sk-hidden--visually\" id=\"sk-estimator-id-5\" type=\"checkbox\" ><label for=\"sk-estimator-id-5\" class=\"sk-toggleable__label sk-toggleable__label-arrow\">estimator: SVR</label><div class=\"sk-toggleable__content\"><pre>SVR()</pre></div></div></div><div class=\"sk-serial\"><div class=\"sk-item\"><div class=\"sk-estimator sk-toggleable\"><input class=\"sk-toggleable__control sk-hidden--visually\" id=\"sk-estimator-id-6\" type=\"checkbox\" ><label for=\"sk-estimator-id-6\" class=\"sk-toggleable__label sk-toggleable__label-arrow\">SVR</label><div class=\"sk-toggleable__content\"><pre>SVR()</pre></div></div></div></div></div></div></div></div></div></div></div></div></div></div></div></div></div>"
      ],
      "text/plain": [
       "GridSearchCV(cv=KFold(n_splits=5, random_state=42, shuffle=True),\n",
       "             estimator=Pipeline(steps=[('scaler', RobustScaler()),\n",
       "                                       ('svr',\n",
       "                                        MultiOutputRegressor(estimator=SVR()))]),\n",
       "             n_jobs=-1,\n",
       "             param_grid=[{'svr__estimator__C': [0.1, 1, 10, 100],\n",
       "                          'svr__estimator__epsilon': [0.01, 0.1, 1],\n",
       "                          'svr__estimator__kernel': ['linear']},\n",
       "                         {'svr__estimator__C': [0.1, 1, 10, 100],\n",
       "                          'svr__estimator__...\n",
       "                         {'svr__estimator__C': [0.1, 1, 10, 100],\n",
       "                          'svr__estimator__coef0': [0, 1, 2],\n",
       "                          'svr__estimator__epsilon': [0.01, 0.1, 1],\n",
       "                          'svr__estimator__gamma': [0.1, 0.01, 0.001],\n",
       "                          'svr__estimator__kernel': ['sigmoid']}],\n",
       "             refit='MEE',\n",
       "             scoring={'MEE': make_scorer(mean_euclidean_error, greater_is_better=False),\n",
       "                      'R2': make_scorer(multidim_r2),\n",
       "                      'RMSE': make_scorer(root_mean_squared_error, greater_is_better=False)},\n",
       "             verbose=2)"
      ]
     },
     "execution_count": 11,
     "metadata": {},
     "output_type": "execute_result"
    }
   ],
   "source": [
    "from sklearn.model_selection import GridSearchCV, KFold\n",
    "\n",
    "cv = KFold(n_splits=5, shuffle=True, random_state=42)\n",
    "\n",
    "grid_search = GridSearchCV(\n",
    "    pipeline,\n",
    "    param_grid=param_grid,\n",
    "    cv=cv,\n",
    "    scoring=scoring,\n",
    "    refit='MEE',\n",
    "    n_jobs=N_JOBS,\n",
    "    verbose=2\n",
    ")\n",
    "grid_search.fit(X_train, y_train)"
   ]
  },
  {
   "cell_type": "code",
   "execution_count": 12,
   "metadata": {
    "ExecuteTime": {
     "end_time": "2024-01-09T23:54:31.635077Z",
     "start_time": "2024-01-09T23:54:31.633090Z"
    },
    "executionInfo": {
     "elapsed": 573,
     "status": "ok",
     "timestamp": 1706369447828,
     "user": {
      "displayName": "Paolo Junior Mollica",
      "userId": "04056476783609736856"
     },
     "user_tz": -60
    },
    "id": "Tr58k6_EMuIj"
   },
   "outputs": [],
   "source": [
    "results = pd.DataFrame(grid_search.cv_results_)\n",
    "results.to_csv(os.path.join(BASE_PATH, 'src', 'cup2023', 'grid_search_SVR_results.csv'), index=False)"
   ]
  },
  {
   "cell_type": "code",
   "execution_count": 13,
   "metadata": {
    "ExecuteTime": {
     "end_time": "2024-01-09T23:54:31.648009Z",
     "start_time": "2024-01-09T23:54:31.636927Z"
    },
    "colab": {
     "base_uri": "https://localhost:8080/"
    },
    "executionInfo": {
     "elapsed": 10,
     "status": "ok",
     "timestamp": 1706369447828,
     "user": {
      "displayName": "Paolo Junior Mollica",
      "userId": "04056476783609736856"
     },
     "user_tz": -60
    },
    "id": "Ny01u8T6MuIj",
    "outputId": "a3f6120c-3cdb-420d-dcf7-10b69794a2c8"
   },
   "outputs": [
    {
     "name": "stdout",
     "output_type": "stream",
     "text": [
      "Best parameters: {'svr__estimator__C': 100, 'svr__estimator__coef0': 2, 'svr__estimator__degree': 4, 'svr__estimator__epsilon': 0.1, 'svr__estimator__gamma': 0.1, 'svr__estimator__kernel': 'poly'}\n",
      "Best MEE score: 0.8452278974909688\n",
      "R2: 0.9987444026192653\n",
      "RMSE: 0.6794677219071167\n"
     ]
    }
   ],
   "source": [
    "'''\n",
    "Quando si utilizza grid_search.best_score_ in scikit-learn e si ottiene un valore negativo,\n",
    "ciò è tipicamente dovuto al fatto che scikit-learn trasforma alcune funzioni di scoring in modo\n",
    "che possano essere trattate come funzioni di \"massimizzazione\".\n",
    "'''\n",
    "\n",
    "\n",
    "best_params = grid_search.best_params_\n",
    "best_index = grid_search.best_index_\n",
    "\n",
    "mee = grid_search.best_score_\n",
    "r2 = grid_search.cv_results_['mean_test_R2'][best_index]\n",
    "rmse = grid_search.cv_results_['mean_test_RMSE'][best_index]\n",
    "\n",
    "print('Best parameters:', best_params)\n",
    "print('Best MEE score:', abs(mee))\n",
    "print('R2:', abs(r2))\n",
    "print('RMSE:', abs(rmse))"
   ]
  },
  {
   "cell_type": "markdown",
   "metadata": {
    "collapsed": false,
    "id": "g9f1_oG7MuIj"
   },
   "source": [
    "# Learning curve"
   ]
  },
  {
   "cell_type": "code",
   "execution_count": 14,
   "metadata": {
    "ExecuteTime": {
     "end_time": "2024-01-09T23:59:47.367742Z",
     "start_time": "2024-01-09T23:54:31.647416Z"
    },
    "colab": {
     "base_uri": "https://localhost:8080/"
    },
    "executionInfo": {
     "elapsed": 612521,
     "status": "ok",
     "timestamp": 1706370060343,
     "user": {
      "displayName": "Paolo Junior Mollica",
      "userId": "04056476783609736856"
     },
     "user_tz": -60
    },
    "id": "AP_g-yifMuIk",
    "outputId": "2a297deb-8c03-479e-ce09-edc2810a468d"
   },
   "outputs": [
    {
     "name": "stdout",
     "output_type": "stream",
     "text": [
      "[learning_curve] Training set sizes: [ 64 211 352 499 640]\n"
     ]
    },
    {
     "name": "stderr",
     "output_type": "stream",
     "text": [
      "[Parallel(n_jobs=-1)]: Using backend LokyBackend with 12 concurrent workers.\n",
      "[Parallel(n_jobs=-1)]: Done  13 out of  25 | elapsed:  2.0min remaining:  1.9min\n",
      "[Parallel(n_jobs=-1)]: Done  25 out of  25 | elapsed: 10.2min finished\n"
     ]
    }
   ],
   "source": [
    "from sklearn.model_selection import learning_curve\n",
    "\n",
    "best_params_cleaned = {key.replace('svr__estimator__', ''): value for key, value in best_params.items()}\n",
    "\n",
    "estimator = Pipeline([\n",
    "    ('scaler', RobustScaler()),\n",
    "    ('svr', MultiOutputRegressor(svm.SVR(**best_params_cleaned)) )\n",
    "])\n",
    "\n",
    "train_sizes, train_scores, validation_scores = learning_curve(\n",
    "    estimator=estimator,\n",
    "    X=X_train,\n",
    "    y=y_train,\n",
    "    train_sizes=[0.1, 0.33, 0.55, 0.78, 1.],\n",
    "    cv=5,\n",
    "    n_jobs=N_JOBS,\n",
    "    verbose=2,\n",
    "    scoring=mee_scorer\n",
    ")"
   ]
  },
  {
   "cell_type": "code",
   "execution_count": 15,
   "metadata": {
    "ExecuteTime": {
     "end_time": "2024-01-09T23:59:47.369099Z",
     "start_time": "2024-01-09T23:59:47.366688Z"
    },
    "executionInfo": {
     "elapsed": 28,
     "status": "ok",
     "timestamp": 1706370060344,
     "user": {
      "displayName": "Paolo Junior Mollica",
      "userId": "04056476783609736856"
     },
     "user_tz": -60
    },
    "id": "6mYqrA9sMuIk"
   },
   "outputs": [],
   "source": [
    "train_scores_mean = np.mean(np.abs(train_scores), axis=1)\n",
    "train_scores_std = np.std(np.abs(train_scores), axis=1)\n",
    "validation_scores_mean = np.mean(np.abs(validation_scores), axis=1)\n",
    "validation_scores_std = np.std(np.abs(validation_scores), axis=1)"
   ]
  },
  {
   "cell_type": "code",
   "execution_count": 16,
   "metadata": {
    "colab": {
     "base_uri": "https://localhost:8080/"
    },
    "executionInfo": {
     "elapsed": 25,
     "status": "ok",
     "timestamp": 1706370060344,
     "user": {
      "displayName": "Paolo Junior Mollica",
      "userId": "04056476783609736856"
     },
     "user_tz": -60
    },
    "id": "fRb10Kqmf7SF",
    "outputId": "8ce8a899-d0c6-40ae-c916-8f2112b9f21a"
   },
   "outputs": [
    {
     "name": "stdout",
     "output_type": "stream",
     "text": [
      "0.4716505641940537\n",
      "0.005566408759739153\n",
      "0.8040524062034204\n",
      "0.03125015439884778\n"
     ]
    }
   ],
   "source": [
    "print(train_scores_mean[-1])\n",
    "print(train_scores_std[-1])\n",
    "print(validation_scores_mean[-1])\n",
    "print(validation_scores_std[-1])"
   ]
  },
  {
   "cell_type": "code",
   "execution_count": 17,
   "metadata": {
    "ExecuteTime": {
     "end_time": "2024-01-09T23:59:47.684Z",
     "start_time": "2024-01-09T23:59:47.368935Z"
    },
    "colab": {
     "base_uri": "https://localhost:8080/",
     "height": 482
    },
    "executionInfo": {
     "elapsed": 3944,
     "status": "ok",
     "timestamp": 1706370064265,
     "user": {
      "displayName": "Paolo Junior Mollica",
      "userId": "04056476783609736856"
     },
     "user_tz": -60
    },
    "id": "Yju2-B_CMuIk",
    "outputId": "7c6550ce-7a46-49ac-d168-0e86fbe580ab"
   },
   "outputs": [
    {
     "data": {
      "image/png": "[encoded data removed]",
      "text/plain": [
       "<Figure size 640x480 with 1 Axes>"
      ]
     },
     "metadata": {},
     "output_type": "display_data"
    }
   ],
   "source": [
    "plt.figure()\n",
    "plt.title('Support Vector Regressor Learning Curve', fontweight='bold', fontsize=16)\n",
    "plt.xlabel('Training examples', fontweight='bold')\n",
    "plt.ylabel('Absolute Error', fontweight='bold')\n",
    "plt.grid(True)\n",
    "\n",
    "color1 = sns.dark_palette((20, 60, 50), input='husl')[-1]\n",
    "color2 = sns.dark_palette('seagreen')[-1]\n",
    "\n",
    "# Filling the area around the mean scores to indicate variability of the model's performance\n",
    "# The shaded area represents the range of scores (mean ± standard deviation) for each training set size\n",
    "plt.fill_between(\n",
    "    train_sizes, train_scores_mean - train_scores_std,\n",
    "                 train_scores_mean + train_scores_std, alpha=0.2, color=color1\n",
    ")\n",
    "plt.fill_between(\n",
    "    train_sizes, validation_scores_mean - validation_scores_std,\n",
    "                 validation_scores_mean + validation_scores_std, alpha=0.2, color=color2\n",
    ")\n",
    "\n",
    "# Mean score lines for training and validation\n",
    "sns.lineplot(x=train_sizes, y=train_scores_mean, marker='o', color=color1, label='Training score')\n",
    "sns.lineplot(x=train_sizes, y=validation_scores_mean, marker='s', linestyle='-.', color=color2, label='Cross-validation score')\n",
    "\n",
    "plt.legend(loc='upper right')\n",
    "\n",
    "save_plot(plt, IMAGES_FOLDER, 'learning_curve')\n",
    "plt.show()"
   ]
  },
  {
   "cell_type": "markdown",
   "metadata": {
    "collapsed": false,
    "id": "5ntM1vkfMuIk"
   },
   "source": [
    "# Test of the model"
   ]
  },
  {
   "cell_type": "code",
   "execution_count": 22,
   "metadata": {
    "executionInfo": {
     "elapsed": 1139735,
     "status": "ok",
     "timestamp": 1706371211394,
     "user": {
      "displayName": "Paolo Junior Mollica",
      "userId": "04056476783609736856"
     },
     "user_tz": -60
    },
    "id": "ru21WG9OcE74"
   },
   "outputs": [],
   "source": [
    "i = 0\n",
    "final_model = []\n",
    "\n",
    "for train_index, test_index in cv.split(X_train):\n",
    "    X_train_1, X_test_1 = X_train[train_index], X_train[test_index]\n",
    "    y_train_1, y_test_1 = y_train[train_index], y_train[test_index]\n",
    "    i = i + 1\n",
    "\n",
    "    # Generate 5 possible splits and for each one save a model\n",
    "    pipeline_ = Pipeline([\n",
    "        ('scaler', RobustScaler()),\n",
    "        ('svr', MultiOutputRegressor(svm.SVR(**best_params_cleaned)) )\n",
    "    ])\n",
    "\n",
    "    # Save a different model for each fold to make an ensemble one\n",
    "    final_model.append(pipeline_.fit(X_train_1, y_train_1))"
   ]
  },
  {
   "cell_type": "code",
   "execution_count": 23,
   "metadata": {
    "ExecuteTime": {
     "end_time": "2024-01-09T23:59:50.478515Z",
     "start_time": "2024-01-09T23:59:50.474992Z"
    },
    "colab": {
     "base_uri": "https://localhost:8080/"
    },
    "executionInfo": {
     "elapsed": 13,
     "status": "ok",
     "timestamp": 1706371211395,
     "user": {
      "displayName": "Paolo Junior Mollica",
      "userId": "04056476783609736856"
     },
     "user_tz": -60
    },
    "id": "ESqEYKeWMuIk",
    "outputId": "12ec0494-27e3-427e-c209-db41a87c9d51"
   },
   "outputs": [
    {
     "name": "stdout",
     "output_type": "stream",
     "text": [
      "Ensemble MEE: 0.8133348067509973\n",
      "Ensemble R2: 0.9983092218114482\n",
      "Ensemble RMSE: 0.7056264609606286\n",
      "Ensemble MSE: 0.4979087024078216\n"
     ]
    }
   ],
   "source": [
    "y_pred_ensemble = np.zeros_like(y_test)\n",
    "\n",
    "for model in final_model:\n",
    "    y_pred = model.predict(X_test)\n",
    "    y_pred_ensemble += y_pred\n",
    "\n",
    "y_pred_ensemble /= len(final_model)\n",
    "\n",
    "mee_ensemble = mean_euclidean_error(y_test, y_pred_ensemble)\n",
    "r2_ensemble = multidim_r2(y_test, y_pred_ensemble)\n",
    "rmse_ensemble = root_mean_squared_error(y_test, y_pred_ensemble)\n",
    "mse_ensemble = mean_squared_error(y_test, y_pred_ensemble)\n",
    "\n",
    "print('Ensemble MEE:', mee_ensemble)\n",
    "print('Ensemble R2:', r2_ensemble)\n",
    "print('Ensemble RMSE:', rmse_ensemble)\n",
    "print('Ensemble MSE:', mse_ensemble)"
   ]
  },
  {
   "cell_type": "markdown",
   "metadata": {
    "id": "zRFNfVkicPdV"
   },
   "source": [
    "# Ensemble of the final model using the whole dataset"
   ]
  },
  {
   "cell_type": "code",
   "execution_count": 24,
   "metadata": {
    "executionInfo": {
     "elapsed": 1936171,
     "status": "ok",
     "timestamp": 1706373147560,
     "user": {
      "displayName": "Paolo Junior Mollica",
      "userId": "04056476783609736856"
     },
     "user_tz": -60
    },
    "id": "XQiboN6lcQGa"
   },
   "outputs": [],
   "source": [
    "i = 0\n",
    "final_model_ = []\n",
    "\n",
    "for train_index, test_index in cv.split(X):\n",
    "    X_train_1, X_test_1 = X[train_index], X[test_index]\n",
    "    y_train_1, y_test_1 = y[train_index], y[test_index]\n",
    "    i = i + 1\n",
    "\n",
    "    # Generate 5 possible splits and for each one save a model\n",
    "    pipeline_test = Pipeline([\n",
    "        ('scaler', RobustScaler()),\n",
    "        ('svr', MultiOutputRegressor(svm.SVR(**best_params_cleaned)) )\n",
    "    ])\n",
    "\n",
    "    # Save a different model for each fold to make an ensemble one\n",
    "    final_model_.append(pipeline_test.fit(X_train_1, y_train_1))"
   ]
  },
  {
   "cell_type": "markdown",
   "metadata": {
    "collapsed": false,
    "id": "eLp8hMBYMuIk"
   },
   "source": [
    "# Save model"
   ]
  },
  {
   "cell_type": "code",
   "execution_count": 25,
   "metadata": {
    "ExecuteTime": {
     "end_time": "2024-01-09T23:59:50.488620Z",
     "start_time": "2024-01-09T23:59:50.479346Z"
    },
    "colab": {
     "base_uri": "https://localhost:8080/"
    },
    "executionInfo": {
     "elapsed": 3102,
     "status": "ok",
     "timestamp": 1706373150634,
     "user": {
      "displayName": "Paolo Junior Mollica",
      "userId": "04056476783609736856"
     },
     "user_tz": -60
    },
    "id": "xUg0G7EQMuIl",
    "outputId": "6503c28f-b3a3-4dfb-e49a-06f2c54e1e47"
   },
   "outputs": [
    {
     "data": {
      "text/plain": [
       "['/content/drive/My Drive/machine-learning-project/trained_models/cup2023/SVR_model_final.joblib']"
      ]
     },
     "execution_count": 25,
     "metadata": {},
     "output_type": "execute_result"
    }
   ],
   "source": [
    "model_path = os.path.join(MODEL_FOLDER, 'SVR_model.joblib')\n",
    "dump(final_model, model_path, compress=3)\n",
    "\n",
    "model_path = os.path.join(MODEL_FOLDER, 'SVR_model_final.joblib')\n",
    "dump(final_model, model_path, compress=3)"
   ]
  }
 ],
 "metadata": {
  "accelerator": "GPU",
  "colab": {
   "gpuType": "A100",
   "machine_shape": "hm",
   "provenance": []
  },
  "kernelspec": {
   "display_name": "Python 3",
   "name": "python3"
  },
  "language_info": {
   "codemirror_mode": {
    "name": "ipython",
    "version": 3
   },
   "file_extension": ".py",
   "mimetype": "text/x-python",
   "name": "python",
   "nbconvert_exporter": "python",
   "pygments_lexer": "ipython3",
   "version": "3.9.18"
  }
 },
 "nbformat": 4,
 "nbformat_minor": 0
}
