{
 "cells": [
  {
   "cell_type": "code",
   "execution_count": null,
   "metadata": {
    "ExecuteTime": {
     "end_time": "2024-01-09T23:47:26.622670Z",
     "start_time": "2024-01-09T23:47:26.583150Z"
    },
    "executionInfo": {
     "elapsed": 6,
     "status": "ok",
     "timestamp": 1706367870117,
     "user": {
      "displayName": "Paolo Junior Mollica",
      "userId": "04056476783609736856"
     },
     "user_tz": -60
    },
    "id": "F6U80hjZMuIe"
   },
   "outputs": [],
   "source": [
    "USER = 'Nunzio'"
   ]
  },
  {
   "cell_type": "code",
   "execution_count": null,
   "metadata": {
    "colab": {
     "base_uri": "https://localhost:8080/"
    },
    "executionInfo": {
     "elapsed": 20490,
     "status": "ok",
     "timestamp": 1706367890601,
     "user": {
      "displayName": "Paolo Junior Mollica",
      "userId": "04056476783609736856"
     },
     "user_tz": -60
    },
    "id": "ZJixlNYBMxj2",
    "outputId": "8162a2cb-1dc7-4488-8cec-184214b0ab6f"
   },
   "outputs": [],
   "source": [
    "import sys\n",
    "import os\n",
    "if (colab := 'google.colab' in sys.modules):\n",
    "    from google.colab import drive\n",
    "    drive.mount('/content/drive')\n",
    "    # BASE_PATH = '/content/drive/Shareddrives/Project_ML_23/' + USER + '/machine-learning-project'\n",
    "    BASE_PATH = '/content/drive/My Drive/machine-learning-project'\n",
    "    sys.path.insert(0, BASE_PATH)\n",
    "    N_JOBS = -1\n",
    "    sys.path.insert(0, BASE_PATH + '/src/utils')\n",
    "    !pip install optuna\n",
    "    !pip install scikit-learn\n",
    "    !pip install scikeras\n",
    "    TRAIN_DATA = os.path.join(BASE_PATH, 'datasets', 'cup2023','ML-CUP23-TR.csv')\n",
    "    IMAGES_FOLDER = os.path.join(BASE_PATH, 'images', 'cup2023', 'SVR')\n",
    "    MODEL_FOLDER = os.path.join(BASE_PATH, 'trained_models', 'cup2023')\n",
    "else :\n",
    "    N_JOBS = -1\n",
    "    TRAIN_DATA = os.path.join('..', '..', 'datasets', 'cup2023', 'ML-CUP23-TR.csv')\n",
    "    IMAGES_FOLDER = os.path.join('..', '..', 'images', 'cup2023', 'SVR')\n",
    "    MODEL_FOLDER = os.path.join('..', '..', 'trained_models', 'cup2023')"
   ]
  },
  {
   "cell_type": "code",
   "execution_count": null,
   "metadata": {
    "ExecuteTime": {
     "end_time": "2024-01-09T23:47:26.757707Z",
     "start_time": "2024-01-09T23:47:26.588226Z"
    },
    "collapsed": true,
    "executionInfo": {
     "elapsed": 6715,
     "status": "ok",
     "timestamp": 1706367897311,
     "user": {
      "displayName": "Paolo Junior Mollica",
      "userId": "04056476783609736856"
     },
     "user_tz": -60
    },
    "id": "6Jn1MAXKMuIg"
   },
   "outputs": [],
   "source": [
    "if (colab := 'google.colab' in sys.modules):\n",
    "    sys.path.append(BASE_PATH + '/src/utils')\n",
    "else:\n",
    "    sys.path.append('../utils')\n",
    "\n",
    "import os\n",
    "import numpy as np\n",
    "import pandas as pd\n",
    "import matplotlib.pyplot as plt\n",
    "import seaborn as sns\n",
    "from sklearn import svm\n",
    "from sklearn.multioutput import MultiOutputRegressor\n",
    "sns.set_theme(style='darkgrid')\n",
    "\n",
    "from sklearn.metrics import make_scorer\n",
    "from utils import save_plot, mean_euclidean_error, root_mean_squared_error, multidim_r2, set_random_state, mean_squared_error\n",
    "from joblib import dump\n",
    "\n",
    "set_random_state(42)"
   ]
  },
  {
   "cell_type": "code",
   "execution_count": null,
   "metadata": {
    "ExecuteTime": {
     "end_time": "2024-01-09T23:47:26.773271Z",
     "start_time": "2024-01-09T23:47:26.763162Z"
    },
    "colab": {
     "base_uri": "https://localhost:8080/",
     "height": 206
    },
    "executionInfo": {
     "elapsed": 1326,
     "status": "ok",
     "timestamp": 1706367898631,
     "user": {
      "displayName": "Paolo Junior Mollica",
      "userId": "04056476783609736856"
     },
     "user_tz": -60
    },
    "id": "R8tKq27eMuIg",
    "outputId": "4154c9fe-68e6-4aa8-9b87-ab5f7ec1ae57"
   },
   "outputs": [],
   "source": [
    "# To skip the first column (row indexes)\n",
    "columns_to_read = list(range(1, 14))\n",
    "\n",
    "df_train = pd.read_csv(TRAIN_DATA, header=None, comment='#', usecols=columns_to_read, delimiter=',')\n",
    "df_train = df_train.astype('float64') # casting\n",
    "df_train.head()"
   ]
  },
  {
   "cell_type": "code",
   "execution_count": null,
   "metadata": {
    "ExecuteTime": {
     "end_time": "2024-01-09T23:47:26.784549Z",
     "start_time": "2024-01-09T23:47:26.778165Z"
    },
    "colab": {
     "base_uri": "https://localhost:8080/",
     "height": 206
    },
    "executionInfo": {
     "elapsed": 15,
     "status": "ok",
     "timestamp": 1706367898631,
     "user": {
      "displayName": "Paolo Junior Mollica",
      "userId": "04056476783609736856"
     },
     "user_tz": -60
    },
    "id": "SGBI0j44MuIh",
    "outputId": "5444b19d-9f46-4a35-fd6b-f4024da1ecb9"
   },
   "outputs": [],
   "source": [
    "features = ['feature_' + str(i) for i in range(1, 11)]\n",
    "targets = ['target_x', 'target_y', 'target_z']\n",
    "\n",
    "# Rename columns\n",
    "new_column_names = features + targets\n",
    "df_train.columns = new_column_names\n",
    "\n",
    "df_train.head()"
   ]
  },
  {
   "cell_type": "code",
   "execution_count": null,
   "metadata": {
    "ExecuteTime": {
     "end_time": "2024-01-09T23:47:26.802432Z",
     "start_time": "2024-01-09T23:47:26.782125Z"
    },
    "executionInfo": {
     "elapsed": 14,
     "status": "ok",
     "timestamp": 1706367898632,
     "user": {
      "displayName": "Paolo Junior Mollica",
      "userId": "04056476783609736856"
     },
     "user_tz": -60
    },
    "id": "aD8NeEPtMuIh"
   },
   "outputs": [],
   "source": [
    "from sklearn.model_selection import train_test_split\n",
    "\n",
    "X = df_train[features].to_numpy()\n",
    "y = df_train[targets].to_numpy()\n",
    "\n",
    "X_train, X_test, y_train, y_test = train_test_split(X, y, test_size=0.2, random_state=42)"
   ]
  },
  {
   "cell_type": "markdown",
   "metadata": {
    "collapsed": false,
    "id": "e8z1CI62MuIh"
   },
   "source": [
    "# Create model"
   ]
  },
  {
   "cell_type": "code",
   "execution_count": null,
   "metadata": {
    "ExecuteTime": {
     "end_time": "2024-01-09T23:47:26.825843Z",
     "start_time": "2024-01-09T23:47:26.786209Z"
    },
    "executionInfo": {
     "elapsed": 14,
     "status": "ok",
     "timestamp": 1706367898632,
     "user": {
      "displayName": "Paolo Junior Mollica",
      "userId": "04056476783609736856"
     },
     "user_tz": -60
    },
    "id": "7648JXbMMuIi"
   },
   "outputs": [],
   "source": [
    "mee_scorer = make_scorer(mean_euclidean_error, greater_is_better=False)\n",
    "rmse_scorer = make_scorer(root_mean_squared_error, greater_is_better=False)\n",
    "multidim_r2_scorer = make_scorer(multidim_r2, greater_is_better=True)\n",
    "\n",
    "scoring = {'MEE': mee_scorer, 'R2': multidim_r2_scorer, 'RMSE': rmse_scorer}"
   ]
  },
  {
   "cell_type": "code",
   "execution_count": null,
   "metadata": {
    "ExecuteTime": {
     "end_time": "2024-01-09T23:47:26.841401Z",
     "start_time": "2024-01-09T23:47:26.788944Z"
    },
    "executionInfo": {
     "elapsed": 14,
     "status": "ok",
     "timestamp": 1706367898632,
     "user": {
      "displayName": "Paolo Junior Mollica",
      "userId": "04056476783609736856"
     },
     "user_tz": -60
    },
    "id": "6wWaL7i9MuIi"
   },
   "outputs": [],
   "source": [
    "svr = svm.SVR()\n",
    "\n",
    "model = MultiOutputRegressor(svr)"
   ]
  },
  {
   "cell_type": "code",
   "execution_count": null,
   "metadata": {
    "ExecuteTime": {
     "end_time": "2024-01-09T23:47:26.862718Z",
     "start_time": "2024-01-09T23:47:26.792987Z"
    },
    "executionInfo": {
     "elapsed": 13,
     "status": "ok",
     "timestamp": 1706367898632,
     "user": {
      "displayName": "Paolo Junior Mollica",
      "userId": "04056476783609736856"
     },
     "user_tz": -60
    },
    "id": "5BuLDz0aMuIi"
   },
   "outputs": [],
   "source": [
    "param_grid = [\n",
    "    {\n",
    "        'svr__estimator__kernel': ['linear'],\n",
    "        'svr__estimator__C': [0.1, 1, 10, 100],\n",
    "        'svr__estimator__epsilon': [0.01, 0.1, 1]\n",
    "    },\n",
    "    {\n",
    "        'svr__estimator__kernel': ['rbf'],\n",
    "        'svr__estimator__C': [0.1, 1, 10, 100],\n",
    "        'svr__estimator__gamma': [0.1, 0.01, 0.001],\n",
    "        'svr__estimator__epsilon': [0.01, 0.1, 1]\n",
    "    },\n",
    "    {\n",
    "        'svr__estimator__kernel': ['poly'],\n",
    "        'svr__estimator__C': [0.1, 1, 10, 100],\n",
    "        'svr__estimator__degree': [2, 3, 4],\n",
    "        'svr__estimator__gamma': [0.1, 0.01, 0.001],\n",
    "        'svr__estimator__coef0': [0, 1, 2],\n",
    "        'svr__estimator__epsilon': [0.01, 0.1, 1]\n",
    "    },\n",
    "    {\n",
    "        'svr__estimator__kernel': ['sigmoid'],\n",
    "        'svr__estimator__C': [0.1, 1, 10, 100],\n",
    "        'svr__estimator__gamma': [0.1, 0.01, 0.001],\n",
    "        'svr__estimator__coef0': [0, 1, 2],\n",
    "        'svr__estimator__epsilon': [0.01, 0.1, 1]\n",
    "    }\n",
    "]"
   ]
  },
  {
   "cell_type": "code",
   "execution_count": null,
   "metadata": {
    "ExecuteTime": {
     "end_time": "2024-01-09T23:47:26.862949Z",
     "start_time": "2024-01-09T23:47:26.802582Z"
    },
    "executionInfo": {
     "elapsed": 13,
     "status": "ok",
     "timestamp": 1706367898632,
     "user": {
      "displayName": "Paolo Junior Mollica",
      "userId": "04056476783609736856"
     },
     "user_tz": -60
    },
    "id": "gzRDucXgMuIj"
   },
   "outputs": [],
   "source": [
    "from sklearn.pipeline import Pipeline\n",
    "from sklearn.preprocessing import RobustScaler\n",
    "\n",
    "'''\n",
    "Scales input data using RobustScaler with the formula: (X - median(X)) / IQR,\n",
    "where IQR is the interquartile range (75th - 25th percentile). This scaler is\n",
    "chosen for its robustness to outliers, utilizing the median rather than the mean.\n",
    "It is particularly beneficial for algorithms that are sensitive to the scale of data,\n",
    "like neural networks, where it promotes zero mean and unit variance, leading to faster\n",
    "gradient descent convergence. It also improves algorithms based on distance measures\n",
    "(e.g., K-nearest neighbors, hierarchical clustering) and those assuming data normality.\n",
    "However, algorithms such as Random Forest, which do not rely on distance or data normality,\n",
    "may not see as much benefit from scaling.\n",
    "\n",
    "Parameters:\n",
    "X_train (array-like): Input data to be scaled.\n",
    "\n",
    "Returns:\n",
    "scaled_data (array-like): Scaled version of X_train.\n",
    "'''\n",
    "\n",
    "pipeline = Pipeline([\n",
    "    ('scaler', RobustScaler()),\n",
    "    ('svr', model)\n",
    "])"
   ]
  },
  {
   "cell_type": "code",
   "execution_count": null,
   "metadata": {
    "ExecuteTime": {
     "end_time": "2024-01-09T23:54:31.631621Z",
     "start_time": "2024-01-09T23:47:26.802735Z"
    },
    "colab": {
     "base_uri": "https://localhost:8080/",
     "height": 236
    },
    "executionInfo": {
     "elapsed": 1548645,
     "status": "ok",
     "timestamp": 1706369447264,
     "user": {
      "displayName": "Paolo Junior Mollica",
      "userId": "04056476783609736856"
     },
     "user_tz": -60
    },
    "id": "xTlfotO1MuIj",
    "outputId": "8ab14fb1-dddc-4463-c968-76e0c78b87c7"
   },
   "outputs": [],
   "source": [
    "from sklearn.model_selection import GridSearchCV, KFold\n",
    "\n",
    "cv = KFold(n_splits=5, shuffle=True, random_state=42)\n",
    "\n",
    "grid_search = GridSearchCV(\n",
    "    pipeline,\n",
    "    param_grid=param_grid,\n",
    "    cv=cv,\n",
    "    scoring=scoring,\n",
    "    refit='MEE',\n",
    "    n_jobs=N_JOBS,\n",
    "    verbose=2\n",
    ")\n",
    "grid_search.fit(X_train, y_train)"
   ]
  },
  {
   "cell_type": "code",
   "execution_count": null,
   "metadata": {
    "ExecuteTime": {
     "end_time": "2024-01-09T23:54:31.635077Z",
     "start_time": "2024-01-09T23:54:31.633090Z"
    },
    "executionInfo": {
     "elapsed": 573,
     "status": "ok",
     "timestamp": 1706369447828,
     "user": {
      "displayName": "Paolo Junior Mollica",
      "userId": "04056476783609736856"
     },
     "user_tz": -60
    },
    "id": "Tr58k6_EMuIj"
   },
   "outputs": [],
   "source": [
    "results = pd.DataFrame(grid_search.cv_results_)\n",
    "results.to_csv(os.path.join(BASE_PATH, 'src', 'cup2023', 'grid_search_SVR_results.csv'), index=False)"
   ]
  },
  {
   "cell_type": "code",
   "execution_count": null,
   "metadata": {
    "ExecuteTime": {
     "end_time": "2024-01-09T23:54:31.648009Z",
     "start_time": "2024-01-09T23:54:31.636927Z"
    },
    "colab": {
     "base_uri": "https://localhost:8080/"
    },
    "executionInfo": {
     "elapsed": 10,
     "status": "ok",
     "timestamp": 1706369447828,
     "user": {
      "displayName": "Paolo Junior Mollica",
      "userId": "04056476783609736856"
     },
     "user_tz": -60
    },
    "id": "Ny01u8T6MuIj",
    "outputId": "a3f6120c-3cdb-420d-dcf7-10b69794a2c8"
   },
   "outputs": [],
   "source": [
    "'''\n",
    "Quando si utilizza grid_search.best_score_ in scikit-learn e si ottiene un valore negativo,\n",
    "ciò è tipicamente dovuto al fatto che scikit-learn trasforma alcune funzioni di scoring in modo\n",
    "che possano essere trattate come funzioni di \"massimizzazione\".\n",
    "'''\n",
    "\n",
    "\n",
    "best_params = grid_search.best_params_\n",
    "best_index = grid_search.best_index_\n",
    "\n",
    "mee = grid_search.best_score_\n",
    "r2 = grid_search.cv_results_['mean_test_R2'][best_index]\n",
    "rmse = grid_search.cv_results_['mean_test_RMSE'][best_index]\n",
    "\n",
    "print('Best parameters:', best_params)\n",
    "print('Best MEE score:', abs(mee))\n",
    "print('R2:', abs(r2))\n",
    "print('RMSE:', abs(rmse))"
   ]
  },
  {
   "cell_type": "markdown",
   "metadata": {
    "collapsed": false,
    "id": "g9f1_oG7MuIj"
   },
   "source": [
    "# Learning curve"
   ]
  },
  {
   "cell_type": "code",
   "execution_count": null,
   "metadata": {
    "ExecuteTime": {
     "end_time": "2024-01-09T23:59:47.367742Z",
     "start_time": "2024-01-09T23:54:31.647416Z"
    },
    "colab": {
     "base_uri": "https://localhost:8080/"
    },
    "executionInfo": {
     "elapsed": 612521,
     "status": "ok",
     "timestamp": 1706370060343,
     "user": {
      "displayName": "Paolo Junior Mollica",
      "userId": "04056476783609736856"
     },
     "user_tz": -60
    },
    "id": "AP_g-yifMuIk",
    "outputId": "2a297deb-8c03-479e-ce09-edc2810a468d"
   },
   "outputs": [],
   "source": [
    "from sklearn.model_selection import learning_curve\n",
    "\n",
    "best_params_cleaned = {key.replace('svr__estimator__', ''): value for key, value in best_params.items()}\n",
    "\n",
    "estimator = Pipeline([\n",
    "    ('scaler', RobustScaler()),\n",
    "    ('svr', MultiOutputRegressor(svm.SVR(**best_params_cleaned)) )\n",
    "])\n",
    "\n",
    "train_sizes, train_scores, validation_scores = learning_curve(\n",
    "    estimator=estimator,\n",
    "    X=X_train,\n",
    "    y=y_train,\n",
    "    train_sizes=[0.1, 0.33, 0.55, 0.78, 1.],\n",
    "    cv=5,\n",
    "    n_jobs=N_JOBS,\n",
    "    verbose=2,\n",
    "    scoring=mee_scorer\n",
    ")"
   ]
  },
  {
   "cell_type": "code",
   "execution_count": null,
   "metadata": {
    "ExecuteTime": {
     "end_time": "2024-01-09T23:59:47.369099Z",
     "start_time": "2024-01-09T23:59:47.366688Z"
    },
    "executionInfo": {
     "elapsed": 28,
     "status": "ok",
     "timestamp": 1706370060344,
     "user": {
      "displayName": "Paolo Junior Mollica",
      "userId": "04056476783609736856"
     },
     "user_tz": -60
    },
    "id": "6mYqrA9sMuIk"
   },
   "outputs": [],
   "source": [
    "train_scores_mean = np.mean(np.abs(train_scores), axis=1)\n",
    "train_scores_std = np.std(np.abs(train_scores), axis=1)\n",
    "validation_scores_mean = np.mean(np.abs(validation_scores), axis=1)\n",
    "validation_scores_std = np.std(np.abs(validation_scores), axis=1)"
   ]
  },
  {
   "cell_type": "code",
   "execution_count": null,
   "metadata": {
    "colab": {
     "base_uri": "https://localhost:8080/"
    },
    "executionInfo": {
     "elapsed": 25,
     "status": "ok",
     "timestamp": 1706370060344,
     "user": {
      "displayName": "Paolo Junior Mollica",
      "userId": "04056476783609736856"
     },
     "user_tz": -60
    },
    "id": "fRb10Kqmf7SF",
    "outputId": "8ce8a899-d0c6-40ae-c916-8f2112b9f21a"
   },
   "outputs": [],
   "source": [
    "print(train_scores_mean[-1])\n",
    "print(train_scores_std[-1])\n",
    "print(validation_scores_mean[-1])\n",
    "print(validation_scores_std[-1])"
   ]
  },
  {
   "cell_type": "code",
   "execution_count": null,
   "metadata": {
    "ExecuteTime": {
     "end_time": "2024-01-09T23:59:47.684Z",
     "start_time": "2024-01-09T23:59:47.368935Z"
    },
    "colab": {
     "base_uri": "https://localhost:8080/",
     "height": 482
    },
    "executionInfo": {
     "elapsed": 3944,
     "status": "ok",
     "timestamp": 1706370064265,
     "user": {
      "displayName": "Paolo Junior Mollica",
      "userId": "04056476783609736856"
     },
     "user_tz": -60
    },
    "id": "Yju2-B_CMuIk",
    "outputId": "7c6550ce-7a46-49ac-d168-0e86fbe580ab"
   },
   "outputs": [],
   "source": [
    "plt.figure()\n",
    "plt.title('Support Vector Regressor Learning Curve', fontweight='bold', fontsize=16)\n",
    "plt.xlabel('Training examples', fontweight='bold')\n",
    "plt.ylabel('Absolute Error', fontweight='bold')\n",
    "plt.grid(True)\n",
    "\n",
    "color1 = sns.dark_palette((20, 60, 50), input='husl')[-1]\n",
    "color2 = sns.dark_palette('seagreen')[-1]\n",
    "\n",
    "# Filling the area around the mean scores to indicate variability of the model's performance\n",
    "# The shaded area represents the range of scores (mean ± standard deviation) for each training set size\n",
    "plt.fill_between(\n",
    "    train_sizes, train_scores_mean - train_scores_std,\n",
    "                 train_scores_mean + train_scores_std, alpha=0.2, color=color1\n",
    ")\n",
    "plt.fill_between(\n",
    "    train_sizes, validation_scores_mean - validation_scores_std,\n",
    "                 validation_scores_mean + validation_scores_std, alpha=0.2, color=color2\n",
    ")\n",
    "\n",
    "# Mean score lines for training and validation\n",
    "sns.lineplot(x=train_sizes, y=train_scores_mean, marker='o', color=color1, label='Training score')\n",
    "sns.lineplot(x=train_sizes, y=validation_scores_mean, marker='s', linestyle='-.', color=color2, label='Cross-validation score')\n",
    "\n",
    "plt.legend(loc='upper right')\n",
    "\n",
    "save_plot(plt, IMAGES_FOLDER, 'learning_curve')\n",
    "plt.show()"
   ]
  },
  {
   "cell_type": "markdown",
   "metadata": {
    "collapsed": false,
    "id": "5ntM1vkfMuIk"
   },
   "source": [
    "# Test of the model"
   ]
  },
  {
   "cell_type": "code",
   "execution_count": null,
   "metadata": {
    "executionInfo": {
     "elapsed": 1139735,
     "status": "ok",
     "timestamp": 1706371211394,
     "user": {
      "displayName": "Paolo Junior Mollica",
      "userId": "04056476783609736856"
     },
     "user_tz": -60
    },
    "id": "ru21WG9OcE74"
   },
   "outputs": [],
   "source": [
    "i = 0\n",
    "final_model = []\n",
    "\n",
    "for train_index, test_index in cv.split(X_train):\n",
    "    X_train_1, X_test_1 = X_train[train_index], X_train[test_index]\n",
    "    y_train_1, y_test_1 = y_train[train_index], y_train[test_index]\n",
    "    i = i + 1\n",
    "\n",
    "    # Generate 5 possible splits and for each one save a model\n",
    "    pipeline_ = Pipeline([\n",
    "        ('scaler', RobustScaler()),\n",
    "        ('svr', MultiOutputRegressor(svm.SVR(**best_params_cleaned)) )\n",
    "    ])\n",
    "\n",
    "    # Save a different model for each fold to make an ensemble one\n",
    "    final_model.append(pipeline_.fit(X_train_1, y_train_1))"
   ]
  },
  {
   "cell_type": "code",
   "execution_count": null,
   "metadata": {
    "ExecuteTime": {
     "end_time": "2024-01-09T23:59:50.478515Z",
     "start_time": "2024-01-09T23:59:50.474992Z"
    },
    "colab": {
     "base_uri": "https://localhost:8080/"
    },
    "executionInfo": {
     "elapsed": 13,
     "status": "ok",
     "timestamp": 1706371211395,
     "user": {
      "displayName": "Paolo Junior Mollica",
      "userId": "04056476783609736856"
     },
     "user_tz": -60
    },
    "id": "ESqEYKeWMuIk",
    "outputId": "12ec0494-27e3-427e-c209-db41a87c9d51"
   },
   "outputs": [],
   "source": [
    "y_pred_ensemble = np.zeros_like(y_test)\n",
    "\n",
    "for model in final_model:\n",
    "    y_pred = model.predict(X_test)\n",
    "    y_pred_ensemble += y_pred\n",
    "\n",
    "y_pred_ensemble /= len(final_model)\n",
    "\n",
    "mee_ensemble = mean_euclidean_error(y_test, y_pred_ensemble)\n",
    "r2_ensemble = multidim_r2(y_test, y_pred_ensemble)\n",
    "rmse_ensemble = root_mean_squared_error(y_test, y_pred_ensemble)\n",
    "mse_ensemble = mean_squared_error(y_test, y_pred_ensemble)\n",
    "\n",
    "print('Ensemble MEE:', mee_ensemble)\n",
    "print('Ensemble R2:', r2_ensemble)\n",
    "print('Ensemble RMSE:', rmse_ensemble)\n",
    "print('Ensemble MSE:', mse_ensemble)"
   ]
  },
  {
   "cell_type": "markdown",
   "metadata": {
    "id": "zRFNfVkicPdV"
   },
   "source": [
    "# Ensemble of the final model using the whole dataset"
   ]
  },
  {
   "cell_type": "code",
   "execution_count": null,
   "metadata": {
    "executionInfo": {
     "elapsed": 1936171,
     "status": "ok",
     "timestamp": 1706373147560,
     "user": {
      "displayName": "Paolo Junior Mollica",
      "userId": "04056476783609736856"
     },
     "user_tz": -60
    },
    "id": "XQiboN6lcQGa"
   },
   "outputs": [],
   "source": [
    "i = 0\n",
    "final_model_ = []\n",
    "\n",
    "for train_index, test_index in cv.split(X):\n",
    "    X_train_1, X_test_1 = X[train_index], X[test_index]\n",
    "    y_train_1, y_test_1 = y[train_index], y[test_index]\n",
    "    i = i + 1\n",
    "\n",
    "    # Generate 5 possible splits and for each one save a model\n",
    "    pipeline_test = Pipeline([\n",
    "        ('scaler', RobustScaler()),\n",
    "        ('svr', MultiOutputRegressor(svm.SVR(**best_params_cleaned)) )\n",
    "    ])\n",
    "\n",
    "    # Save a different model for each fold to make an ensemble one\n",
    "    final_model_.append(pipeline_test.fit(X_train_1, y_train_1))"
   ]
  },
  {
   "cell_type": "markdown",
   "metadata": {
    "collapsed": false,
    "id": "eLp8hMBYMuIk"
   },
   "source": [
    "# Save model"
   ]
  },
  {
   "cell_type": "code",
   "execution_count": null,
   "metadata": {
    "ExecuteTime": {
     "end_time": "2024-01-09T23:59:50.488620Z",
     "start_time": "2024-01-09T23:59:50.479346Z"
    },
    "colab": {
     "base_uri": "https://localhost:8080/"
    },
    "executionInfo": {
     "elapsed": 3102,
     "status": "ok",
     "timestamp": 1706373150634,
     "user": {
      "displayName": "Paolo Junior Mollica",
      "userId": "04056476783609736856"
     },
     "user_tz": -60
    },
    "id": "xUg0G7EQMuIl",
    "outputId": "6503c28f-b3a3-4dfb-e49a-06f2c54e1e47"
   },
   "outputs": [],
   "source": [
    "model_path = os.path.join(MODEL_FOLDER, 'SVR_model.joblib')\n",
    "dump(final_model, model_path, compress=3)\n",
    "\n",
    "model_path = os.path.join(MODEL_FOLDER, 'SVR_model_final.joblib')\n",
    "dump(final_model, model_path, compress=3)"
   ]
  }
 ],
 "metadata": {
  "accelerator": "GPU",
  "colab": {
   "gpuType": "A100",
   "machine_shape": "hm",
   "provenance": []
  },
  "kernelspec": {
   "display_name": "Python 3",
   "name": "python3"
  },
  "language_info": {
   "codemirror_mode": {
    "name": "ipython",
    "version": 3
   },
   "file_extension": ".py",
   "mimetype": "text/x-python",
   "name": "python",
   "nbconvert_exporter": "python",
   "pygments_lexer": "ipython3",
   "version": "3.9.18"
  }
 },
 "nbformat": 4,
 "nbformat_minor": 0
}
