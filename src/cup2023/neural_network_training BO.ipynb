{
 "cells": [
  {
   "cell_type": "code",
   "execution_count": 1,
   "metadata": {
    "ExecuteTime": {
     "end_time": "2024-01-09T17:53:02.509809Z",
     "start_time": "2024-01-09T17:53:02.508339Z"
    },
    "collapsed": true
   },
   "outputs": [],
   "source": [
    "import sys\n",
    "# Aggiungi il percorso della cartella che contiene utils.py a sys.path\n",
    "sys.path.append('../utils')"
   ]
  },
  {
   "cell_type": "code",
   "execution_count": 2,
   "metadata": {
    "ExecuteTime": {
     "end_time": "2024-01-09T17:53:05.699275Z",
     "start_time": "2024-01-09T17:53:02.510645Z"
    },
    "collapsed": false
   },
   "outputs": [],
   "source": [
    "import os\n",
    "import numpy as np\n",
    "import pandas as pd\n",
    "import matplotlib.pyplot as plt\n",
    "import seaborn as sns\n",
    "sns.set_theme(style='darkgrid')\n",
    "\n",
    "from utils import save_plot, mean_euclidean_error, root_mean_squared_error, multidim_r2\n",
    "from NN import NeuralNetwork\n",
    "from joblib import dump"
   ]
  },
  {
   "cell_type": "code",
   "execution_count": 3,
   "metadata": {
    "ExecuteTime": {
     "end_time": "2024-01-09T17:53:05.701473Z",
     "start_time": "2024-01-09T17:53:05.700452Z"
    },
    "collapsed": false
   },
   "outputs": [],
   "source": [
    "TRAIN_DATA = os.path.join('..', '..', 'datasets', 'cup2023', 'ML-CUP23-TR.csv')\n",
    "IMAGES_FOLDER = os.path.join('..', '..', 'images', 'cup2023', 'neural_network')\n",
    "MODEL_FOLDER = os.path.join('..', '..', 'trained_models', 'cup2023')"
   ]
  },
  {
   "cell_type": "code",
   "execution_count": 4,
   "metadata": {
    "ExecuteTime": {
     "end_time": "2024-01-09T17:53:05.714298Z",
     "start_time": "2024-01-09T17:53:05.703466Z"
    },
    "collapsed": false
   },
   "outputs": [
    {
     "data": {
      "text/html": [
       "<div>\n",
       "<style scoped>\n",
       "    .dataframe tbody tr th:only-of-type {\n",
       "        vertical-align: middle;\n",
       "    }\n",
       "\n",
       "    .dataframe tbody tr th {\n",
       "        vertical-align: top;\n",
       "    }\n",
       "\n",
       "    .dataframe thead th {\n",
       "        text-align: right;\n",
       "    }\n",
       "</style>\n",
       "<table border=\"1\" class=\"dataframe\">\n",
       "  <thead>\n",
       "    <tr style=\"text-align: right;\">\n",
       "      <th></th>\n",
       "      <th>1</th>\n",
       "      <th>2</th>\n",
       "      <th>3</th>\n",
       "      <th>4</th>\n",
       "      <th>5</th>\n",
       "      <th>6</th>\n",
       "      <th>7</th>\n",
       "      <th>8</th>\n",
       "      <th>9</th>\n",
       "      <th>10</th>\n",
       "      <th>11</th>\n",
       "      <th>12</th>\n",
       "      <th>13</th>\n",
       "    </tr>\n",
       "  </thead>\n",
       "  <tbody>\n",
       "    <tr>\n",
       "      <th>0</th>\n",
       "      <td>-0.917280</td>\n",
       "      <td>-0.712727</td>\n",
       "      <td>-0.989904</td>\n",
       "      <td>0.992819</td>\n",
       "      <td>0.993649</td>\n",
       "      <td>0.995543</td>\n",
       "      <td>0.711074</td>\n",
       "      <td>0.407645</td>\n",
       "      <td>-0.688548</td>\n",
       "      <td>0.616890</td>\n",
       "      <td>7.897453</td>\n",
       "      <td>-35.936382</td>\n",
       "      <td>21.077147</td>\n",
       "    </tr>\n",
       "    <tr>\n",
       "      <th>1</th>\n",
       "      <td>-0.858784</td>\n",
       "      <td>0.998755</td>\n",
       "      <td>-0.998396</td>\n",
       "      <td>0.999909</td>\n",
       "      <td>0.316503</td>\n",
       "      <td>-0.951897</td>\n",
       "      <td>-0.163139</td>\n",
       "      <td>0.980982</td>\n",
       "      <td>0.661759</td>\n",
       "      <td>-0.800155</td>\n",
       "      <td>-9.330632</td>\n",
       "      <td>19.901571</td>\n",
       "      <td>6.069154</td>\n",
       "    </tr>\n",
       "    <tr>\n",
       "      <th>2</th>\n",
       "      <td>-0.990441</td>\n",
       "      <td>0.958726</td>\n",
       "      <td>-0.998675</td>\n",
       "      <td>0.997216</td>\n",
       "      <td>0.987166</td>\n",
       "      <td>0.356483</td>\n",
       "      <td>-0.279689</td>\n",
       "      <td>0.599163</td>\n",
       "      <td>-0.684630</td>\n",
       "      <td>0.922901</td>\n",
       "      <td>14.849400</td>\n",
       "      <td>3.374090</td>\n",
       "      <td>19.667479</td>\n",
       "    </tr>\n",
       "    <tr>\n",
       "      <th>3</th>\n",
       "      <td>0.937117</td>\n",
       "      <td>0.984474</td>\n",
       "      <td>-0.612420</td>\n",
       "      <td>0.999812</td>\n",
       "      <td>0.728623</td>\n",
       "      <td>-0.539962</td>\n",
       "      <td>-0.165939</td>\n",
       "      <td>0.999352</td>\n",
       "      <td>-0.921444</td>\n",
       "      <td>-0.974766</td>\n",
       "      <td>-46.591854</td>\n",
       "      <td>13.734777</td>\n",
       "      <td>17.953600</td>\n",
       "    </tr>\n",
       "    <tr>\n",
       "      <th>4</th>\n",
       "      <td>-0.906628</td>\n",
       "      <td>-0.884567</td>\n",
       "      <td>-0.932487</td>\n",
       "      <td>0.941037</td>\n",
       "      <td>0.978134</td>\n",
       "      <td>0.998179</td>\n",
       "      <td>0.749606</td>\n",
       "      <td>-0.590599</td>\n",
       "      <td>-0.508268</td>\n",
       "      <td>0.691798</td>\n",
       "      <td>8.217500</td>\n",
       "      <td>-45.885254</td>\n",
       "      <td>14.894251</td>\n",
       "    </tr>\n",
       "  </tbody>\n",
       "</table>\n",
       "</div>"
      ],
      "text/plain": [
       "         1         2         3         4         5         6         7   \\\n",
       "0 -0.917280 -0.712727 -0.989904  0.992819  0.993649  0.995543  0.711074   \n",
       "1 -0.858784  0.998755 -0.998396  0.999909  0.316503 -0.951897 -0.163139   \n",
       "2 -0.990441  0.958726 -0.998675  0.997216  0.987166  0.356483 -0.279689   \n",
       "3  0.937117  0.984474 -0.612420  0.999812  0.728623 -0.539962 -0.165939   \n",
       "4 -0.906628 -0.884567 -0.932487  0.941037  0.978134  0.998179  0.749606   \n",
       "\n",
       "         8         9         10         11         12         13  \n",
       "0  0.407645 -0.688548  0.616890   7.897453 -35.936382  21.077147  \n",
       "1  0.980982  0.661759 -0.800155  -9.330632  19.901571   6.069154  \n",
       "2  0.599163 -0.684630  0.922901  14.849400   3.374090  19.667479  \n",
       "3  0.999352 -0.921444 -0.974766 -46.591854  13.734777  17.953600  \n",
       "4 -0.590599 -0.508268  0.691798   8.217500 -45.885254  14.894251  "
      ]
     },
     "execution_count": 4,
     "metadata": {},
     "output_type": "execute_result"
    }
   ],
   "source": [
    "# To skip the first column (row indexes)\n",
    "columns_to_read = list(range(1, 14))\n",
    "\n",
    "df_train = pd.read_csv(TRAIN_DATA, header=None, comment='#', usecols=columns_to_read, delimiter=',')\n",
    "df_train = df_train.astype('float64') # casting\n",
    "df_train.head()"
   ]
  },
  {
   "cell_type": "code",
   "execution_count": 5,
   "metadata": {
    "ExecuteTime": {
     "end_time": "2024-01-09T17:53:05.727354Z",
     "start_time": "2024-01-09T17:53:05.719727Z"
    },
    "collapsed": false
   },
   "outputs": [
    {
     "data": {
      "text/html": [
       "<div>\n",
       "<style scoped>\n",
       "    .dataframe tbody tr th:only-of-type {\n",
       "        vertical-align: middle;\n",
       "    }\n",
       "\n",
       "    .dataframe tbody tr th {\n",
       "        vertical-align: top;\n",
       "    }\n",
       "\n",
       "    .dataframe thead th {\n",
       "        text-align: right;\n",
       "    }\n",
       "</style>\n",
       "<table border=\"1\" class=\"dataframe\">\n",
       "  <thead>\n",
       "    <tr style=\"text-align: right;\">\n",
       "      <th></th>\n",
       "      <th>feature_1</th>\n",
       "      <th>feature_2</th>\n",
       "      <th>feature_3</th>\n",
       "      <th>feature_4</th>\n",
       "      <th>feature_5</th>\n",
       "      <th>feature_6</th>\n",
       "      <th>feature_7</th>\n",
       "      <th>feature_8</th>\n",
       "      <th>feature_9</th>\n",
       "      <th>feature_10</th>\n",
       "      <th>target_x</th>\n",
       "      <th>target_y</th>\n",
       "      <th>target_z</th>\n",
       "    </tr>\n",
       "  </thead>\n",
       "  <tbody>\n",
       "    <tr>\n",
       "      <th>0</th>\n",
       "      <td>-0.917280</td>\n",
       "      <td>-0.712727</td>\n",
       "      <td>-0.989904</td>\n",
       "      <td>0.992819</td>\n",
       "      <td>0.993649</td>\n",
       "      <td>0.995543</td>\n",
       "      <td>0.711074</td>\n",
       "      <td>0.407645</td>\n",
       "      <td>-0.688548</td>\n",
       "      <td>0.616890</td>\n",
       "      <td>7.897453</td>\n",
       "      <td>-35.936382</td>\n",
       "      <td>21.077147</td>\n",
       "    </tr>\n",
       "    <tr>\n",
       "      <th>1</th>\n",
       "      <td>-0.858784</td>\n",
       "      <td>0.998755</td>\n",
       "      <td>-0.998396</td>\n",
       "      <td>0.999909</td>\n",
       "      <td>0.316503</td>\n",
       "      <td>-0.951897</td>\n",
       "      <td>-0.163139</td>\n",
       "      <td>0.980982</td>\n",
       "      <td>0.661759</td>\n",
       "      <td>-0.800155</td>\n",
       "      <td>-9.330632</td>\n",
       "      <td>19.901571</td>\n",
       "      <td>6.069154</td>\n",
       "    </tr>\n",
       "    <tr>\n",
       "      <th>2</th>\n",
       "      <td>-0.990441</td>\n",
       "      <td>0.958726</td>\n",
       "      <td>-0.998675</td>\n",
       "      <td>0.997216</td>\n",
       "      <td>0.987166</td>\n",
       "      <td>0.356483</td>\n",
       "      <td>-0.279689</td>\n",
       "      <td>0.599163</td>\n",
       "      <td>-0.684630</td>\n",
       "      <td>0.922901</td>\n",
       "      <td>14.849400</td>\n",
       "      <td>3.374090</td>\n",
       "      <td>19.667479</td>\n",
       "    </tr>\n",
       "    <tr>\n",
       "      <th>3</th>\n",
       "      <td>0.937117</td>\n",
       "      <td>0.984474</td>\n",
       "      <td>-0.612420</td>\n",
       "      <td>0.999812</td>\n",
       "      <td>0.728623</td>\n",
       "      <td>-0.539962</td>\n",
       "      <td>-0.165939</td>\n",
       "      <td>0.999352</td>\n",
       "      <td>-0.921444</td>\n",
       "      <td>-0.974766</td>\n",
       "      <td>-46.591854</td>\n",
       "      <td>13.734777</td>\n",
       "      <td>17.953600</td>\n",
       "    </tr>\n",
       "    <tr>\n",
       "      <th>4</th>\n",
       "      <td>-0.906628</td>\n",
       "      <td>-0.884567</td>\n",
       "      <td>-0.932487</td>\n",
       "      <td>0.941037</td>\n",
       "      <td>0.978134</td>\n",
       "      <td>0.998179</td>\n",
       "      <td>0.749606</td>\n",
       "      <td>-0.590599</td>\n",
       "      <td>-0.508268</td>\n",
       "      <td>0.691798</td>\n",
       "      <td>8.217500</td>\n",
       "      <td>-45.885254</td>\n",
       "      <td>14.894251</td>\n",
       "    </tr>\n",
       "  </tbody>\n",
       "</table>\n",
       "</div>"
      ],
      "text/plain": [
       "   feature_1  feature_2  feature_3  feature_4  feature_5  feature_6  \\\n",
       "0  -0.917280  -0.712727  -0.989904   0.992819   0.993649   0.995543   \n",
       "1  -0.858784   0.998755  -0.998396   0.999909   0.316503  -0.951897   \n",
       "2  -0.990441   0.958726  -0.998675   0.997216   0.987166   0.356483   \n",
       "3   0.937117   0.984474  -0.612420   0.999812   0.728623  -0.539962   \n",
       "4  -0.906628  -0.884567  -0.932487   0.941037   0.978134   0.998179   \n",
       "\n",
       "   feature_7  feature_8  feature_9  feature_10   target_x   target_y  \\\n",
       "0   0.711074   0.407645  -0.688548    0.616890   7.897453 -35.936382   \n",
       "1  -0.163139   0.980982   0.661759   -0.800155  -9.330632  19.901571   \n",
       "2  -0.279689   0.599163  -0.684630    0.922901  14.849400   3.374090   \n",
       "3  -0.165939   0.999352  -0.921444   -0.974766 -46.591854  13.734777   \n",
       "4   0.749606  -0.590599  -0.508268    0.691798   8.217500 -45.885254   \n",
       "\n",
       "    target_z  \n",
       "0  21.077147  \n",
       "1   6.069154  \n",
       "2  19.667479  \n",
       "3  17.953600  \n",
       "4  14.894251  "
      ]
     },
     "execution_count": 5,
     "metadata": {},
     "output_type": "execute_result"
    }
   ],
   "source": [
    "features = ['feature_' + str(i) for i in range(1, 11)]\n",
    "targets = ['target_x', 'target_y', 'target_z']\n",
    "\n",
    "# Rename columns\n",
    "new_column_names = features + targets\n",
    "df_train.columns = new_column_names\n",
    "\n",
    "df_train.head()"
   ]
  },
  {
   "cell_type": "code",
   "execution_count": 6,
   "metadata": {
    "ExecuteTime": {
     "end_time": "2024-01-09T17:53:05.765256Z",
     "start_time": "2024-01-09T17:53:05.726031Z"
    },
    "collapsed": false
   },
   "outputs": [],
   "source": [
    "from sklearn.model_selection import train_test_split\n",
    "\n",
    "X = df_train[features].to_numpy()\n",
    "y = df_train[targets].to_numpy()\n",
    "\n",
    "# TODO split potenzialmente variabile?\n",
    "X_train, X_test, y_train, y_test = train_test_split(X, y, test_size=0.2, random_state=42)"
   ]
  },
  {
   "cell_type": "markdown",
   "metadata": {
    "collapsed": false
   },
   "source": [
    "# Create model"
   ]
  },
  {
   "cell_type": "code",
   "execution_count": 7,
   "metadata": {
    "ExecuteTime": {
     "end_time": "2024-01-09T17:53:05.765435Z",
     "start_time": "2024-01-09T17:53:05.749503Z"
    },
    "collapsed": false
   },
   "outputs": [],
   "source": [
    "def build_model(architecture, activation, learning_rate, momentum, nesterov, weight_decay, input_dimension,\n",
    "                output_dimension, dropout_input_rate, dropout_hidden_rate):\n",
    "\n",
    "    nn = NeuralNetwork(\n",
    "        architecture=architecture,\n",
    "        activation=activation,\n",
    "        learning_rate=learning_rate,\n",
    "        momentum=momentum,\n",
    "        use_nesterov=nesterov,\n",
    "        weight_decay=weight_decay,\n",
    "        input_dimension=input_dimension,\n",
    "        output_dimension=output_dimension,\n",
    "        dropout_input_rate=dropout_input_rate,\n",
    "        dropout_hidden_rate=dropout_hidden_rate\n",
    "    )\n",
    "\n",
    "    return nn.build_model()"
   ]
  },
  {
   "cell_type": "code",
   "execution_count": 8,
   "metadata": {
    "ExecuteTime": {
     "end_time": "2024-01-09T17:53:05.795415Z",
     "start_time": "2024-01-09T17:53:05.749738Z"
    },
    "collapsed": false
   },
   "outputs": [],
   "source": [
    "from sklearn.preprocessing import RobustScaler\n",
    "from sklearn.pipeline import Pipeline\n",
    "from scikeras.wrappers import KerasRegressor\n",
    "\n",
    "pipeline = Pipeline([\n",
    "    ('scaler', RobustScaler()),\n",
    "    ('neuralnetwork', KerasRegressor(build_model, epochs=100, batch_size=32, verbose=0))\n",
    "])"
   ]
  },
  {
   "cell_type": "code",
   "execution_count": 9,
   "metadata": {
    "ExecuteTime": {
     "end_time": "2024-01-09T17:53:05.809755Z",
     "start_time": "2024-01-09T17:53:05.771120Z"
    },
    "collapsed": false
   },
   "outputs": [],
   "source": [
    "from skopt.space import Real, Integer, Categorical\n",
    "from skopt import BayesSearchCV\n",
    "\n",
    "search_spaces = {\n",
    "    'neuralnetwork__model__architecture': Categorical([(64, 64), (128, 64), (128, 128)]),\n",
    "    'neuralnetwork__model__activation': Categorical(['relu']),\n",
    "    'neuralnetwork__model__learning_rate': Real(0.0001, 0.01, prior='log-uniform'),\n",
    "    'neuralnetwork__model__momentum': Real(0.5, 0.9, prior='uniform'),\n",
    "    'neuralnetwork__model__nesterov': Categorical([True, False]),\n",
    "    'neuralnetwork__model__weight_decay': Real(1e-6, 1e-4, prior='log-uniform'),\n",
    "    'neuralnetwork__model__input_dimension': Categorical([10]),\n",
    "    'neuralnetwork__model__output_dimension': Categorical([3]),\n",
    "    'neuralnetwork__model__dropout_input_rate': Real(0.0, 0.5, prior='uniform'),\n",
    "    'neuralnetwork__model__dropout_hidden_rate': Real(0.0, 0.5, prior='uniform')\n",
    "}\n",
    "\n",
    "\n"
   ]
  },
  {
   "cell_type": "code",
   "execution_count": 10,
   "metadata": {
    "ExecuteTime": {
     "end_time": "2024-01-09T17:53:05.809990Z",
     "start_time": "2024-01-09T17:53:05.774309Z"
    },
    "collapsed": false
   },
   "outputs": [],
   "source": [
    "from sklearn.metrics import make_scorer\n",
    "\n",
    "mee_scorer = make_scorer(mean_euclidean_error, greater_is_better=False)\n",
    "rmse_scorer = make_scorer(root_mean_squared_error, greater_is_better=False)\n",
    "multidim_r2_scorer = make_scorer(multidim_r2, greater_is_better=True)\n",
    "\n",
    "scoring = {'MEE': mee_scorer, 'R2': multidim_r2_scorer, 'RMSE': rmse_scorer}"
   ]
  },
  {
   "cell_type": "code",
   "execution_count": 11,
   "metadata": {
    "ExecuteTime": {
     "end_time": "2024-01-09T17:53:35.882897Z",
     "start_time": "2024-01-09T17:53:05.778701Z"
    },
    "collapsed": false
   },
   "outputs": [
    {
     "ename": "AttributeError",
     "evalue": "module 'numpy' has no attribute 'int'.\n`np.int` was a deprecated alias for the builtin `int`. To avoid this error in existing code, use `int` by itself. Doing this will not modify any behavior and is safe. When replacing `np.int`, you may wish to use e.g. `np.int64` or `np.int32` to specify the precision. If you wish to review your current use, check the release note link for additional information.\nThe aliases was originally deprecated in NumPy 1.20; for more details and guidance see the original release note at:\n    https://numpy.org/devdocs/release/1.20.0-notes.html#deprecations",
     "output_type": "error",
     "traceback": [
      "\u001b[0;31m---------------------------------------------------------------------------\u001b[0m",
      "\u001b[0;31mAttributeError\u001b[0m                            Traceback (most recent call last)",
      "\u001b[1;32m/Users/nunzio/VIsualStudioProject/ML_Project23/machine-learning-project/src/cup2023/neural_network_training BO.ipynb Cell 12\u001b[0m line \u001b[0;36m1\n\u001b[1;32m      <a href='vscode-notebook-cell:/Users/nunzio/VIsualStudioProject/ML_Project23/machine-learning-project/src/cup2023/neural_network_training%20BO.ipynb#X14sZmlsZQ%3D%3D?line=0'>1</a>\u001b[0m bayes_search \u001b[39m=\u001b[39m BayesSearchCV(\n\u001b[1;32m      <a href='vscode-notebook-cell:/Users/nunzio/VIsualStudioProject/ML_Project23/machine-learning-project/src/cup2023/neural_network_training%20BO.ipynb#X14sZmlsZQ%3D%3D?line=1'>2</a>\u001b[0m     pipeline,\n\u001b[1;32m      <a href='vscode-notebook-cell:/Users/nunzio/VIsualStudioProject/ML_Project23/machine-learning-project/src/cup2023/neural_network_training%20BO.ipynb#X14sZmlsZQ%3D%3D?line=2'>3</a>\u001b[0m     search_spaces\u001b[39m=\u001b[39msearch_spaces,\n\u001b[0;32m   (...)\u001b[0m\n\u001b[1;32m      <a href='vscode-notebook-cell:/Users/nunzio/VIsualStudioProject/ML_Project23/machine-learning-project/src/cup2023/neural_network_training%20BO.ipynb#X14sZmlsZQ%3D%3D?line=8'>9</a>\u001b[0m     n_iter\u001b[39m=\u001b[39m\u001b[39m30\u001b[39m,  \u001b[39m# Numero di iterazioni di ottimizzazione\u001b[39;00m\n\u001b[1;32m     <a href='vscode-notebook-cell:/Users/nunzio/VIsualStudioProject/ML_Project23/machine-learning-project/src/cup2023/neural_network_training%20BO.ipynb#X14sZmlsZQ%3D%3D?line=9'>10</a>\u001b[0m )\n\u001b[0;32m---> <a href='vscode-notebook-cell:/Users/nunzio/VIsualStudioProject/ML_Project23/machine-learning-project/src/cup2023/neural_network_training%20BO.ipynb#X14sZmlsZQ%3D%3D?line=11'>12</a>\u001b[0m bayes_search\u001b[39m.\u001b[39;49mfit(X_train, y_train)\n",
      "File \u001b[0;32m~/miniforge3/envs/ML23/lib/python3.9/site-packages/skopt/searchcv.py:466\u001b[0m, in \u001b[0;36mBayesSearchCV.fit\u001b[0;34m(self, X, y, groups, callback, **fit_params)\u001b[0m\n\u001b[1;32m    463\u001b[0m \u001b[39melse\u001b[39;00m:\n\u001b[1;32m    464\u001b[0m     \u001b[39mself\u001b[39m\u001b[39m.\u001b[39moptimizer_kwargs_ \u001b[39m=\u001b[39m \u001b[39mdict\u001b[39m(\u001b[39mself\u001b[39m\u001b[39m.\u001b[39moptimizer_kwargs)\n\u001b[0;32m--> 466\u001b[0m \u001b[39msuper\u001b[39;49m()\u001b[39m.\u001b[39;49mfit(X\u001b[39m=\u001b[39;49mX, y\u001b[39m=\u001b[39;49my, groups\u001b[39m=\u001b[39;49mgroups, \u001b[39m*\u001b[39;49m\u001b[39m*\u001b[39;49mfit_params)\n\u001b[1;32m    468\u001b[0m \u001b[39m# BaseSearchCV never ranked train scores,\u001b[39;00m\n\u001b[1;32m    469\u001b[0m \u001b[39m# but apparently we used to ship this (back-compat)\u001b[39;00m\n\u001b[1;32m    470\u001b[0m \u001b[39mif\u001b[39;00m \u001b[39mself\u001b[39m\u001b[39m.\u001b[39mreturn_train_score:\n",
      "File \u001b[0;32m~/miniforge3/envs/ML23/lib/python3.9/site-packages/sklearn/base.py:1152\u001b[0m, in \u001b[0;36m_fit_context.<locals>.decorator.<locals>.wrapper\u001b[0;34m(estimator, *args, **kwargs)\u001b[0m\n\u001b[1;32m   1145\u001b[0m     estimator\u001b[39m.\u001b[39m_validate_params()\n\u001b[1;32m   1147\u001b[0m \u001b[39mwith\u001b[39;00m config_context(\n\u001b[1;32m   1148\u001b[0m     skip_parameter_validation\u001b[39m=\u001b[39m(\n\u001b[1;32m   1149\u001b[0m         prefer_skip_nested_validation \u001b[39mor\u001b[39;00m global_skip_validation\n\u001b[1;32m   1150\u001b[0m     )\n\u001b[1;32m   1151\u001b[0m ):\n\u001b[0;32m-> 1152\u001b[0m     \u001b[39mreturn\u001b[39;00m fit_method(estimator, \u001b[39m*\u001b[39;49margs, \u001b[39m*\u001b[39;49m\u001b[39m*\u001b[39;49mkwargs)\n",
      "File \u001b[0;32m~/miniforge3/envs/ML23/lib/python3.9/site-packages/sklearn/model_selection/_search.py:898\u001b[0m, in \u001b[0;36mBaseSearchCV.fit\u001b[0;34m(self, X, y, groups, **fit_params)\u001b[0m\n\u001b[1;32m    892\u001b[0m     results \u001b[39m=\u001b[39m \u001b[39mself\u001b[39m\u001b[39m.\u001b[39m_format_results(\n\u001b[1;32m    893\u001b[0m         all_candidate_params, n_splits, all_out, all_more_results\n\u001b[1;32m    894\u001b[0m     )\n\u001b[1;32m    896\u001b[0m     \u001b[39mreturn\u001b[39;00m results\n\u001b[0;32m--> 898\u001b[0m \u001b[39mself\u001b[39;49m\u001b[39m.\u001b[39;49m_run_search(evaluate_candidates)\n\u001b[1;32m    900\u001b[0m \u001b[39m# multimetric is determined here because in the case of a callable\u001b[39;00m\n\u001b[1;32m    901\u001b[0m \u001b[39m# self.scoring the return type is only known after calling\u001b[39;00m\n\u001b[1;32m    902\u001b[0m first_test_score \u001b[39m=\u001b[39m all_out[\u001b[39m0\u001b[39m][\u001b[39m\"\u001b[39m\u001b[39mtest_scores\u001b[39m\u001b[39m\"\u001b[39m]\n",
      "File \u001b[0;32m~/miniforge3/envs/ML23/lib/python3.9/site-packages/skopt/searchcv.py:512\u001b[0m, in \u001b[0;36mBayesSearchCV._run_search\u001b[0;34m(self, evaluate_candidates)\u001b[0m\n\u001b[1;32m    508\u001b[0m \u001b[39mwhile\u001b[39;00m n_iter \u001b[39m>\u001b[39m \u001b[39m0\u001b[39m:\n\u001b[1;32m    509\u001b[0m     \u001b[39m# when n_iter < n_points points left for evaluation\u001b[39;00m\n\u001b[1;32m    510\u001b[0m     n_points_adjusted \u001b[39m=\u001b[39m \u001b[39mmin\u001b[39m(n_iter, n_points)\n\u001b[0;32m--> 512\u001b[0m     optim_result \u001b[39m=\u001b[39m \u001b[39mself\u001b[39;49m\u001b[39m.\u001b[39;49m_step(\n\u001b[1;32m    513\u001b[0m         search_space, optimizer,\n\u001b[1;32m    514\u001b[0m         evaluate_candidates, n_points\u001b[39m=\u001b[39;49mn_points_adjusted\n\u001b[1;32m    515\u001b[0m     )\n\u001b[1;32m    516\u001b[0m     n_iter \u001b[39m-\u001b[39m\u001b[39m=\u001b[39m n_points\n\u001b[1;32m    518\u001b[0m     \u001b[39mif\u001b[39;00m eval_callbacks(callbacks, optim_result):\n",
      "File \u001b[0;32m~/miniforge3/envs/ML23/lib/python3.9/site-packages/skopt/searchcv.py:400\u001b[0m, in \u001b[0;36mBayesSearchCV._step\u001b[0;34m(self, search_space, optimizer, evaluate_candidates, n_points)\u001b[0m\n\u001b[1;32m    397\u001b[0m \u001b[39m\u001b[39m\u001b[39m\"\"\"Generate n_jobs parameters and evaluate them in parallel.\u001b[39;00m\n\u001b[1;32m    398\u001b[0m \u001b[39m\"\"\"\u001b[39;00m\n\u001b[1;32m    399\u001b[0m \u001b[39m# get parameter values to evaluate\u001b[39;00m\n\u001b[0;32m--> 400\u001b[0m params \u001b[39m=\u001b[39m optimizer\u001b[39m.\u001b[39;49mask(n_points\u001b[39m=\u001b[39;49mn_points)\n\u001b[1;32m    402\u001b[0m \u001b[39m# convert parameters to python native types\u001b[39;00m\n\u001b[1;32m    403\u001b[0m params \u001b[39m=\u001b[39m [[np\u001b[39m.\u001b[39marray(v)\u001b[39m.\u001b[39mitem() \u001b[39mfor\u001b[39;00m v \u001b[39min\u001b[39;00m p] \u001b[39mfor\u001b[39;00m p \u001b[39min\u001b[39;00m params]\n",
      "File \u001b[0;32m~/miniforge3/envs/ML23/lib/python3.9/site-packages/skopt/optimizer/optimizer.py:395\u001b[0m, in \u001b[0;36mOptimizer.ask\u001b[0;34m(self, n_points, strategy)\u001b[0m\n\u001b[1;32m    393\u001b[0m X \u001b[39m=\u001b[39m []\n\u001b[1;32m    394\u001b[0m \u001b[39mfor\u001b[39;00m i \u001b[39min\u001b[39;00m \u001b[39mrange\u001b[39m(n_points):\n\u001b[0;32m--> 395\u001b[0m     x \u001b[39m=\u001b[39m opt\u001b[39m.\u001b[39;49mask()\n\u001b[1;32m    396\u001b[0m     X\u001b[39m.\u001b[39mappend(x)\n\u001b[1;32m    398\u001b[0m     ti_available \u001b[39m=\u001b[39m \u001b[39m\"\u001b[39m\u001b[39mps\u001b[39m\u001b[39m\"\u001b[39m \u001b[39min\u001b[39;00m \u001b[39mself\u001b[39m\u001b[39m.\u001b[39macq_func \u001b[39mand\u001b[39;00m \u001b[39mlen\u001b[39m(opt\u001b[39m.\u001b[39myi) \u001b[39m>\u001b[39m \u001b[39m0\u001b[39m\n",
      "File \u001b[0;32m~/miniforge3/envs/ML23/lib/python3.9/site-packages/skopt/optimizer/optimizer.py:367\u001b[0m, in \u001b[0;36mOptimizer.ask\u001b[0;34m(self, n_points, strategy)\u001b[0m\n\u001b[1;32m    336\u001b[0m \u001b[39m\u001b[39m\u001b[39m\"\"\"Query point or multiple points at which objective should be evaluated.\u001b[39;00m\n\u001b[1;32m    337\u001b[0m \n\u001b[1;32m    338\u001b[0m \u001b[39mn_points : int or None, default: None\u001b[39;00m\n\u001b[0;32m   (...)\u001b[0m\n\u001b[1;32m    364\u001b[0m \n\u001b[1;32m    365\u001b[0m \u001b[39m\"\"\"\u001b[39;00m\n\u001b[1;32m    366\u001b[0m \u001b[39mif\u001b[39;00m n_points \u001b[39mis\u001b[39;00m \u001b[39mNone\u001b[39;00m:\n\u001b[0;32m--> 367\u001b[0m     \u001b[39mreturn\u001b[39;00m \u001b[39mself\u001b[39;49m\u001b[39m.\u001b[39;49m_ask()\n\u001b[1;32m    369\u001b[0m supported_strategies \u001b[39m=\u001b[39m [\u001b[39m\"\u001b[39m\u001b[39mcl_min\u001b[39m\u001b[39m\"\u001b[39m, \u001b[39m\"\u001b[39m\u001b[39mcl_mean\u001b[39m\u001b[39m\"\u001b[39m, \u001b[39m\"\u001b[39m\u001b[39mcl_max\u001b[39m\u001b[39m\"\u001b[39m]\n\u001b[1;32m    371\u001b[0m \u001b[39mif\u001b[39;00m \u001b[39mnot\u001b[39;00m (\u001b[39misinstance\u001b[39m(n_points, \u001b[39mint\u001b[39m) \u001b[39mand\u001b[39;00m n_points \u001b[39m>\u001b[39m \u001b[39m0\u001b[39m):\n",
      "File \u001b[0;32m~/miniforge3/envs/ML23/lib/python3.9/site-packages/skopt/optimizer/optimizer.py:434\u001b[0m, in \u001b[0;36mOptimizer._ask\u001b[0;34m(self)\u001b[0m\n\u001b[1;32m    430\u001b[0m \u001b[39mif\u001b[39;00m \u001b[39mself\u001b[39m\u001b[39m.\u001b[39m_n_initial_points \u001b[39m>\u001b[39m \u001b[39m0\u001b[39m \u001b[39mor\u001b[39;00m \u001b[39mself\u001b[39m\u001b[39m.\u001b[39mbase_estimator_ \u001b[39mis\u001b[39;00m \u001b[39mNone\u001b[39;00m:\n\u001b[1;32m    431\u001b[0m     \u001b[39m# this will not make a copy of `self.rng` and hence keep advancing\u001b[39;00m\n\u001b[1;32m    432\u001b[0m     \u001b[39m# our random state.\u001b[39;00m\n\u001b[1;32m    433\u001b[0m     \u001b[39mif\u001b[39;00m \u001b[39mself\u001b[39m\u001b[39m.\u001b[39m_initial_samples \u001b[39mis\u001b[39;00m \u001b[39mNone\u001b[39;00m:\n\u001b[0;32m--> 434\u001b[0m         \u001b[39mreturn\u001b[39;00m \u001b[39mself\u001b[39;49m\u001b[39m.\u001b[39;49mspace\u001b[39m.\u001b[39;49mrvs(random_state\u001b[39m=\u001b[39;49m\u001b[39mself\u001b[39;49m\u001b[39m.\u001b[39;49mrng)[\u001b[39m0\u001b[39m]\n\u001b[1;32m    435\u001b[0m     \u001b[39melse\u001b[39;00m:\n\u001b[1;32m    436\u001b[0m         \u001b[39m# The samples are evaluated starting form initial_samples[0]\u001b[39;00m\n\u001b[1;32m    437\u001b[0m         \u001b[39mreturn\u001b[39;00m \u001b[39mself\u001b[39m\u001b[39m.\u001b[39m_initial_samples[\n\u001b[1;32m    438\u001b[0m             \u001b[39mlen\u001b[39m(\u001b[39mself\u001b[39m\u001b[39m.\u001b[39m_initial_samples) \u001b[39m-\u001b[39m \u001b[39mself\u001b[39m\u001b[39m.\u001b[39m_n_initial_points]\n",
      "File \u001b[0;32m~/miniforge3/envs/ML23/lib/python3.9/site-packages/skopt/space/space.py:900\u001b[0m, in \u001b[0;36mSpace.rvs\u001b[0;34m(self, n_samples, random_state)\u001b[0m\n\u001b[1;32m    897\u001b[0m columns \u001b[39m=\u001b[39m []\n\u001b[1;32m    899\u001b[0m \u001b[39mfor\u001b[39;00m dim \u001b[39min\u001b[39;00m \u001b[39mself\u001b[39m\u001b[39m.\u001b[39mdimensions:\n\u001b[0;32m--> 900\u001b[0m     columns\u001b[39m.\u001b[39mappend(dim\u001b[39m.\u001b[39;49mrvs(n_samples\u001b[39m=\u001b[39;49mn_samples, random_state\u001b[39m=\u001b[39;49mrng))\n\u001b[1;32m    902\u001b[0m \u001b[39m# Transpose\u001b[39;00m\n\u001b[1;32m    903\u001b[0m \u001b[39mreturn\u001b[39;00m _transpose_list_array(columns)\n",
      "File \u001b[0;32m~/miniforge3/envs/ML23/lib/python3.9/site-packages/skopt/space/space.py:698\u001b[0m, in \u001b[0;36mCategorical.rvs\u001b[0;34m(self, n_samples, random_state)\u001b[0m\n\u001b[1;32m    696\u001b[0m     \u001b[39mreturn\u001b[39;00m \u001b[39mself\u001b[39m\u001b[39m.\u001b[39minverse_transform([(choices)])\n\u001b[1;32m    697\u001b[0m \u001b[39melif\u001b[39;00m \u001b[39mself\u001b[39m\u001b[39m.\u001b[39mtransform_ \u001b[39m==\u001b[39m \u001b[39m\"\u001b[39m\u001b[39mnormalize\u001b[39m\u001b[39m\"\u001b[39m:\n\u001b[0;32m--> 698\u001b[0m     \u001b[39mreturn\u001b[39;00m \u001b[39mself\u001b[39;49m\u001b[39m.\u001b[39;49minverse_transform(\u001b[39mlist\u001b[39;49m(choices))\n\u001b[1;32m    699\u001b[0m \u001b[39melse\u001b[39;00m:\n\u001b[1;32m    700\u001b[0m     \u001b[39mreturn\u001b[39;00m [\u001b[39mself\u001b[39m\u001b[39m.\u001b[39mcategories[c] \u001b[39mfor\u001b[39;00m c \u001b[39min\u001b[39;00m choices]\n",
      "File \u001b[0;32m~/miniforge3/envs/ML23/lib/python3.9/site-packages/skopt/space/space.py:685\u001b[0m, in \u001b[0;36mCategorical.inverse_transform\u001b[0;34m(self, Xt)\u001b[0m\n\u001b[1;32m    680\u001b[0m \u001b[39m\u001b[39m\u001b[39m\"\"\"Inverse transform samples from the warped space back into the\u001b[39;00m\n\u001b[1;32m    681\u001b[0m \u001b[39m   original space.\u001b[39;00m\n\u001b[1;32m    682\u001b[0m \u001b[39m\"\"\"\u001b[39;00m\n\u001b[1;32m    683\u001b[0m \u001b[39m# The concatenation of all transformed dimensions makes Xt to be\u001b[39;00m\n\u001b[1;32m    684\u001b[0m \u001b[39m# of type float, hence the required cast back to int.\u001b[39;00m\n\u001b[0;32m--> 685\u001b[0m inv_transform \u001b[39m=\u001b[39m \u001b[39msuper\u001b[39;49m(Categorical, \u001b[39mself\u001b[39;49m)\u001b[39m.\u001b[39;49minverse_transform(Xt)\n\u001b[1;32m    686\u001b[0m \u001b[39mif\u001b[39;00m \u001b[39misinstance\u001b[39m(inv_transform, \u001b[39mlist\u001b[39m):\n\u001b[1;32m    687\u001b[0m     inv_transform \u001b[39m=\u001b[39m np\u001b[39m.\u001b[39marray(inv_transform)\n",
      "File \u001b[0;32m~/miniforge3/envs/ML23/lib/python3.9/site-packages/skopt/space/space.py:168\u001b[0m, in \u001b[0;36mDimension.inverse_transform\u001b[0;34m(self, Xt)\u001b[0m\n\u001b[1;32m    164\u001b[0m \u001b[39mdef\u001b[39;00m \u001b[39minverse_transform\u001b[39m(\u001b[39mself\u001b[39m, Xt):\n\u001b[1;32m    165\u001b[0m \u001b[39m    \u001b[39m\u001b[39m\"\"\"Inverse transform samples from the warped space back into the\u001b[39;00m\n\u001b[1;32m    166\u001b[0m \u001b[39m       original space.\u001b[39;00m\n\u001b[1;32m    167\u001b[0m \u001b[39m    \"\"\"\u001b[39;00m\n\u001b[0;32m--> 168\u001b[0m     \u001b[39mreturn\u001b[39;00m \u001b[39mself\u001b[39;49m\u001b[39m.\u001b[39;49mtransformer\u001b[39m.\u001b[39;49minverse_transform(Xt)\n",
      "File \u001b[0;32m~/miniforge3/envs/ML23/lib/python3.9/site-packages/skopt/space/transformers.py:309\u001b[0m, in \u001b[0;36mPipeline.inverse_transform\u001b[0;34m(self, X)\u001b[0m\n\u001b[1;32m    307\u001b[0m \u001b[39mdef\u001b[39;00m \u001b[39minverse_transform\u001b[39m(\u001b[39mself\u001b[39m, X):\n\u001b[1;32m    308\u001b[0m     \u001b[39mfor\u001b[39;00m transformer \u001b[39min\u001b[39;00m \u001b[39mself\u001b[39m\u001b[39m.\u001b[39mtransformers[::\u001b[39m-\u001b[39m\u001b[39m1\u001b[39m]:\n\u001b[0;32m--> 309\u001b[0m         X \u001b[39m=\u001b[39m transformer\u001b[39m.\u001b[39;49minverse_transform(X)\n\u001b[1;32m    310\u001b[0m     \u001b[39mreturn\u001b[39;00m X\n",
      "File \u001b[0;32m~/miniforge3/envs/ML23/lib/python3.9/site-packages/skopt/space/transformers.py:275\u001b[0m, in \u001b[0;36mNormalize.inverse_transform\u001b[0;34m(self, X)\u001b[0m\n\u001b[1;32m    273\u001b[0m X_orig \u001b[39m=\u001b[39m X \u001b[39m*\u001b[39m (\u001b[39mself\u001b[39m\u001b[39m.\u001b[39mhigh \u001b[39m-\u001b[39m \u001b[39mself\u001b[39m\u001b[39m.\u001b[39mlow) \u001b[39m+\u001b[39m \u001b[39mself\u001b[39m\u001b[39m.\u001b[39mlow\n\u001b[1;32m    274\u001b[0m \u001b[39mif\u001b[39;00m \u001b[39mself\u001b[39m\u001b[39m.\u001b[39mis_int:\n\u001b[0;32m--> 275\u001b[0m     \u001b[39mreturn\u001b[39;00m np\u001b[39m.\u001b[39mround(X_orig)\u001b[39m.\u001b[39mastype(np\u001b[39m.\u001b[39;49mint)\n\u001b[1;32m    276\u001b[0m \u001b[39mreturn\u001b[39;00m X_orig\n",
      "File \u001b[0;32m~/miniforge3/envs/ML23/lib/python3.9/site-packages/numpy/__init__.py:324\u001b[0m, in \u001b[0;36m__getattr__\u001b[0;34m(attr)\u001b[0m\n\u001b[1;32m    319\u001b[0m     warnings\u001b[39m.\u001b[39mwarn(\n\u001b[1;32m    320\u001b[0m         \u001b[39mf\u001b[39m\u001b[39m\"\u001b[39m\u001b[39mIn the future `np.\u001b[39m\u001b[39m{\u001b[39;00mattr\u001b[39m}\u001b[39;00m\u001b[39m` will be defined as the \u001b[39m\u001b[39m\"\u001b[39m\n\u001b[1;32m    321\u001b[0m         \u001b[39m\"\u001b[39m\u001b[39mcorresponding NumPy scalar.\u001b[39m\u001b[39m\"\u001b[39m, \u001b[39mFutureWarning\u001b[39;00m, stacklevel\u001b[39m=\u001b[39m\u001b[39m2\u001b[39m)\n\u001b[1;32m    323\u001b[0m \u001b[39mif\u001b[39;00m attr \u001b[39min\u001b[39;00m __former_attrs__:\n\u001b[0;32m--> 324\u001b[0m     \u001b[39mraise\u001b[39;00m \u001b[39mAttributeError\u001b[39;00m(__former_attrs__[attr])\n\u001b[1;32m    326\u001b[0m \u001b[39mif\u001b[39;00m attr \u001b[39m==\u001b[39m \u001b[39m'\u001b[39m\u001b[39mtesting\u001b[39m\u001b[39m'\u001b[39m:\n\u001b[1;32m    327\u001b[0m     \u001b[39mimport\u001b[39;00m \u001b[39mnumpy\u001b[39;00m\u001b[39m.\u001b[39;00m\u001b[39mtesting\u001b[39;00m \u001b[39mas\u001b[39;00m \u001b[39mtesting\u001b[39;00m\n",
      "\u001b[0;31mAttributeError\u001b[0m: module 'numpy' has no attribute 'int'.\n`np.int` was a deprecated alias for the builtin `int`. To avoid this error in existing code, use `int` by itself. Doing this will not modify any behavior and is safe. When replacing `np.int`, you may wish to use e.g. `np.int64` or `np.int32` to specify the precision. If you wish to review your current use, check the release note link for additional information.\nThe aliases was originally deprecated in NumPy 1.20; for more details and guidance see the original release note at:\n    https://numpy.org/devdocs/release/1.20.0-notes.html#deprecations"
     ]
    }
   ],
   "source": [
    "bayes_search = BayesSearchCV(\n",
    "    pipeline,\n",
    "    search_spaces=search_spaces,\n",
    "    cv=5,\n",
    "    scoring=scoring,\n",
    "    refit='MEE',\n",
    "    n_jobs=-1,\n",
    "    verbose= 2,\n",
    "    n_iter=30,  # Numero di iterazioni di ottimizzazione\n",
    ")\n",
    "np.int = int\n",
    "\n",
    "\n",
    "bayes_search.fit(X_train, y_train)"
   ]
  },
  {
   "cell_type": "code",
   "execution_count": null,
   "metadata": {
    "ExecuteTime": {
     "start_time": "2024-01-09T17:53:35.876127Z"
    },
    "collapsed": false
   },
   "outputs": [],
   "source": [
    "best_params = bayes_search.best_params_\n",
    "best_index = bayes_search.best_index_\n",
    "\n",
    "mee = bayes_search.best_score_\n",
    "r2 = bayes_search.cv_results_['mean_test_R2'][best_index]\n",
    "rmse = bayes_search.cv_results_['mean_test_RMSE'][best_index]\n",
    "\n",
    "print('Best parameters:', best_params)\n",
    "print('Best MEE score:', abs(mee))\n",
    "print('R2:', abs(r2))\n",
    "print('RMSE:', abs(rmse))"
   ]
  },
  {
   "cell_type": "code",
   "execution_count": null,
   "metadata": {
    "ExecuteTime": {
     "start_time": "2024-01-09T17:53:35.877939Z"
    },
    "collapsed": false
   },
   "outputs": [],
   "source": [
    "final_model = bayes_search.best_estimator_\n",
    "final_model"
   ]
  },
  {
   "cell_type": "code",
   "execution_count": null,
   "metadata": {},
   "outputs": [],
   "source": [
    "final_model.named_steps['neuralnetwork'].model"
   ]
  },
  {
   "cell_type": "markdown",
   "metadata": {
    "collapsed": false
   },
   "source": [
    "# Test of the model"
   ]
  },
  {
   "cell_type": "code",
   "execution_count": null,
   "metadata": {
    "ExecuteTime": {
     "start_time": "2024-01-09T17:53:35.880040Z"
    },
    "collapsed": false
   },
   "outputs": [],
   "source": [
    "y_pred = final_model.predict(X_test)\n",
    "\n",
    "mee = mean_euclidean_error(y_test, y_pred)\n",
    "r2 = multidim_r2(y_test, y_pred)\n",
    "rmse = root_mean_squared_error(y_test, y_pred)\n",
    "\n",
    "print('MEE:', mee)\n",
    "print('R2:', r2)\n",
    "print('RMSE:', rmse)"
   ]
  },
  {
   "cell_type": "markdown",
   "metadata": {
    "collapsed": false
   },
   "source": [
    "# Save model"
   ]
  },
  {
   "cell_type": "code",
   "execution_count": null,
   "metadata": {
    "ExecuteTime": {
     "start_time": "2024-01-09T17:53:35.880874Z"
    },
    "collapsed": false
   },
   "outputs": [],
   "source": [
    "model_path = os.path.join(MODEL_FOLDER, 'NN_model.joblib')\n",
    "dump(final_model, model_path, compress=3)"
   ]
  }
 ],
 "metadata": {
  "kernelspec": {
   "display_name": "Python 3",
   "language": "python",
   "name": "python3"
  },
  "language_info": {
   "codemirror_mode": {
    "name": "ipython",
    "version": 3
   },
   "file_extension": ".py",
   "mimetype": "text/x-python",
   "name": "python",
   "nbconvert_exporter": "python",
   "pygments_lexer": "ipython3",
   "version": "3.9.18"
  }
 },
 "nbformat": 4,
 "nbformat_minor": 0
}
