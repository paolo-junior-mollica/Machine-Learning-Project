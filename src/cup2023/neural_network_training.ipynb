{
 "cells": [
  {
   "cell_type": "code",
   "execution_count": null,
   "metadata": {},
   "outputs": [],
   "source": [
    "USER = \"Nunzio\""
   ]
  },
  {
   "cell_type": "code",
   "execution_count": null,
   "metadata": {},
   "outputs": [],
   "source": [
    "import sys\n",
    "import os\n",
    "if (colab := 'google.colab' in sys.modules):\n",
    "    from google.colab import drive\n",
    "    drive.mount('/content/drive')\n",
    "    BASE_PATH = \"/content/drive/Shareddrives/Project_ML_23/\" + USER + \"/machine-learning-project\"\n",
    "    sys.path.insert(0,BASE_PATH)\n",
    "    N_JOBS = 1\n",
    "    sys.path.insert(0,BASE_PATH + \"/src/utils\")\n",
    "    !pip install optuna\n",
    "    !pip install scikit-learn\n",
    "    !pip install scikeras\n",
    "    TRAIN_DATA = os.path.join(BASE_PATH, 'datasets', 'cup2023','ML-CUP23-TR.csv')\n",
    "    IMAGES_FOLDER = os.path.join(BASE_PATH, 'images', 'cup2023', 'neural_network')\n",
    "    MODEL_FOLDER = os.path.join(BASE_PATH, 'trained_models', 'cup2023')\n",
    "else :\n",
    "    N_JOBS = -1\n",
    "    TRAIN_DATA = os.path.join('..', '..', 'datasets', 'cup2023', 'ML-CUP23-TR.csv')\n",
    "    IMAGES_FOLDER = os.path.join('..', '..', 'images', 'cup2023', 'neural_network')\n",
    "    MODEL_FOLDER = os.path.join('..', '..', 'trained_models', 'cup2023')"
   ]
  },
  {
   "cell_type": "code",
   "execution_count": null,
   "metadata": {
    "ExecuteTime": {
     "end_time": "2024-01-09T17:53:02.509809Z",
     "start_time": "2024-01-09T17:53:02.508339Z"
    },
    "collapsed": true
   },
   "outputs": [],
   "source": [
    "if (colab := 'google.colab' in sys.modules):\n",
    "    sys.path.append(BASE_PATH + \"/src/utils\")\n",
    "else:\n",
    "    sys.path.append('../utils')\n",
    "\n",
    "import numpy as np\n",
    "import pandas as pd\n",
    "import matplotlib.pyplot as plt\n",
    "import seaborn as sns; sns.set_theme(style='darkgrid')\n",
    "from keras import backend as K\n",
    "\n",
    "\n",
    "from utils import save_plot, mean_euclidean_error, root_mean_squared_error, multidim_r2, set_random_state\n",
    "from NN import NeuralNetwork\n",
    "from joblib import dump\n",
    "\n",
    "set_random_state(42)"
   ]
  },
  {
   "cell_type": "code",
   "execution_count": null,
   "metadata": {
    "ExecuteTime": {
     "end_time": "2024-01-09T17:53:05.714298Z",
     "start_time": "2024-01-09T17:53:05.703466Z"
    },
    "collapsed": false
   },
   "outputs": [],
   "source": [
    "# To skip the first column (row indexes)\n",
    "columns_to_read = list(range(1, 14))\n",
    "\n",
    "df_train = pd.read_csv(TRAIN_DATA, header=None, comment='#', usecols=columns_to_read, delimiter=',')\n",
    "df_train = df_train.astype('float64') # casting\n",
    "df_train.head()"
   ]
  },
  {
   "cell_type": "code",
   "execution_count": null,
   "metadata": {
    "ExecuteTime": {
     "end_time": "2024-01-09T17:53:05.727354Z",
     "start_time": "2024-01-09T17:53:05.719727Z"
    },
    "collapsed": false
   },
   "outputs": [],
   "source": [
    "features = ['feature_' + str(i) for i in range(1, 11)]\n",
    "targets = ['target_x', 'target_y', 'target_z']\n",
    "\n",
    "# Rename columns\n",
    "new_column_names = features + targets\n",
    "df_train.columns = new_column_names\n",
    "\n",
    "df_train.head()"
   ]
  },
  {
   "cell_type": "code",
   "execution_count": null,
   "metadata": {
    "ExecuteTime": {
     "end_time": "2024-01-09T17:53:05.765256Z",
     "start_time": "2024-01-09T17:53:05.726031Z"
    },
    "collapsed": false
   },
   "outputs": [],
   "source": [
    "from sklearn.model_selection import train_test_split\n",
    "\n",
    "X = df_train[features].to_numpy()\n",
    "y = df_train[targets].to_numpy()\n",
    "\n",
    "# TODO split potenzialmente variabile?\n",
    "X_train, X_test, y_train, y_test = train_test_split(X, y, test_size=0.2, random_state=42)"
   ]
  },
  {
   "cell_type": "markdown",
   "metadata": {
    "collapsed": false
   },
   "source": [
    "# Create model"
   ]
  },
  {
   "cell_type": "code",
   "execution_count": null,
   "metadata": {},
   "outputs": [],
   "source": [
    "from sklearn.preprocessing import RobustScaler\n",
    "from sklearn.pipeline import Pipeline\n",
    "from scikeras.wrappers import KerasRegressor\n",
    "from keras.callbacks import EarlyStopping"
   ]
  },
  {
   "cell_type": "code",
   "execution_count": null,
   "metadata": {
    "ExecuteTime": {
     "end_time": "2024-01-09T17:53:05.765435Z",
     "start_time": "2024-01-09T17:53:05.749503Z"
    },
    "collapsed": false
   },
   "outputs": [],
   "source": [
    "def build_model(architecture, activation, learning_rate, momentum, nesterov, weight_decay, input_dimension,\n",
    "                output_dimension, dropout_input_rate, dropout_hidden_rate):\n",
    "\n",
    "    nn = NeuralNetwork(\n",
    "        architecture=architecture,\n",
    "        activation=activation,\n",
    "        learning_rate=learning_rate,\n",
    "        momentum=momentum,\n",
    "        use_nesterov=nesterov,\n",
    "        weight_decay=weight_decay,\n",
    "        input_dimension=input_dimension,\n",
    "        output_dimension=output_dimension,\n",
    "        dropout_input_rate=dropout_input_rate,\n",
    "        dropout_hidden_rate=dropout_hidden_rate\n",
    "    )\n",
    "\n",
    "\n",
    "    return nn.build_model()"
   ]
  },
  {
   "cell_type": "code",
   "execution_count": null,
   "metadata": {},
   "outputs": [],
   "source": [
    "def create_model_wrapper(patience, architecture, activation, learning_rate, momentum, nesterov, weight_decay, input_dimension, output_dimension, dropout_input_rate, dropout_hidden_rate, epochs, batch_size):  \n",
    "    model = build_model(architecture=architecture, activation=activation, learning_rate=learning_rate, momentum=momentum, nesterov=nesterov, weight_decay=weight_decay, input_dimension=input_dimension, output_dimension=output_dimension, dropout_input_rate=dropout_input_rate, dropout_hidden_rate=dropout_hidden_rate)\n",
    "  \n",
    "    callbacks = [EarlyStopping(monitor='loss', patience=patience)]\n",
    "    return KerasRegressor( lambda : model, epochs=epochs, batch_size=batch_size, verbose=0, callbacks = callbacks)\n"
   ]
  },
  {
   "cell_type": "code",
   "execution_count": null,
   "metadata": {
    "ExecuteTime": {
     "end_time": "2024-01-09T17:53:05.795415Z",
     "start_time": "2024-01-09T17:53:05.749738Z"
    },
    "collapsed": false
   },
   "outputs": [],
   "source": [
    "\n",
    "\n",
    "pipeline = Pipeline([\n",
    "    ('scaler', RobustScaler()),\n",
    "    ('neuralnetwork', create_model_wrapper)\n",
    "])"
   ]
  },
  {
   "cell_type": "code",
   "execution_count": null,
   "metadata": {
    "ExecuteTime": {
     "end_time": "2024-01-09T17:53:05.809755Z",
     "start_time": "2024-01-09T17:53:05.771120Z"
    },
    "collapsed": false
   },
   "outputs": [],
   "source": [
    "param_grid = {\n",
    "    'neuralnetwork__model__architecture': [\n",
    "        (64, 64),  \n",
    "        (128, 64),\n",
    "        (128, 128),\n",
    "        (256, 128),  \n",
    "        (256, 256)\n",
    "    ],\n",
    "    'neuralnetwork__model__activation': ['relu'],  \n",
    "    'neuralnetwork__model__learning_rate': [1e-4, 1e-3, 1e-2],  \n",
    "    'neuralnetwork__model__momentum': [0.0, 0.5, 0.9, 1.0], \n",
    "    'neuralnetwork__model__nesterov': [True, False], \n",
    "    'neuralnetwork__model__weight_decay': [1e-5, 1e-4, 1e-3, 1e-2],  \n",
    "    'neuralnetwork__model__input_dimension': [10],  \n",
    "    'neuralnetwork__model__output_dimension': [3],  \n",
    "    'neuralnetwork__model__dropout_input_rate': [0.0, 0.1, 0.2, 0.3, 0.4, 0.5],  \n",
    "    'neuralnetwork__model__dropout_hidden_rate': [\n",
    "        [0.0, 0.0], \n",
    "        [0.2, 0.2],\n",
    "        [0.3, 0.3],\n",
    "        [0.3, 0.4],\n",
    "        [0.4, 0.4],  \n",
    "        [0.5, 0.5]   \n",
    "    ],\n",
    "    'neuralnetwork__patience': [5,8,9,10],\n",
    "    'neuralnetwork__epochs': [400],\n",
    "    'neuralnetwork__batch_size': [16, 32, 64]\n",
    "   \n",
    "}\n"
   ]
  },
  {
   "cell_type": "code",
   "execution_count": null,
   "metadata": {
    "ExecuteTime": {
     "end_time": "2024-01-09T17:53:05.809990Z",
     "start_time": "2024-01-09T17:53:05.774309Z"
    },
    "collapsed": false
   },
   "outputs": [],
   "source": [
    "from sklearn.metrics import make_scorer\n",
    "\n",
    "mee_scorer = make_scorer(mean_euclidean_error, greater_is_better=False)\n",
    "rmse_scorer = make_scorer(root_mean_squared_error, greater_is_better=False)\n",
    "multidim_r2_scorer = make_scorer(multidim_r2, greater_is_better=True)\n",
    "\n",
    "scoring = {'MEE': mee_scorer, 'R2': multidim_r2_scorer, 'RMSE': rmse_scorer}"
   ]
  },
  {
   "cell_type": "code",
   "execution_count": null,
   "metadata": {
    "ExecuteTime": {
     "end_time": "2024-01-09T17:53:35.882897Z",
     "start_time": "2024-01-09T17:53:05.778701Z"
    },
    "collapsed": false
   },
   "outputs": [],
   "source": [
    "from sklearn.model_selection import GridSearchCV\n",
    "\n",
    "grid_search = GridSearchCV(\n",
    "    pipeline,\n",
    "    param_grid=param_grid,\n",
    "    cv=5,\n",
    "    scoring=scoring,\n",
    "    refit='MEE',\n",
    "    n_jobs=1,\n",
    "    verbose= 4\n",
    ")\n",
    "\n",
    "grid_search.fit(X_train, y_train)"
   ]
  },
  {
   "cell_type": "code",
   "execution_count": null,
   "metadata": {
    "ExecuteTime": {
     "start_time": "2024-01-09T17:53:35.876127Z"
    },
    "collapsed": false
   },
   "outputs": [],
   "source": [
    "best_params = grid_search.best_params_\n",
    "best_index = grid_search.best_index_\n",
    "\n",
    "mee = grid_search.best_score_\n",
    "r2 = grid_search.cv_results_['mean_test_R2'][best_index]\n",
    "rmse = grid_search.cv_results_['mean_test_RMSE'][best_index]\n",
    "\n",
    "print('Best parameters:', best_params)\n",
    "print('Best MEE score:', abs(mee))\n",
    "print('R2:', abs(r2))\n",
    "print('RMSE:', abs(rmse))"
   ]
  },
  {
   "cell_type": "code",
   "execution_count": null,
   "metadata": {
    "ExecuteTime": {
     "start_time": "2024-01-09T17:53:35.877939Z"
    },
    "collapsed": false
   },
   "outputs": [],
   "source": [
    "final_model = grid_search.best_estimator_\n",
    "final_model"
   ]
  },
  {
   "cell_type": "code",
   "execution_count": null,
   "metadata": {},
   "outputs": [],
   "source": [
    "final_model.named_steps['neuralnetwork'].model"
   ]
  },
  {
   "cell_type": "code",
   "execution_count": null,
   "metadata": {
    "ExecuteTime": {
     "start_time": "2024-01-09T17:53:35.879185Z"
    },
    "collapsed": false
   },
   "outputs": [],
   "source": [
    "import tensorflow.keras.utils as keras_utils\n",
    "\n",
    "nn_model = final_model.named_steps['neuralnetwork'].model_\n",
    "keras_utils.plot_model(nn_model, show_shapes=True)\n"
   ]
  },
  {
   "cell_type": "markdown",
   "metadata": {
    "collapsed": false
   },
   "source": [
    "# Test of the model"
   ]
  },
  {
   "cell_type": "code",
   "execution_count": null,
   "metadata": {
    "ExecuteTime": {
     "start_time": "2024-01-09T17:53:35.880040Z"
    },
    "collapsed": false
   },
   "outputs": [],
   "source": [
    "y_pred = final_model.predict(X_test)\n",
    "\n",
    "mee = mean_euclidean_error(y_test, y_pred)\n",
    "r2 = multidim_r2(y_test, y_pred)\n",
    "rmse = root_mean_squared_error(y_test, y_pred)\n",
    "\n",
    "print('MEE:', mee)\n",
    "print('R2:', r2)\n",
    "print('RMSE:', rmse)"
   ]
  },
  {
   "cell_type": "markdown",
   "metadata": {
    "collapsed": false
   },
   "source": [
    "# Save model"
   ]
  },
  {
   "cell_type": "code",
   "execution_count": null,
   "metadata": {
    "ExecuteTime": {
     "start_time": "2024-01-09T17:53:35.880874Z"
    },
    "collapsed": false
   },
   "outputs": [],
   "source": [
    "model_path = os.path.join(MODEL_FOLDER, 'NN_model.joblib')\n",
    "dump(final_model, model_path, compress=3)"
   ]
  }
 ],
 "metadata": {
  "kernelspec": {
   "display_name": "Python 3",
   "language": "python",
   "name": "python3"
  },
  "language_info": {
   "codemirror_mode": {
    "name": "ipython",
    "version": 3
   },
   "file_extension": ".py",
   "mimetype": "text/x-python",
   "name": "python",
   "nbconvert_exporter": "python",
   "pygments_lexer": "ipython3",
   "version": "3.9.18"
  }
 },
 "nbformat": 4,
 "nbformat_minor": 0
}
