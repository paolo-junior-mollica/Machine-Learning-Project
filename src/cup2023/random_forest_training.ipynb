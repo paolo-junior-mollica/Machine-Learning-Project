{
 "cells": [
  {
   "cell_type": "code",
   "execution_count": 1,
   "metadata": {
    "collapsed": true,
    "ExecuteTime": {
     "end_time": "2023-12-07T15:19:41.295513Z",
     "start_time": "2023-12-07T15:19:41.025446Z"
    }
   },
   "outputs": [],
   "source": [
    "import os\n",
    "import numpy as np\n",
    "import pandas as pd\n",
    "import matplotlib.pyplot as plt\n",
    "import seaborn as sns\n",
    "sns.set_theme(style='darkgrid')\n",
    "\n",
    "from sklearn.ensemble import RandomForestRegressor\n",
    "from sklearn.model_selection import GridSearchCV, learning_curve\n",
    "from sklearn.metrics import make_scorer, r2_score\n",
    "from joblib import dump"
   ]
  },
  {
   "cell_type": "code",
   "execution_count": 2,
   "outputs": [],
   "source": [
    "TRAIN_DATA = os.path.join('..', '..', 'datasets', 'cup2023', 'ML-CUP23-TR.csv')\n",
    "IMAGES_FOLDER = os.path.join('..', '..', 'images', 'cup2023', 'random_forest')\n",
    "MODEL_FOLDER = os.path.join('..', '..', 'trained_models', 'cup2023')"
   ],
   "metadata": {
    "collapsed": false,
    "ExecuteTime": {
     "end_time": "2023-12-07T15:19:41.299319Z",
     "start_time": "2023-12-07T15:19:41.297153Z"
    }
   }
  },
  {
   "cell_type": "code",
   "execution_count": 3,
   "outputs": [
    {
     "data": {
      "text/plain": "         1         2         3         4         5         6         7   \\\n0 -0.917280 -0.712727 -0.989904  0.992819  0.993649  0.995543  0.711074   \n1 -0.858784  0.998755 -0.998396  0.999909  0.316503 -0.951897 -0.163139   \n2 -0.990441  0.958726 -0.998675  0.997216  0.987166  0.356483 -0.279689   \n3  0.937117  0.984474 -0.612420  0.999812  0.728623 -0.539962 -0.165939   \n4 -0.906628 -0.884567 -0.932487  0.941037  0.978134  0.998179  0.749606   \n\n         8         9         10         11         12         13  \n0  0.407645 -0.688548  0.616890   7.897453 -35.936382  21.077147  \n1  0.980982  0.661759 -0.800155  -9.330632  19.901571   6.069154  \n2  0.599163 -0.684630  0.922901  14.849400   3.374090  19.667479  \n3  0.999352 -0.921444 -0.974766 -46.591854  13.734777  17.953600  \n4 -0.590599 -0.508268  0.691798   8.217500 -45.885254  14.894251  ",
      "text/html": "<div>\n<style scoped>\n    .dataframe tbody tr th:only-of-type {\n        vertical-align: middle;\n    }\n\n    .dataframe tbody tr th {\n        vertical-align: top;\n    }\n\n    .dataframe thead th {\n        text-align: right;\n    }\n</style>\n<table border=\"1\" class=\"dataframe\">\n  <thead>\n    <tr style=\"text-align: right;\">\n      <th></th>\n      <th>1</th>\n      <th>2</th>\n      <th>3</th>\n      <th>4</th>\n      <th>5</th>\n      <th>6</th>\n      <th>7</th>\n      <th>8</th>\n      <th>9</th>\n      <th>10</th>\n      <th>11</th>\n      <th>12</th>\n      <th>13</th>\n    </tr>\n  </thead>\n  <tbody>\n    <tr>\n      <th>0</th>\n      <td>-0.917280</td>\n      <td>-0.712727</td>\n      <td>-0.989904</td>\n      <td>0.992819</td>\n      <td>0.993649</td>\n      <td>0.995543</td>\n      <td>0.711074</td>\n      <td>0.407645</td>\n      <td>-0.688548</td>\n      <td>0.616890</td>\n      <td>7.897453</td>\n      <td>-35.936382</td>\n      <td>21.077147</td>\n    </tr>\n    <tr>\n      <th>1</th>\n      <td>-0.858784</td>\n      <td>0.998755</td>\n      <td>-0.998396</td>\n      <td>0.999909</td>\n      <td>0.316503</td>\n      <td>-0.951897</td>\n      <td>-0.163139</td>\n      <td>0.980982</td>\n      <td>0.661759</td>\n      <td>-0.800155</td>\n      <td>-9.330632</td>\n      <td>19.901571</td>\n      <td>6.069154</td>\n    </tr>\n    <tr>\n      <th>2</th>\n      <td>-0.990441</td>\n      <td>0.958726</td>\n      <td>-0.998675</td>\n      <td>0.997216</td>\n      <td>0.987166</td>\n      <td>0.356483</td>\n      <td>-0.279689</td>\n      <td>0.599163</td>\n      <td>-0.684630</td>\n      <td>0.922901</td>\n      <td>14.849400</td>\n      <td>3.374090</td>\n      <td>19.667479</td>\n    </tr>\n    <tr>\n      <th>3</th>\n      <td>0.937117</td>\n      <td>0.984474</td>\n      <td>-0.612420</td>\n      <td>0.999812</td>\n      <td>0.728623</td>\n      <td>-0.539962</td>\n      <td>-0.165939</td>\n      <td>0.999352</td>\n      <td>-0.921444</td>\n      <td>-0.974766</td>\n      <td>-46.591854</td>\n      <td>13.734777</td>\n      <td>17.953600</td>\n    </tr>\n    <tr>\n      <th>4</th>\n      <td>-0.906628</td>\n      <td>-0.884567</td>\n      <td>-0.932487</td>\n      <td>0.941037</td>\n      <td>0.978134</td>\n      <td>0.998179</td>\n      <td>0.749606</td>\n      <td>-0.590599</td>\n      <td>-0.508268</td>\n      <td>0.691798</td>\n      <td>8.217500</td>\n      <td>-45.885254</td>\n      <td>14.894251</td>\n    </tr>\n  </tbody>\n</table>\n</div>"
     },
     "execution_count": 3,
     "metadata": {},
     "output_type": "execute_result"
    }
   ],
   "source": [
    "# To skip the first column (row indexes)\n",
    "columns_to_read = list(range(1, 14))\n",
    "\n",
    "df_train = pd.read_csv(TRAIN_DATA, header=None, comment='#', usecols=columns_to_read)\n",
    "df_train.head()"
   ],
   "metadata": {
    "collapsed": false,
    "ExecuteTime": {
     "end_time": "2023-12-07T15:19:41.311779Z",
     "start_time": "2023-12-07T15:19:41.301321Z"
    }
   }
  },
  {
   "cell_type": "code",
   "execution_count": 4,
   "outputs": [
    {
     "data": {
      "text/plain": "   feature_1  feature_2  feature_3  feature_4  feature_5  feature_6  \\\n0  -0.917280  -0.712727  -0.989904   0.992819   0.993649   0.995543   \n1  -0.858784   0.998755  -0.998396   0.999909   0.316503  -0.951897   \n2  -0.990441   0.958726  -0.998675   0.997216   0.987166   0.356483   \n3   0.937117   0.984474  -0.612420   0.999812   0.728623  -0.539962   \n4  -0.906628  -0.884567  -0.932487   0.941037   0.978134   0.998179   \n\n   feature_7  feature_8  feature_9  feature_10   target_x   target_y  \\\n0   0.711074   0.407645  -0.688548    0.616890   7.897453 -35.936382   \n1  -0.163139   0.980982   0.661759   -0.800155  -9.330632  19.901571   \n2  -0.279689   0.599163  -0.684630    0.922901  14.849400   3.374090   \n3  -0.165939   0.999352  -0.921444   -0.974766 -46.591854  13.734777   \n4   0.749606  -0.590599  -0.508268    0.691798   8.217500 -45.885254   \n\n    target_z  \n0  21.077147  \n1   6.069154  \n2  19.667479  \n3  17.953600  \n4  14.894251  ",
      "text/html": "<div>\n<style scoped>\n    .dataframe tbody tr th:only-of-type {\n        vertical-align: middle;\n    }\n\n    .dataframe tbody tr th {\n        vertical-align: top;\n    }\n\n    .dataframe thead th {\n        text-align: right;\n    }\n</style>\n<table border=\"1\" class=\"dataframe\">\n  <thead>\n    <tr style=\"text-align: right;\">\n      <th></th>\n      <th>feature_1</th>\n      <th>feature_2</th>\n      <th>feature_3</th>\n      <th>feature_4</th>\n      <th>feature_5</th>\n      <th>feature_6</th>\n      <th>feature_7</th>\n      <th>feature_8</th>\n      <th>feature_9</th>\n      <th>feature_10</th>\n      <th>target_x</th>\n      <th>target_y</th>\n      <th>target_z</th>\n    </tr>\n  </thead>\n  <tbody>\n    <tr>\n      <th>0</th>\n      <td>-0.917280</td>\n      <td>-0.712727</td>\n      <td>-0.989904</td>\n      <td>0.992819</td>\n      <td>0.993649</td>\n      <td>0.995543</td>\n      <td>0.711074</td>\n      <td>0.407645</td>\n      <td>-0.688548</td>\n      <td>0.616890</td>\n      <td>7.897453</td>\n      <td>-35.936382</td>\n      <td>21.077147</td>\n    </tr>\n    <tr>\n      <th>1</th>\n      <td>-0.858784</td>\n      <td>0.998755</td>\n      <td>-0.998396</td>\n      <td>0.999909</td>\n      <td>0.316503</td>\n      <td>-0.951897</td>\n      <td>-0.163139</td>\n      <td>0.980982</td>\n      <td>0.661759</td>\n      <td>-0.800155</td>\n      <td>-9.330632</td>\n      <td>19.901571</td>\n      <td>6.069154</td>\n    </tr>\n    <tr>\n      <th>2</th>\n      <td>-0.990441</td>\n      <td>0.958726</td>\n      <td>-0.998675</td>\n      <td>0.997216</td>\n      <td>0.987166</td>\n      <td>0.356483</td>\n      <td>-0.279689</td>\n      <td>0.599163</td>\n      <td>-0.684630</td>\n      <td>0.922901</td>\n      <td>14.849400</td>\n      <td>3.374090</td>\n      <td>19.667479</td>\n    </tr>\n    <tr>\n      <th>3</th>\n      <td>0.937117</td>\n      <td>0.984474</td>\n      <td>-0.612420</td>\n      <td>0.999812</td>\n      <td>0.728623</td>\n      <td>-0.539962</td>\n      <td>-0.165939</td>\n      <td>0.999352</td>\n      <td>-0.921444</td>\n      <td>-0.974766</td>\n      <td>-46.591854</td>\n      <td>13.734777</td>\n      <td>17.953600</td>\n    </tr>\n    <tr>\n      <th>4</th>\n      <td>-0.906628</td>\n      <td>-0.884567</td>\n      <td>-0.932487</td>\n      <td>0.941037</td>\n      <td>0.978134</td>\n      <td>0.998179</td>\n      <td>0.749606</td>\n      <td>-0.590599</td>\n      <td>-0.508268</td>\n      <td>0.691798</td>\n      <td>8.217500</td>\n      <td>-45.885254</td>\n      <td>14.894251</td>\n    </tr>\n  </tbody>\n</table>\n</div>"
     },
     "execution_count": 4,
     "metadata": {},
     "output_type": "execute_result"
    }
   ],
   "source": [
    "features = ['feature_' + str(i) for i in range(1, 11)]\n",
    "targets = ['target_x', 'target_y', 'target_z']\n",
    "\n",
    "# Rename columns\n",
    "new_column_names = features + targets\n",
    "df_train.columns = new_column_names\n",
    "\n",
    "df_train.head()"
   ],
   "metadata": {
    "collapsed": false,
    "ExecuteTime": {
     "end_time": "2023-12-07T15:19:41.321464Z",
     "start_time": "2023-12-07T15:19:41.316795Z"
    }
   }
  },
  {
   "cell_type": "code",
   "execution_count": 5,
   "outputs": [],
   "source": [
    "from sklearn.model_selection import train_test_split\n",
    "\n",
    "X = df_train[features].to_numpy()\n",
    "y = df_train[targets].to_numpy()\n",
    "\n",
    "X_train, X_test, y_train, y_test = train_test_split(X, y, test_size=0.2, random_state=42)"
   ],
   "metadata": {
    "collapsed": false,
    "ExecuteTime": {
     "end_time": "2023-12-07T15:19:41.366710Z",
     "start_time": "2023-12-07T15:19:41.326249Z"
    }
   }
  },
  {
   "cell_type": "markdown",
   "source": [
    "# Create model"
   ],
   "metadata": {
    "collapsed": false
   }
  },
  {
   "cell_type": "code",
   "execution_count": 6,
   "outputs": [],
   "source": [
    "def mean_euclidean_error(y_true, y_pred):\n",
    "    return np.mean(np.linalg.norm(y_true - y_pred, axis=1))\n",
    "\n",
    "def root_mean_squared_error(y_true, y_pred):\n",
    "    return np.sqrt(np.mean((y_true - y_pred) ** 2))\n",
    "\n",
    "def multidim_r2(y_true, y_pred):\n",
    "    return r2_score(y_true, y_pred, multioutput='uniform_average')"
   ],
   "metadata": {
    "collapsed": false,
    "ExecuteTime": {
     "end_time": "2023-12-07T15:19:41.386330Z",
     "start_time": "2023-12-07T15:19:41.331920Z"
    }
   }
  },
  {
   "cell_type": "code",
   "execution_count": 7,
   "outputs": [],
   "source": [
    "mee_scorer = make_scorer(mean_euclidean_error, greater_is_better=False)\n",
    "rmse_scorer = make_scorer(root_mean_squared_error, greater_is_better=False)\n",
    "multidim_r2_scorer = make_scorer(multidim_r2, greater_is_better=True)\n",
    "\n",
    "scoring = {'MEE': mee_scorer, 'R2': multidim_r2_scorer, 'RMSE': rmse_scorer}"
   ],
   "metadata": {
    "collapsed": false,
    "ExecuteTime": {
     "end_time": "2023-12-07T15:19:41.584267Z",
     "start_time": "2023-12-07T15:19:41.350463Z"
    }
   }
  },
  {
   "cell_type": "code",
   "execution_count": 8,
   "outputs": [],
   "source": [
    "model = RandomForestRegressor(random_state=42)\n",
    "\n",
    "# The Grid Search process consistently selects the following parameter values:\n",
    "# - n_estimators:       highest value in the provided range\n",
    "# - max_depth:          highest value in the provided range\n",
    "# - min_samples_leaf:   lowest value in the provided range\n",
    "# - min_samples_split:  lowest value in the provided range\n",
    "# - max_features:       always chooses 'sqrt'\n",
    "param_grid = {\n",
    "    'n_estimators': [100, 150],\n",
    "    'max_depth': [8, 10],\n",
    "    'min_samples_split': [8, 10],\n",
    "    'min_samples_leaf': [3, 4],\n",
    "    'max_features': ['sqrt', 'log2']\n",
    "}"
   ],
   "metadata": {
    "collapsed": false,
    "ExecuteTime": {
     "end_time": "2023-12-07T15:19:41.584834Z",
     "start_time": "2023-12-07T15:19:41.350821Z"
    }
   }
  },
  {
   "cell_type": "code",
   "execution_count": 9,
   "outputs": [
    {
     "name": "stdout",
     "output_type": "stream",
     "text": [
      "Fitting 5 folds for each of 32 candidates, totalling 160 fits\n"
     ]
    },
    {
     "data": {
      "text/plain": "GridSearchCV(cv=5, estimator=RandomForestRegressor(random_state=42), n_jobs=-1,\n             param_grid={'max_depth': [8, 10], 'max_features': ['sqrt', 'log2'],\n                         'min_samples_leaf': [3, 4],\n                         'min_samples_split': [8, 10],\n                         'n_estimators': [100, 150]},\n             refit='MEE',\n             scoring={'MEE': make_scorer(mean_euclidean_error, greater_is_better=False),\n                      'R2': make_scorer(multidim_r2),\n                      'RMSE': make_scorer(root_mean_squared_error, greater_is_better=False)},\n             verbose=2)",
      "text/html": "<style>#sk-container-id-1 {color: black;}#sk-container-id-1 pre{padding: 0;}#sk-container-id-1 div.sk-toggleable {background-color: white;}#sk-container-id-1 label.sk-toggleable__label {cursor: pointer;display: block;width: 100%;margin-bottom: 0;padding: 0.3em;box-sizing: border-box;text-align: center;}#sk-container-id-1 label.sk-toggleable__label-arrow:before {content: \"▸\";float: left;margin-right: 0.25em;color: #696969;}#sk-container-id-1 label.sk-toggleable__label-arrow:hover:before {color: black;}#sk-container-id-1 div.sk-estimator:hover label.sk-toggleable__label-arrow:before {color: black;}#sk-container-id-1 div.sk-toggleable__content {max-height: 0;max-width: 0;overflow: hidden;text-align: left;background-color: #f0f8ff;}#sk-container-id-1 div.sk-toggleable__content pre {margin: 0.2em;color: black;border-radius: 0.25em;background-color: #f0f8ff;}#sk-container-id-1 input.sk-toggleable__control:checked~div.sk-toggleable__content {max-height: 200px;max-width: 100%;overflow: auto;}#sk-container-id-1 input.sk-toggleable__control:checked~label.sk-toggleable__label-arrow:before {content: \"▾\";}#sk-container-id-1 div.sk-estimator input.sk-toggleable__control:checked~label.sk-toggleable__label {background-color: #d4ebff;}#sk-container-id-1 div.sk-label input.sk-toggleable__control:checked~label.sk-toggleable__label {background-color: #d4ebff;}#sk-container-id-1 input.sk-hidden--visually {border: 0;clip: rect(1px 1px 1px 1px);clip: rect(1px, 1px, 1px, 1px);height: 1px;margin: -1px;overflow: hidden;padding: 0;position: absolute;width: 1px;}#sk-container-id-1 div.sk-estimator {font-family: monospace;background-color: #f0f8ff;border: 1px dotted black;border-radius: 0.25em;box-sizing: border-box;margin-bottom: 0.5em;}#sk-container-id-1 div.sk-estimator:hover {background-color: #d4ebff;}#sk-container-id-1 div.sk-parallel-item::after {content: \"\";width: 100%;border-bottom: 1px solid gray;flex-grow: 1;}#sk-container-id-1 div.sk-label:hover label.sk-toggleable__label {background-color: #d4ebff;}#sk-container-id-1 div.sk-serial::before {content: \"\";position: absolute;border-left: 1px solid gray;box-sizing: border-box;top: 0;bottom: 0;left: 50%;z-index: 0;}#sk-container-id-1 div.sk-serial {display: flex;flex-direction: column;align-items: center;background-color: white;padding-right: 0.2em;padding-left: 0.2em;position: relative;}#sk-container-id-1 div.sk-item {position: relative;z-index: 1;}#sk-container-id-1 div.sk-parallel {display: flex;align-items: stretch;justify-content: center;background-color: white;position: relative;}#sk-container-id-1 div.sk-item::before, #sk-container-id-1 div.sk-parallel-item::before {content: \"\";position: absolute;border-left: 1px solid gray;box-sizing: border-box;top: 0;bottom: 0;left: 50%;z-index: -1;}#sk-container-id-1 div.sk-parallel-item {display: flex;flex-direction: column;z-index: 1;position: relative;background-color: white;}#sk-container-id-1 div.sk-parallel-item:first-child::after {align-self: flex-end;width: 50%;}#sk-container-id-1 div.sk-parallel-item:last-child::after {align-self: flex-start;width: 50%;}#sk-container-id-1 div.sk-parallel-item:only-child::after {width: 0;}#sk-container-id-1 div.sk-dashed-wrapped {border: 1px dashed gray;margin: 0 0.4em 0.5em 0.4em;box-sizing: border-box;padding-bottom: 0.4em;background-color: white;}#sk-container-id-1 div.sk-label label {font-family: monospace;font-weight: bold;display: inline-block;line-height: 1.2em;}#sk-container-id-1 div.sk-label-container {text-align: center;}#sk-container-id-1 div.sk-container {/* jupyter's `normalize.less` sets `[hidden] { display: none; }` but bootstrap.min.css set `[hidden] { display: none !important; }` so we also need the `!important` here to be able to override the default hidden behavior on the sphinx rendered scikit-learn.org. See: https://github.com/scikit-learn/scikit-learn/issues/21755 */display: inline-block !important;position: relative;}#sk-container-id-1 div.sk-text-repr-fallback {display: none;}</style><div id=\"sk-container-id-1\" class=\"sk-top-container\"><div class=\"sk-text-repr-fallback\"><pre>GridSearchCV(cv=5, estimator=RandomForestRegressor(random_state=42), n_jobs=-1,\n             param_grid={&#x27;max_depth&#x27;: [8, 10], &#x27;max_features&#x27;: [&#x27;sqrt&#x27;, &#x27;log2&#x27;],\n                         &#x27;min_samples_leaf&#x27;: [3, 4],\n                         &#x27;min_samples_split&#x27;: [8, 10],\n                         &#x27;n_estimators&#x27;: [100, 150]},\n             refit=&#x27;MEE&#x27;,\n             scoring={&#x27;MEE&#x27;: make_scorer(mean_euclidean_error, greater_is_better=False),\n                      &#x27;R2&#x27;: make_scorer(multidim_r2),\n                      &#x27;RMSE&#x27;: make_scorer(root_mean_squared_error, greater_is_better=False)},\n             verbose=2)</pre><b>In a Jupyter environment, please rerun this cell to show the HTML representation or trust the notebook. <br />On GitHub, the HTML representation is unable to render, please try loading this page with nbviewer.org.</b></div><div class=\"sk-container\" hidden><div class=\"sk-item sk-dashed-wrapped\"><div class=\"sk-label-container\"><div class=\"sk-label sk-toggleable\"><input class=\"sk-toggleable__control sk-hidden--visually\" id=\"sk-estimator-id-1\" type=\"checkbox\" ><label for=\"sk-estimator-id-1\" class=\"sk-toggleable__label sk-toggleable__label-arrow\">GridSearchCV</label><div class=\"sk-toggleable__content\"><pre>GridSearchCV(cv=5, estimator=RandomForestRegressor(random_state=42), n_jobs=-1,\n             param_grid={&#x27;max_depth&#x27;: [8, 10], &#x27;max_features&#x27;: [&#x27;sqrt&#x27;, &#x27;log2&#x27;],\n                         &#x27;min_samples_leaf&#x27;: [3, 4],\n                         &#x27;min_samples_split&#x27;: [8, 10],\n                         &#x27;n_estimators&#x27;: [100, 150]},\n             refit=&#x27;MEE&#x27;,\n             scoring={&#x27;MEE&#x27;: make_scorer(mean_euclidean_error, greater_is_better=False),\n                      &#x27;R2&#x27;: make_scorer(multidim_r2),\n                      &#x27;RMSE&#x27;: make_scorer(root_mean_squared_error, greater_is_better=False)},\n             verbose=2)</pre></div></div></div><div class=\"sk-parallel\"><div class=\"sk-parallel-item\"><div class=\"sk-item\"><div class=\"sk-label-container\"><div class=\"sk-label sk-toggleable\"><input class=\"sk-toggleable__control sk-hidden--visually\" id=\"sk-estimator-id-2\" type=\"checkbox\" ><label for=\"sk-estimator-id-2\" class=\"sk-toggleable__label sk-toggleable__label-arrow\">estimator: RandomForestRegressor</label><div class=\"sk-toggleable__content\"><pre>RandomForestRegressor(random_state=42)</pre></div></div></div><div class=\"sk-serial\"><div class=\"sk-item\"><div class=\"sk-estimator sk-toggleable\"><input class=\"sk-toggleable__control sk-hidden--visually\" id=\"sk-estimator-id-3\" type=\"checkbox\" ><label for=\"sk-estimator-id-3\" class=\"sk-toggleable__label sk-toggleable__label-arrow\">RandomForestRegressor</label><div class=\"sk-toggleable__content\"><pre>RandomForestRegressor(random_state=42)</pre></div></div></div></div></div></div></div></div></div></div>"
     },
     "execution_count": 9,
     "metadata": {},
     "output_type": "execute_result"
    }
   ],
   "source": [
    "grid_search = GridSearchCV(\n",
    "    estimator=model,\n",
    "    param_grid=param_grid,\n",
    "    cv=5,\n",
    "    scoring=scoring,\n",
    "    refit='MEE',\n",
    "    n_jobs=-1,\n",
    "    verbose=2\n",
    ")\n",
    "grid_search.fit(X_train, y_train)"
   ],
   "metadata": {
    "collapsed": false,
    "ExecuteTime": {
     "end_time": "2023-12-07T15:19:46.692182Z",
     "start_time": "2023-12-07T15:19:41.350896Z"
    }
   }
  },
  {
   "cell_type": "code",
   "execution_count": 10,
   "outputs": [
    {
     "name": "stdout",
     "output_type": "stream",
     "text": [
      "Best parameters: {'max_depth': 10, 'max_features': 'sqrt', 'min_samples_leaf': 3, 'min_samples_split': 8, 'n_estimators': 150}\n",
      "Best MEE score: -3.8292434602696814\n",
      "R2: 0.972728908167942\n",
      "RMSE: -2.6883413939891136\n"
     ]
    }
   ],
   "source": [
    "best_params = grid_search.best_params_\n",
    "best_index = grid_search.best_index_\n",
    "\n",
    "mee = grid_search.best_score_\n",
    "r2 = grid_search.cv_results_['mean_test_R2'][best_index]\n",
    "rmse = grid_search.cv_results_['mean_test_RMSE'][best_index]\n",
    "\n",
    "print('Best parameters:', best_params)\n",
    "print('Best MEE score:', mee)\n",
    "print('R2:', r2)\n",
    "print('RMSE:', rmse)"
   ],
   "metadata": {
    "collapsed": false,
    "ExecuteTime": {
     "end_time": "2023-12-07T15:19:46.696324Z",
     "start_time": "2023-12-07T15:19:46.691144Z"
    }
   }
  },
  {
   "cell_type": "code",
   "execution_count": 11,
   "outputs": [
    {
     "data": {
      "text/plain": "RandomForestRegressor(max_depth=10, max_features='sqrt', min_samples_leaf=3,\n                      min_samples_split=8, n_estimators=150)",
      "text/html": "<style>#sk-container-id-2 {color: black;}#sk-container-id-2 pre{padding: 0;}#sk-container-id-2 div.sk-toggleable {background-color: white;}#sk-container-id-2 label.sk-toggleable__label {cursor: pointer;display: block;width: 100%;margin-bottom: 0;padding: 0.3em;box-sizing: border-box;text-align: center;}#sk-container-id-2 label.sk-toggleable__label-arrow:before {content: \"▸\";float: left;margin-right: 0.25em;color: #696969;}#sk-container-id-2 label.sk-toggleable__label-arrow:hover:before {color: black;}#sk-container-id-2 div.sk-estimator:hover label.sk-toggleable__label-arrow:before {color: black;}#sk-container-id-2 div.sk-toggleable__content {max-height: 0;max-width: 0;overflow: hidden;text-align: left;background-color: #f0f8ff;}#sk-container-id-2 div.sk-toggleable__content pre {margin: 0.2em;color: black;border-radius: 0.25em;background-color: #f0f8ff;}#sk-container-id-2 input.sk-toggleable__control:checked~div.sk-toggleable__content {max-height: 200px;max-width: 100%;overflow: auto;}#sk-container-id-2 input.sk-toggleable__control:checked~label.sk-toggleable__label-arrow:before {content: \"▾\";}#sk-container-id-2 div.sk-estimator input.sk-toggleable__control:checked~label.sk-toggleable__label {background-color: #d4ebff;}#sk-container-id-2 div.sk-label input.sk-toggleable__control:checked~label.sk-toggleable__label {background-color: #d4ebff;}#sk-container-id-2 input.sk-hidden--visually {border: 0;clip: rect(1px 1px 1px 1px);clip: rect(1px, 1px, 1px, 1px);height: 1px;margin: -1px;overflow: hidden;padding: 0;position: absolute;width: 1px;}#sk-container-id-2 div.sk-estimator {font-family: monospace;background-color: #f0f8ff;border: 1px dotted black;border-radius: 0.25em;box-sizing: border-box;margin-bottom: 0.5em;}#sk-container-id-2 div.sk-estimator:hover {background-color: #d4ebff;}#sk-container-id-2 div.sk-parallel-item::after {content: \"\";width: 100%;border-bottom: 1px solid gray;flex-grow: 1;}#sk-container-id-2 div.sk-label:hover label.sk-toggleable__label {background-color: #d4ebff;}#sk-container-id-2 div.sk-serial::before {content: \"\";position: absolute;border-left: 1px solid gray;box-sizing: border-box;top: 0;bottom: 0;left: 50%;z-index: 0;}#sk-container-id-2 div.sk-serial {display: flex;flex-direction: column;align-items: center;background-color: white;padding-right: 0.2em;padding-left: 0.2em;position: relative;}#sk-container-id-2 div.sk-item {position: relative;z-index: 1;}#sk-container-id-2 div.sk-parallel {display: flex;align-items: stretch;justify-content: center;background-color: white;position: relative;}#sk-container-id-2 div.sk-item::before, #sk-container-id-2 div.sk-parallel-item::before {content: \"\";position: absolute;border-left: 1px solid gray;box-sizing: border-box;top: 0;bottom: 0;left: 50%;z-index: -1;}#sk-container-id-2 div.sk-parallel-item {display: flex;flex-direction: column;z-index: 1;position: relative;background-color: white;}#sk-container-id-2 div.sk-parallel-item:first-child::after {align-self: flex-end;width: 50%;}#sk-container-id-2 div.sk-parallel-item:last-child::after {align-self: flex-start;width: 50%;}#sk-container-id-2 div.sk-parallel-item:only-child::after {width: 0;}#sk-container-id-2 div.sk-dashed-wrapped {border: 1px dashed gray;margin: 0 0.4em 0.5em 0.4em;box-sizing: border-box;padding-bottom: 0.4em;background-color: white;}#sk-container-id-2 div.sk-label label {font-family: monospace;font-weight: bold;display: inline-block;line-height: 1.2em;}#sk-container-id-2 div.sk-label-container {text-align: center;}#sk-container-id-2 div.sk-container {/* jupyter's `normalize.less` sets `[hidden] { display: none; }` but bootstrap.min.css set `[hidden] { display: none !important; }` so we also need the `!important` here to be able to override the default hidden behavior on the sphinx rendered scikit-learn.org. See: https://github.com/scikit-learn/scikit-learn/issues/21755 */display: inline-block !important;position: relative;}#sk-container-id-2 div.sk-text-repr-fallback {display: none;}</style><div id=\"sk-container-id-2\" class=\"sk-top-container\"><div class=\"sk-text-repr-fallback\"><pre>RandomForestRegressor(max_depth=10, max_features=&#x27;sqrt&#x27;, min_samples_leaf=3,\n                      min_samples_split=8, n_estimators=150)</pre><b>In a Jupyter environment, please rerun this cell to show the HTML representation or trust the notebook. <br />On GitHub, the HTML representation is unable to render, please try loading this page with nbviewer.org.</b></div><div class=\"sk-container\" hidden><div class=\"sk-item\"><div class=\"sk-estimator sk-toggleable\"><input class=\"sk-toggleable__control sk-hidden--visually\" id=\"sk-estimator-id-4\" type=\"checkbox\" checked><label for=\"sk-estimator-id-4\" class=\"sk-toggleable__label sk-toggleable__label-arrow\">RandomForestRegressor</label><div class=\"sk-toggleable__content\"><pre>RandomForestRegressor(max_depth=10, max_features=&#x27;sqrt&#x27;, min_samples_leaf=3,\n                      min_samples_split=8, n_estimators=150)</pre></div></div></div></div></div>"
     },
     "execution_count": 11,
     "metadata": {},
     "output_type": "execute_result"
    }
   ],
   "source": [
    "final_model = RandomForestRegressor(**best_params)\n",
    "final_model.fit(X_train, y_train)"
   ],
   "metadata": {
    "collapsed": false,
    "ExecuteTime": {
     "end_time": "2023-12-07T15:19:47.011521Z",
     "start_time": "2023-12-07T15:19:46.714161Z"
    }
   }
  },
  {
   "cell_type": "markdown",
   "source": [
    "# Learning curve"
   ],
   "metadata": {
    "collapsed": false
   }
  },
  {
   "cell_type": "code",
   "execution_count": 12,
   "outputs": [],
   "source": [
    "train_sizes, train_scores, validation_scores = learning_curve(\n",
    "    estimator=final_model,\n",
    "    X=X_train,\n",
    "    y=y_train,\n",
    "    train_sizes=[0.1, 0.33, 0.55, 0.78, 1.],\n",
    "    cv=5,\n",
    "    scoring=mee_scorer\n",
    ")"
   ],
   "metadata": {
    "collapsed": false,
    "ExecuteTime": {
     "end_time": "2023-12-07T15:19:49.680632Z",
     "start_time": "2023-12-07T15:19:47.003090Z"
    }
   }
  },
  {
   "cell_type": "code",
   "execution_count": 13,
   "outputs": [],
   "source": [
    "train_scores_mean = np.mean(train_scores, axis=1)\n",
    "train_scores_std = np.std(train_scores, axis=1)\n",
    "validation_scores_mean = np.mean(validation_scores, axis=1)\n",
    "validation_scores_std = np.std(validation_scores, axis=1)"
   ],
   "metadata": {
    "collapsed": false,
    "ExecuteTime": {
     "end_time": "2023-12-07T15:19:49.682891Z",
     "start_time": "2023-12-07T15:19:49.681175Z"
    }
   }
  },
  {
   "cell_type": "code",
   "execution_count": 14,
   "outputs": [
    {
     "data": {
      "text/plain": "<Figure size 640x480 with 1 Axes>",
      "image/png": "[encoded data removed]"
     },
     "metadata": {},
     "output_type": "display_data"
    }
   ],
   "source": [
    "plt.figure()\n",
    "plt.title('Learning curve', fontweight='bold', fontsize=16)\n",
    "plt.xlabel('Training examples', fontweight='bold')\n",
    "plt.ylabel('Score', fontweight='bold')\n",
    "plt.grid(True)\n",
    "\n",
    "color1 = sns.dark_palette((20, 60, 50), input='husl')[-1]\n",
    "color2 = sns.dark_palette('seagreen')[-1]\n",
    "\n",
    "# Filling the area around the mean scores to indicate variability of the model's performance\n",
    "# The shaded area represents the range of scores (mean ± standard deviation) for each training set size\n",
    "plt.fill_between(\n",
    "    train_sizes, train_scores_mean - train_scores_std,\n",
    "                 train_scores_mean + train_scores_std, alpha=0.2, color=color1\n",
    ")\n",
    "plt.fill_between(\n",
    "    train_sizes, validation_scores_mean - validation_scores_std,\n",
    "                 validation_scores_mean + validation_scores_std, alpha=0.2, color=color2\n",
    ")\n",
    "\n",
    "# Mean score lines for training and validation\n",
    "sns.lineplot(x=train_sizes, y=train_scores_mean, marker='s', color=color1, label='Training score')\n",
    "sns.lineplot(x=train_sizes, y=validation_scores_mean, marker='s', color=color2, label='Cross-validation score')\n",
    "\n",
    "plt.legend(loc='lower right')\n",
    "\n",
    "fig_path = os.path.join(IMAGES_FOLDER, 'learning_curve.png')\n",
    "plt.savefig(fig_path, format='png')\n",
    "\n",
    "plt.show()"
   ],
   "metadata": {
    "collapsed": false,
    "ExecuteTime": {
     "end_time": "2023-12-07T15:19:49.951806Z",
     "start_time": "2023-12-07T15:19:49.687827Z"
    }
   }
  },
  {
   "cell_type": "markdown",
   "source": [
    "# Test of the model"
   ],
   "metadata": {
    "collapsed": false
   }
  },
  {
   "cell_type": "code",
   "execution_count": 15,
   "outputs": [
    {
     "name": "stdout",
     "output_type": "stream",
     "text": [
      "MEE: 3.318404877890344\n",
      "R2: 0.9795453385019082\n",
      "RMSE: 2.3820409846193646\n"
     ]
    }
   ],
   "source": [
    "y_pred = final_model.predict(X_test)\n",
    "\n",
    "mee = mean_euclidean_error(y_test, y_pred)\n",
    "r2 = multidim_r2(y_test, y_pred)\n",
    "rmse = root_mean_squared_error(y_test, y_pred)\n",
    "\n",
    "print('MEE:', mee)\n",
    "print('R2:', r2)\n",
    "print('RMSE:', rmse)"
   ],
   "metadata": {
    "collapsed": false,
    "ExecuteTime": {
     "end_time": "2023-12-07T15:19:50.006041Z",
     "start_time": "2023-12-07T15:19:49.954356Z"
    }
   }
  },
  {
   "cell_type": "markdown",
   "source": [
    "# Save model"
   ],
   "metadata": {
    "collapsed": false
   }
  },
  {
   "cell_type": "code",
   "execution_count": 16,
   "outputs": [
    {
     "data": {
      "text/plain": "['../../trained_models/cup2023/random_forest_model.joblib']"
     },
     "execution_count": 16,
     "metadata": {},
     "output_type": "execute_result"
    }
   ],
   "source": [
    "model_path = os.path.join(MODEL_FOLDER, 'random_forest_model.joblib')\n",
    "dump(model, model_path, compress=3)"
   ],
   "metadata": {
    "collapsed": false,
    "ExecuteTime": {
     "end_time": "2023-12-07T15:19:50.006569Z",
     "start_time": "2023-12-07T15:19:49.991206Z"
    }
   }
  }
 ],
 "metadata": {
  "kernelspec": {
   "display_name": "Python 3",
   "language": "python",
   "name": "python3"
  },
  "language_info": {
   "codemirror_mode": {
    "name": "ipython",
    "version": 2
   },
   "file_extension": ".py",
   "mimetype": "text/x-python",
   "name": "python",
   "nbconvert_exporter": "python",
   "pygments_lexer": "ipython2",
   "version": "2.7.6"
  }
 },
 "nbformat": 4,
 "nbformat_minor": 0
}
