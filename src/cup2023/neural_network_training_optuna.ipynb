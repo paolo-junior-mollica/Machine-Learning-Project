{
 "cells": [
  {
   "cell_type": "code",
   "execution_count": 1,
   "metadata": {
    "executionInfo": {
     "elapsed": 374,
     "status": "ok",
     "timestamp": 1705419702795,
     "user": {
      "displayName": "NUNZIO CANDUCI",
      "userId": "15156390205628808514"
     },
     "user_tz": -60
    },
    "id": "6zeNDfAZ7uAr"
   },
   "outputs": [],
   "source": [
    "USER = 'Nunzio'\n",
    "LOSS = 'mean_euclidean_error'\n",
    "METRIC = 'MEE'"
   ]
  },
  {
   "cell_type": "code",
   "execution_count": 2,
   "metadata": {
    "colab": {
     "base_uri": "https://localhost:8080/"
    },
    "executionInfo": {
     "elapsed": 40257,
     "status": "ok",
     "timestamp": 1705419743708,
     "user": {
      "displayName": "NUNZIO CANDUCI",
      "userId": "15156390205628808514"
     },
     "user_tz": -60
    },
    "id": "J7HaLAG57uAt",
    "outputId": "240a9794-c25c-4227-e722-894f3dea78e7"
   },
   "outputs": [],
   "source": [
    "import sys\n",
    "import os\n",
    "if (colab := 'google.colab' in sys.modules):\n",
    "    from google.colab import drive\n",
    "    drive.mount('/content/drive')\n",
    "    BASE_PATH = \"/content/drive/Shareddrives/Project_ML_23/\" + USER + \"/machine-learning-project\"\n",
    "    sys.path.insert(0,BASE_PATH)\n",
    "    N_JOBS = -1\n",
    "    sys.path.insert(0,BASE_PATH + \"/src/utils\")\n",
    "    !pip install optuna\n",
    "    !pip install scikit-learn\n",
    "    !pip install scikeras\n",
    "    TRAIN_DATA = os.path.join(BASE_PATH, 'datasets', 'cup2023','ML-CUP23-TR.csv')\n",
    "    IMAGES_FOLDER = os.path.join(BASE_PATH, 'images', 'cup2023', 'neural_network')\n",
    "    MODEL_FOLDER = os.path.join(BASE_PATH, 'trained_models', 'cup2023')\n",
    "else :\n",
    "    N_JOBS = -1\n",
    "    TRAIN_DATA = os.path.join('..', '..', 'datasets', 'cup2023', 'ML-CUP23-TR.csv')\n",
    "    IMAGES_FOLDER = os.path.join('..', '..', 'images', 'cup2023', 'neural_network')\n",
    "    MODEL_FOLDER = os.path.join('..', '..', 'trained_models', 'cup2023')"
   ]
  },
  {
   "cell_type": "code",
   "execution_count": 3,
   "metadata": {
    "collapsed": true,
    "executionInfo": {
     "elapsed": 7733,
     "status": "ok",
     "timestamp": 1705419751437,
     "user": {
      "displayName": "NUNZIO CANDUCI",
      "userId": "15156390205628808514"
     },
     "user_tz": -60
    },
    "id": "sHG6SVEZ7uAt"
   },
   "outputs": [
    {
     "name": "stderr",
     "output_type": "stream",
     "text": [
      "/Users/nunzio/miniforge3/envs/ML23/lib/python3.9/site-packages/tqdm/auto.py:21: TqdmWarning: IProgress not found. Please update jupyter and ipywidgets. See https://ipywidgets.readthedocs.io/en/stable/user_install.html\n",
      "  from .autonotebook import tqdm as notebook_tqdm\n"
     ]
    }
   ],
   "source": [
    "if (colab := 'google.colab' in sys.modules):\n",
    "    sys.path.append(BASE_PATH + '/src/utils')\n",
    "else:\n",
    "    sys.path.append('../utils')\n",
    "\n",
    "import numpy as np\n",
    "import pandas as pd\n",
    "import matplotlib.pyplot as plt\n",
    "import seaborn as sns; sns.set_theme(style='darkgrid')\n",
    "from keras import backend as K\n",
    "\n",
    "\n",
    "from utils import save_plot, mean_euclidean_error, root_mean_squared_error, multidim_r2, set_random_state, mean_squared_error\n",
    "from NN import NeuralNetwork\n",
    "from joblib import dump\n",
    "\n",
    "set_random_state(42)"
   ]
  },
  {
   "cell_type": "code",
   "execution_count": 4,
   "metadata": {
    "colab": {
     "base_uri": "https://localhost:8080/",
     "height": 206
    },
    "executionInfo": {
     "elapsed": 871,
     "status": "ok",
     "timestamp": 1705419752304,
     "user": {
      "displayName": "NUNZIO CANDUCI",
      "userId": "15156390205628808514"
     },
     "user_tz": -60
    },
    "id": "uHt9DtGF7uAt",
    "outputId": "4e180b2d-0a2a-4353-991f-6f03129a711e"
   },
   "outputs": [
    {
     "data": {
      "text/html": [
       "<div>\n",
       "<style scoped>\n",
       "    .dataframe tbody tr th:only-of-type {\n",
       "        vertical-align: middle;\n",
       "    }\n",
       "\n",
       "    .dataframe tbody tr th {\n",
       "        vertical-align: top;\n",
       "    }\n",
       "\n",
       "    .dataframe thead th {\n",
       "        text-align: right;\n",
       "    }\n",
       "</style>\n",
       "<table border=\"1\" class=\"dataframe\">\n",
       "  <thead>\n",
       "    <tr style=\"text-align: right;\">\n",
       "      <th></th>\n",
       "      <th>1</th>\n",
       "      <th>2</th>\n",
       "      <th>3</th>\n",
       "      <th>4</th>\n",
       "      <th>5</th>\n",
       "      <th>6</th>\n",
       "      <th>7</th>\n",
       "      <th>8</th>\n",
       "      <th>9</th>\n",
       "      <th>10</th>\n",
       "      <th>11</th>\n",
       "      <th>12</th>\n",
       "      <th>13</th>\n",
       "    </tr>\n",
       "  </thead>\n",
       "  <tbody>\n",
       "    <tr>\n",
       "      <th>0</th>\n",
       "      <td>-0.917280</td>\n",
       "      <td>-0.712727</td>\n",
       "      <td>-0.989904</td>\n",
       "      <td>0.992819</td>\n",
       "      <td>0.993649</td>\n",
       "      <td>0.995543</td>\n",
       "      <td>0.711074</td>\n",
       "      <td>0.407645</td>\n",
       "      <td>-0.688548</td>\n",
       "      <td>0.616890</td>\n",
       "      <td>7.897453</td>\n",
       "      <td>-35.936382</td>\n",
       "      <td>21.077147</td>\n",
       "    </tr>\n",
       "    <tr>\n",
       "      <th>1</th>\n",
       "      <td>-0.858784</td>\n",
       "      <td>0.998755</td>\n",
       "      <td>-0.998396</td>\n",
       "      <td>0.999909</td>\n",
       "      <td>0.316503</td>\n",
       "      <td>-0.951897</td>\n",
       "      <td>-0.163139</td>\n",
       "      <td>0.980982</td>\n",
       "      <td>0.661759</td>\n",
       "      <td>-0.800155</td>\n",
       "      <td>-9.330632</td>\n",
       "      <td>19.901571</td>\n",
       "      <td>6.069154</td>\n",
       "    </tr>\n",
       "    <tr>\n",
       "      <th>2</th>\n",
       "      <td>-0.990441</td>\n",
       "      <td>0.958726</td>\n",
       "      <td>-0.998675</td>\n",
       "      <td>0.997216</td>\n",
       "      <td>0.987166</td>\n",
       "      <td>0.356483</td>\n",
       "      <td>-0.279689</td>\n",
       "      <td>0.599163</td>\n",
       "      <td>-0.684630</td>\n",
       "      <td>0.922901</td>\n",
       "      <td>14.849400</td>\n",
       "      <td>3.374090</td>\n",
       "      <td>19.667479</td>\n",
       "    </tr>\n",
       "    <tr>\n",
       "      <th>3</th>\n",
       "      <td>0.937117</td>\n",
       "      <td>0.984474</td>\n",
       "      <td>-0.612420</td>\n",
       "      <td>0.999812</td>\n",
       "      <td>0.728623</td>\n",
       "      <td>-0.539962</td>\n",
       "      <td>-0.165939</td>\n",
       "      <td>0.999352</td>\n",
       "      <td>-0.921444</td>\n",
       "      <td>-0.974766</td>\n",
       "      <td>-46.591854</td>\n",
       "      <td>13.734777</td>\n",
       "      <td>17.953600</td>\n",
       "    </tr>\n",
       "    <tr>\n",
       "      <th>4</th>\n",
       "      <td>-0.906628</td>\n",
       "      <td>-0.884567</td>\n",
       "      <td>-0.932487</td>\n",
       "      <td>0.941037</td>\n",
       "      <td>0.978134</td>\n",
       "      <td>0.998179</td>\n",
       "      <td>0.749606</td>\n",
       "      <td>-0.590599</td>\n",
       "      <td>-0.508268</td>\n",
       "      <td>0.691798</td>\n",
       "      <td>8.217500</td>\n",
       "      <td>-45.885254</td>\n",
       "      <td>14.894251</td>\n",
       "    </tr>\n",
       "  </tbody>\n",
       "</table>\n",
       "</div>"
      ],
      "text/plain": [
       "         1         2         3         4         5         6         7   \\\n",
       "0 -0.917280 -0.712727 -0.989904  0.992819  0.993649  0.995543  0.711074   \n",
       "1 -0.858784  0.998755 -0.998396  0.999909  0.316503 -0.951897 -0.163139   \n",
       "2 -0.990441  0.958726 -0.998675  0.997216  0.987166  0.356483 -0.279689   \n",
       "3  0.937117  0.984474 -0.612420  0.999812  0.728623 -0.539962 -0.165939   \n",
       "4 -0.906628 -0.884567 -0.932487  0.941037  0.978134  0.998179  0.749606   \n",
       "\n",
       "         8         9         10         11         12         13  \n",
       "0  0.407645 -0.688548  0.616890   7.897453 -35.936382  21.077147  \n",
       "1  0.980982  0.661759 -0.800155  -9.330632  19.901571   6.069154  \n",
       "2  0.599163 -0.684630  0.922901  14.849400   3.374090  19.667479  \n",
       "3  0.999352 -0.921444 -0.974766 -46.591854  13.734777  17.953600  \n",
       "4 -0.590599 -0.508268  0.691798   8.217500 -45.885254  14.894251  "
      ]
     },
     "execution_count": 4,
     "metadata": {},
     "output_type": "execute_result"
    }
   ],
   "source": [
    "# To skip the first column (row indexes)\n",
    "columns_to_read = list(range(1, 14))\n",
    "\n",
    "df_train = pd.read_csv(TRAIN_DATA, header=None, comment='#', usecols=columns_to_read, delimiter=',')\n",
    "df_train = df_train.astype('float64') # casting\n",
    "df_train.head()"
   ]
  },
  {
   "cell_type": "code",
   "execution_count": 5,
   "metadata": {
    "colab": {
     "base_uri": "https://localhost:8080/",
     "height": 206
    },
    "executionInfo": {
     "elapsed": 8,
     "status": "ok",
     "timestamp": 1705419752305,
     "user": {
      "displayName": "NUNZIO CANDUCI",
      "userId": "15156390205628808514"
     },
     "user_tz": -60
    },
    "id": "2QYI1rsj7uAu",
    "outputId": "89a2ef67-874e-4b3b-859e-9648ad85f56f"
   },
   "outputs": [
    {
     "data": {
      "text/html": [
       "<div>\n",
       "<style scoped>\n",
       "    .dataframe tbody tr th:only-of-type {\n",
       "        vertical-align: middle;\n",
       "    }\n",
       "\n",
       "    .dataframe tbody tr th {\n",
       "        vertical-align: top;\n",
       "    }\n",
       "\n",
       "    .dataframe thead th {\n",
       "        text-align: right;\n",
       "    }\n",
       "</style>\n",
       "<table border=\"1\" class=\"dataframe\">\n",
       "  <thead>\n",
       "    <tr style=\"text-align: right;\">\n",
       "      <th></th>\n",
       "      <th>feature_1</th>\n",
       "      <th>feature_2</th>\n",
       "      <th>feature_3</th>\n",
       "      <th>feature_4</th>\n",
       "      <th>feature_5</th>\n",
       "      <th>feature_6</th>\n",
       "      <th>feature_7</th>\n",
       "      <th>feature_8</th>\n",
       "      <th>feature_9</th>\n",
       "      <th>feature_10</th>\n",
       "      <th>target_x</th>\n",
       "      <th>target_y</th>\n",
       "      <th>target_z</th>\n",
       "    </tr>\n",
       "  </thead>\n",
       "  <tbody>\n",
       "    <tr>\n",
       "      <th>0</th>\n",
       "      <td>-0.917280</td>\n",
       "      <td>-0.712727</td>\n",
       "      <td>-0.989904</td>\n",
       "      <td>0.992819</td>\n",
       "      <td>0.993649</td>\n",
       "      <td>0.995543</td>\n",
       "      <td>0.711074</td>\n",
       "      <td>0.407645</td>\n",
       "      <td>-0.688548</td>\n",
       "      <td>0.616890</td>\n",
       "      <td>7.897453</td>\n",
       "      <td>-35.936382</td>\n",
       "      <td>21.077147</td>\n",
       "    </tr>\n",
       "    <tr>\n",
       "      <th>1</th>\n",
       "      <td>-0.858784</td>\n",
       "      <td>0.998755</td>\n",
       "      <td>-0.998396</td>\n",
       "      <td>0.999909</td>\n",
       "      <td>0.316503</td>\n",
       "      <td>-0.951897</td>\n",
       "      <td>-0.163139</td>\n",
       "      <td>0.980982</td>\n",
       "      <td>0.661759</td>\n",
       "      <td>-0.800155</td>\n",
       "      <td>-9.330632</td>\n",
       "      <td>19.901571</td>\n",
       "      <td>6.069154</td>\n",
       "    </tr>\n",
       "    <tr>\n",
       "      <th>2</th>\n",
       "      <td>-0.990441</td>\n",
       "      <td>0.958726</td>\n",
       "      <td>-0.998675</td>\n",
       "      <td>0.997216</td>\n",
       "      <td>0.987166</td>\n",
       "      <td>0.356483</td>\n",
       "      <td>-0.279689</td>\n",
       "      <td>0.599163</td>\n",
       "      <td>-0.684630</td>\n",
       "      <td>0.922901</td>\n",
       "      <td>14.849400</td>\n",
       "      <td>3.374090</td>\n",
       "      <td>19.667479</td>\n",
       "    </tr>\n",
       "    <tr>\n",
       "      <th>3</th>\n",
       "      <td>0.937117</td>\n",
       "      <td>0.984474</td>\n",
       "      <td>-0.612420</td>\n",
       "      <td>0.999812</td>\n",
       "      <td>0.728623</td>\n",
       "      <td>-0.539962</td>\n",
       "      <td>-0.165939</td>\n",
       "      <td>0.999352</td>\n",
       "      <td>-0.921444</td>\n",
       "      <td>-0.974766</td>\n",
       "      <td>-46.591854</td>\n",
       "      <td>13.734777</td>\n",
       "      <td>17.953600</td>\n",
       "    </tr>\n",
       "    <tr>\n",
       "      <th>4</th>\n",
       "      <td>-0.906628</td>\n",
       "      <td>-0.884567</td>\n",
       "      <td>-0.932487</td>\n",
       "      <td>0.941037</td>\n",
       "      <td>0.978134</td>\n",
       "      <td>0.998179</td>\n",
       "      <td>0.749606</td>\n",
       "      <td>-0.590599</td>\n",
       "      <td>-0.508268</td>\n",
       "      <td>0.691798</td>\n",
       "      <td>8.217500</td>\n",
       "      <td>-45.885254</td>\n",
       "      <td>14.894251</td>\n",
       "    </tr>\n",
       "  </tbody>\n",
       "</table>\n",
       "</div>"
      ],
      "text/plain": [
       "   feature_1  feature_2  feature_3  feature_4  feature_5  feature_6  \\\n",
       "0  -0.917280  -0.712727  -0.989904   0.992819   0.993649   0.995543   \n",
       "1  -0.858784   0.998755  -0.998396   0.999909   0.316503  -0.951897   \n",
       "2  -0.990441   0.958726  -0.998675   0.997216   0.987166   0.356483   \n",
       "3   0.937117   0.984474  -0.612420   0.999812   0.728623  -0.539962   \n",
       "4  -0.906628  -0.884567  -0.932487   0.941037   0.978134   0.998179   \n",
       "\n",
       "   feature_7  feature_8  feature_9  feature_10   target_x   target_y  \\\n",
       "0   0.711074   0.407645  -0.688548    0.616890   7.897453 -35.936382   \n",
       "1  -0.163139   0.980982   0.661759   -0.800155  -9.330632  19.901571   \n",
       "2  -0.279689   0.599163  -0.684630    0.922901  14.849400   3.374090   \n",
       "3  -0.165939   0.999352  -0.921444   -0.974766 -46.591854  13.734777   \n",
       "4   0.749606  -0.590599  -0.508268    0.691798   8.217500 -45.885254   \n",
       "\n",
       "    target_z  \n",
       "0  21.077147  \n",
       "1   6.069154  \n",
       "2  19.667479  \n",
       "3  17.953600  \n",
       "4  14.894251  "
      ]
     },
     "execution_count": 5,
     "metadata": {},
     "output_type": "execute_result"
    }
   ],
   "source": [
    "features = ['feature_' + str(i) for i in range(1, 11)]\n",
    "targets = ['target_x', 'target_y', 'target_z']\n",
    "\n",
    "# Rename columns\n",
    "new_column_names = features + targets\n",
    "df_train.columns = new_column_names\n",
    "\n",
    "df_train.head()"
   ]
  },
  {
   "cell_type": "code",
   "execution_count": 6,
   "metadata": {
    "executionInfo": {
     "elapsed": 7,
     "status": "ok",
     "timestamp": 1705419752305,
     "user": {
      "displayName": "NUNZIO CANDUCI",
      "userId": "15156390205628808514"
     },
     "user_tz": -60
    },
    "id": "WDGvxRuC7uAu"
   },
   "outputs": [],
   "source": [
    "from sklearn.model_selection import train_test_split\n",
    "\n",
    "X = df_train[features].to_numpy()\n",
    "y = df_train[targets].to_numpy()\n",
    "\n",
    "X_train, X_test, y_train, y_test = train_test_split(X, y, test_size=0.2, random_state=42)\n",
    "X_train_val, X_valid, y_train_val, y_valid = train_test_split(X, y, test_size=0.2, random_state=42)"
   ]
  },
  {
   "cell_type": "markdown",
   "metadata": {
    "collapsed": false,
    "id": "fGYQTR9g7uAu"
   },
   "source": [
    "# Create model"
   ]
  },
  {
   "cell_type": "code",
   "execution_count": 7,
   "metadata": {
    "executionInfo": {
     "elapsed": 7,
     "status": "ok",
     "timestamp": 1705419752305,
     "user": {
      "displayName": "NUNZIO CANDUCI",
      "userId": "15156390205628808514"
     },
     "user_tz": -60
    },
    "id": "KSTiVJqn7uAv"
   },
   "outputs": [],
   "source": [
    "from sklearn.metrics import make_scorer\n",
    "\n",
    "mee_scorer = make_scorer(mean_euclidean_error, greater_is_better=False)\n",
    "rmse_scorer = make_scorer(root_mean_squared_error, greater_is_better=False)\n",
    "multidim_r2_scorer = make_scorer(multidim_r2, greater_is_better=True)\n",
    "mse_scorer = make_scorer(mean_squared_error, greater_is_better=False)\n",
    "\n",
    "scoring = {'MEE': mee_scorer, 'R2': multidim_r2_scorer, 'RMSE': rmse_scorer, 'MSE': mse_scorer}\n"
   ]
  },
  {
   "cell_type": "code",
   "execution_count": 8,
   "metadata": {
    "colab": {
     "base_uri": "https://localhost:8080/",
     "height": 1000,
     "referenced_widgets": [
      "fde57d175f10435bb44162c60ad7ac2e",
      "06058d394035419796d899be6f9301d2",
      "09e34088d5c94c3a8f795b9162fdd04a",
      "06c162907b3241d48c3e10ea5a714eac",
      "df79bb55fc0c42ea816d9abc3c0f748b",
      "31a79dca326547da9fd9808b0e9e53b2",
      "35c7924e39484c539b6824b77d314ab2",
      "8dd97f74c7b9400fad855beb65d1c9de",
      "8c951a96a64e4a57bd09a4e5935a88d8",
      "6a5e86075a01438b8e494ad9bd133a0f",
      "6eca51cb6d5b4ea9aa71dc7f585d37e9"
     ]
    },
    "executionInfo": {
     "elapsed": 1351442,
     "status": "ok",
     "timestamp": 1705431488014,
     "user": {
      "displayName": "NUNZIO CANDUCI",
      "userId": "15156390205628808514"
     },
     "user_tz": -60
    },
    "id": "nEXqM3U67uAv",
    "outputId": "45e3bdc2-a302-4c6e-8819-85e01948dfcb"
   },
   "outputs": [
    {
     "name": "stderr",
     "output_type": "stream",
     "text": [
      "[I 2024-01-24 16:43:25,879] A new study created in memory with name: no-name-7f8c4c6b-851a-491e-80c3-9b08e122b7c4\n",
      "  0%|          | 0/400 [00:00<?, ?it/s]2024-01-24 16:43:25.930518: I metal_plugin/src/device/metal_device.cc:1154] Metal device set to: Apple M1\n",
      "2024-01-24 16:43:25.930539: I metal_plugin/src/device/metal_device.cc:296] systemMemory: 8.00 GB\n",
      "2024-01-24 16:43:25.930548: I metal_plugin/src/device/metal_device.cc:313] maxCacheSize: 2.67 GB\n",
      "2024-01-24 16:43:25.930911: I tensorflow/core/common_runtime/pluggable_device/pluggable_device_factory.cc:306] Could not identify NUMA node of platform GPU ID 0, defaulting to 0. Your kernel may not have been built with NUMA support.\n",
      "2024-01-24 16:43:25.931226: I tensorflow/core/common_runtime/pluggable_device/pluggable_device_factory.cc:272] Created TensorFlow device (/job:localhost/replica:0/task:0/device:GPU:0 with 0 MB memory) -> physical PluggableDevice (device: 0, name: METAL, pci bus id: <undefined>)\n",
      "\n",
      "\n"
     ]
    },
    {
     "ename": "",
     "evalue": "",
     "output_type": "error",
     "traceback": [
      "\u001b[1;31mCannot execute code, session has been disposed. Please try restarting the Kernel."
     ]
    },
    {
     "ename": "",
     "evalue": "",
     "output_type": "error",
     "traceback": [
      "\u001b[1;31mThe Kernel crashed while executing code in the the current cell or a previous cell. Please review the code in the cell(s) to identify a possible cause of the failure. Click <a href='https://aka.ms/vscodeJupyterKernelCrash'>here</a> for more info. View Jupyter <a href='command:jupyter.viewOutput'>log</a> for further details."
     ]
    }
   ],
   "source": [
    "from sklearn.model_selection import cross_val_score\n",
    "import optuna\n",
    "from scikeras.wrappers import KerasRegressor\n",
    "from sklearn.preprocessing import RobustScaler\n",
    "from sklearn.pipeline import Pipeline\n",
    "from keras.callbacks import EarlyStopping\n",
    "from sklearn.model_selection import KFold\n",
    "\n",
    "cv = KFold(n_splits=5, shuffle=True, random_state=42)\n",
    "\n",
    "\n",
    "def objective_function(trial):\n",
    "    num_layers = trial.suggest_int('num_layers', 1, 5)\n",
    "\n",
    "    # Setting up the architecture with a funnel structure\n",
    "    max_units = 512\n",
    "    architecture = []\n",
    "    for i in range(num_layers):\n",
    "        units = trial.suggest_int(f'num_units_l{i}', 32, max_units, step=32)\n",
    "        architecture.append(units)\n",
    "        max_units = units  # Next layer will have equal or fewer units\n",
    "\n",
    "    dropout_input_rate = trial.suggest_float('dropout_input_rate', 0.0, 0.5)\n",
    "    dropout_hidden_rate = [trial.suggest_float(f'dropout_rate_l{i}', 0.0, 0.5) for i in range(num_layers)]\n",
    "    learning_rate = trial.suggest_float('learning_rate', 1e-4, 1e-2, log=True)\n",
    "    momentum = trial.suggest_float('momentum', 0.0, 1.0)\n",
    "    weight_decay = trial.suggest_float('weight_decay', 1e-5, 1e-2, log=True)\n",
    "    use_nesterov = trial.suggest_categorical('use_nesterov', [True, False])\n",
    "    epochs = trial.suggest_int('epochs', 5, 400)\n",
    "    batch_size = trial.suggest_int('batch_size', 16, 128)\n",
    "    patience = trial.suggest_int('patience', 5, 10)\n",
    "\n",
    "\n",
    "\n",
    "    \n",
    "\n",
    "    pipeline = Pipeline([\n",
    "        ('scaler', RobustScaler()),\n",
    "        ('model', NeuralNetwork(verbose=0, input_dimension = 10, output_dimension = 3, architecture = architecture, \n",
    "                                        activation = 'relu',\n",
    "                                        dropout_input_rate = dropout_input_rate,\n",
    "                                        dropout_hidden_rate = dropout_hidden_rate,\n",
    "                                        learning_rate = learning_rate,\n",
    "                                        momentum = momentum,\n",
    "                                        weight_decay = weight_decay,\n",
    "                                        use_nesterov = use_nesterov,\n",
    "                                        patience = patience,\n",
    "                                        epochs = epochs,\n",
    "                                        batch_size = batch_size,\n",
    "                                        early = False,\n",
    "                                        loss=LOSS))\n",
    "    ]) \n",
    "\n",
    "    \n",
    "    scores = cross_val_score(pipeline, X_train, y_train, cv=cv, scoring=mee_scorer)\n",
    "    return -np.mean(scores)\n",
    "\n",
    "\n",
    "study = optuna.create_study(direction='minimize')\n",
    "study.optimize(objective_function, n_trials=400, n_jobs=N_JOBS, show_progress_bar=True)"
   ]
  },
  {
   "cell_type": "code",
   "execution_count": null,
   "metadata": {},
   "outputs": [],
   "source": [
    "\n",
    "# Stampa i risultati\n",
    "print(\"Miglior trial:\")\n",
    "trial = study.best_trial\n",
    "print(\"  Valore: \", trial.value)\n",
    "print(\"  Parametri: \")\n",
    "for key, value in trial.params.items():\n",
    "    print(f\"    {key}: {value}\")\n",
    "\n",
    "# Visualizzazione della storia dei tentativi\n",
    "optuna.visualization.plot_optimization_history(study)\n",
    "optuna.visualization.plot_parallel_coordinate(study)\n",
    "optuna.visualization.plot_slice(study)\n",
    "optuna.visualization.plot_contour(study)"
   ]
  },
  {
   "cell_type": "code",
   "execution_count": null,
   "metadata": {
    "colab": {
     "base_uri": "https://localhost:8080/"
    },
    "executionInfo": {
     "elapsed": 17,
     "status": "ok",
     "timestamp": 1705431488016,
     "user": {
      "displayName": "NUNZIO CANDUCI",
      "userId": "15156390205628808514"
     },
     "user_tz": -60
    },
    "id": "5ITBlWtV7uAw",
    "outputId": "f941c9a3-b689-47c3-b821-b967535eed28"
   },
   "outputs": [],
   "source": [
    "print(study.best_trial)\n",
    "print(study.best_params)\n",
    "print(study.best_value)"
   ]
  },
  {
   "cell_type": "code",
   "execution_count": null,
   "metadata": {},
   "outputs": [],
   "source": [
    "results = study.trials_dataframe()\n",
    "results.sort_values(by='value', ascending=True, inplace=True)\n",
    "results_df = pd.DataFrame(results)\n",
    "csv_filename_result =os.path.join(MODEL_FOLDER, f'NN_Cup_Optuna_{LOSS}.csv') \n",
    "csv_filename_loss = os.path.join(MODEL_FOLDER,f'NN_Cup_Optuna_Loss_{LOSS}.csv')\n",
    "results_df.to_csv(csv_filename_result, index=False)"
   ]
  },
  {
   "cell_type": "code",
   "execution_count": null,
   "metadata": {},
   "outputs": [],
   "source": [
    "\n",
    "\n",
    "\"\"\"\n",
    "architecture = []\n",
    "dropout_hidden_rate = []\n",
    "best_params = {}\n",
    "best_params['num_layers'] = 2\n",
    "best_params['num_units_l0'] = 448\n",
    "best_params['num_units_l1'] = 416\n",
    "best_params['dropout_input_rate'] = 0.029481909865486836\n",
    "best_params['dropout_rate_l0'] = 0.021507049908492566\n",
    "best_params['dropout_rate_l1'] = 0.014044419143586593\n",
    "best_params['learning_rate'] = 0.003863357030529424\n",
    "best_params['momentum'] = 0.9522703845902291\n",
    "best_params['weight_decay'] = 0.002096220621086555\n",
    "best_params['use_nesterov'] = True\n",
    "best_params['epochs'] = 116\n",
    "best_params['batch_size'] = 18\n",
    "best_params['patience'] = 9\n",
    "\n",
    "\n",
    "for i in range(best_params['num_layers']):\n",
    "    units = best_params[f'num_units_l{i}']\n",
    "    dropout_rate = best_params[f'dropout_rate_l{i}']\n",
    "    architecture.append(units)\n",
    "    dropout_hidden_rate.append(dropout_rate)\n",
    "\n",
    "\"\"\""
   ]
  },
  {
   "cell_type": "code",
   "execution_count": null,
   "metadata": {
    "executionInfo": {
     "elapsed": 4,
     "status": "ok",
     "timestamp": 1705431488016,
     "user": {
      "displayName": "NUNZIO CANDUCI",
      "userId": "15156390205628808514"
     },
     "user_tz": -60
    },
    "id": "OxKTxVyJ7uAw"
   },
   "outputs": [],
   "source": [
    "best_params = study.best_params\n",
    "architecture = []\n",
    "dropout_hidden_rate = []\n",
    "\n",
    "for i in range(best_params['num_layers']):\n",
    "    units = best_params[f'num_units_l{i}']\n",
    "    dropout_rate = best_params[f'dropout_rate_l{i}']\n",
    "    architecture.append(units)\n",
    "    dropout_hidden_rate.append(dropout_rate)"
   ]
  },
  {
   "cell_type": "code",
   "execution_count": null,
   "metadata": {},
   "outputs": [],
   "source": [
    "params = {'input_dimension' : 10,\n",
    "    'output_dimension' : 3,\n",
    "    'architecture' : architecture,\n",
    "    'activation' : 'relu',\n",
    "    'dropout_input_rate' : best_params['dropout_input_rate'],\n",
    "    'dropout_hidden_rate' : dropout_hidden_rate,\n",
    "    'learning_rate' : best_params['learning_rate'],\n",
    "    'momentum' : best_params['momentum'],\n",
    "    'weight_decay' : best_params['weight_decay'],\n",
    "    'use_nesterov' : best_params['use_nesterov'],\n",
    "    'early'  :  True,\n",
    "    'patience'  :  best_params['patience'],\n",
    "    'epochs'  :  800,\n",
    "    'batch_size'  :  best_params['batch_size']}"
   ]
  },
  {
   "cell_type": "code",
   "execution_count": null,
   "metadata": {},
   "outputs": [],
   "source": [
    "\n",
    "# Cross-validation with the best parameters\n",
    "\n",
    "from sklearn.model_selection import train_test_split\n",
    "i = 0\n",
    "final_model = []\n",
    "train_scores = []\n",
    "\n",
    "\n",
    "for train_index, test_index in cv.split(X_train):\n",
    "    X_train_1, X_test_1 = X_train[train_index], X_train[test_index]\n",
    "    y_train_1, y_test_1 = y_train[train_index], y_train[test_index]\n",
    "    i = i + 1\n",
    "    \n",
    "    # Generate 5 possible splits and foreach save a model and history\n",
    "\n",
    "    pipeline_ = Pipeline([\n",
    "        ('scaler', RobustScaler()),\n",
    "        ('neuralnetwork', NeuralNetwork(verbose=0, **params, loss=LOSS, validation_data=(X_test_1, y_test_1)))\n",
    "    ])\n",
    "    # save different model for each fold to make ensamble model later\n",
    "    final_model[i-1] = pipeline_.fit(X_train_1, y_train_1)\n",
    "    train_scores.append(pipeline_.named_steps['neuralnetwork'].history.history)\n",
    "\n",
    "train_scores_df = pd.DataFrame(train_scores)\n"
   ]
  },
  {
   "cell_type": "code",
   "execution_count": null,
   "metadata": {},
   "outputs": [],
   "source": [
    "train_scores_df = pd.DataFrame(train_scores)\n",
    "train_scores_df.to_csv(csv_filename_loss, index=False)\n"
   ]
  },
  {
   "cell_type": "markdown",
   "metadata": {},
   "source": [
    "## Learning curve"
   ]
  },
  {
   "cell_type": "code",
   "execution_count": null,
   "metadata": {},
   "outputs": [],
   "source": [
    "loss, val_loss, mse, val_mse = [], [], [], []\n",
    "\n",
    "for i in range(len(train_scores_df)):\n",
    "    loss.append(train_scores_df.iloc[i]['loss'])\n",
    "    val_loss.append(train_scores_df.iloc[i]['val_loss'])\n",
    "    mse.append(train_scores_df.iloc[i]['mean_squared_error'])\n",
    "    val_mse.append(train_scores_df.iloc[i]['val_mean_squared_error'])\n",
    "\n",
    "df_loss = pd.DataFrame(loss).T\n",
    "df_val_loss = pd.DataFrame(val_loss).T\n",
    "df_mse = pd.DataFrame(mse).T\n",
    "df_val_mse = pd.DataFrame(val_mse).T\n",
    "\n",
    "mean_loss = df_loss.mean(axis=1)\n",
    "var_loss = df_loss.var(axis=1)\n",
    "mean_val_loss = df_val_loss.mean(axis=1)\n",
    "var_val_loss = df_val_loss.var(axis=1)\n",
    "\n",
    "mean_mse = df_mse.mean(axis=1)\n",
    "var_mse = df_mse.var(axis=1)\n",
    "mean_val_mse = df_val_mse.mean(axis=1)\n",
    "var_val_mse = df_val_mse.var(axis=1)\n",
    "\n",
    "plt.figure(figsize=(12, 5))\n",
    "\n",
    "# loss and val_loss\n",
    "plt.subplot(1, 2, 1)\n",
    "plt.plot(mean_loss, label='Loss(MEE)', linestyle='--')\n",
    "plt.fill_between(range(len(mean_loss)), mean_loss-var_loss, mean_loss+var_loss, alpha=0.2)\n",
    "plt.plot(mean_val_loss, label='Val Loss', linestyle='-.')\n",
    "plt.fill_between(range(len(mean_val_loss)), mean_val_loss-var_val_loss, mean_val_loss+var_val_loss, alpha=0.2)\n",
    "plt.title('Learning Curve for Loss (MEE)')\n",
    "plt.xlabel('Epochs')\n",
    "plt.ylabel('Loss')\n",
    "plt.legend()\n",
    "\n",
    "# mse and val mse\n",
    "plt.subplot(1, 2, 2)\n",
    "plt.plot(mean_mse, label='MSE', linestyle='-')\n",
    "plt.fill_between(range(len(mean_mse)), mean_mse-var_mse, mean_mse+var_mse, alpha=0.2)\n",
    "plt.plot(mean_val_mse, label='Val MSE', linestyle='-.')\n",
    "plt.fill_between(range(len(mean_val_mse)), mean_val_mse-var_val_mse, mean_val_mse+var_val_mse, alpha=0.2)\n",
    "plt.title('Learning Curve for MSE')\n",
    "plt.xlabel('Epochs')\n",
    "plt.ylabel('MSE')\n",
    "plt.legend()\n",
    "\n",
    "plt.tight_layout()\n",
    "save_plot(plt, IMAGES_FOLDER, f'learning_curve_nn_cup_optuna_{METRIC}')\n",
    "plt.show()"
   ]
  },
  {
   "cell_type": "markdown",
   "metadata": {
    "collapsed": false,
    "id": "faSpiIwg7uAw"
   },
   "source": [
    "# Test of the model"
   ]
  },
  {
   "cell_type": "code",
   "execution_count": null,
   "metadata": {
    "colab": {
     "base_uri": "https://localhost:8080/"
    },
    "executionInfo": {
     "elapsed": 4,
     "status": "ok",
     "timestamp": 1705431501185,
     "user": {
      "displayName": "NUNZIO CANDUCI",
      "userId": "15156390205628808514"
     },
     "user_tz": -60
    },
    "id": "Vm2yw7ga7uAw",
    "outputId": "06a88dac-f565-4493-a5f2-5d5e5e630c52"
   },
   "outputs": [],
   "source": [
    "y_pred_ensemble = np.zeros_like(y_test)\n",
    "\n",
    "for model in final_model:\n",
    "    y_pred = model.predict(X_test)\n",
    "    y_pred_ensemble += y_pred\n",
    "\n",
    "y_pred_ensemble /= len(final_model)\n",
    "\n",
    "mee_ensemble = mean_euclidean_error(y_test, y_pred_ensemble)\n",
    "r2_ensemble = multidim_r2(y_test, y_pred_ensemble)\n",
    "rmse_ensemble = root_mean_squared_error(y_test, y_pred_ensemble)\n",
    "mse_ensemble = mean_squared_error(y_test, y_pred_ensemble)\n",
    "\n",
    "print('Ensemble MEE:', mee_ensemble)\n",
    "print('Ensemble R2:', r2_ensemble)\n",
    "print('Ensemble RMSE:', rmse_ensemble)\n",
    "print('Ensemble MSE:', mse_ensemble)\n"
   ]
  },
  {
   "cell_type": "markdown",
   "metadata": {},
   "source": [
    "## Ensamble of the final model using the whole dataset"
   ]
  },
  {
   "cell_type": "code",
   "execution_count": null,
   "metadata": {},
   "outputs": [],
   "source": [
    "\"\"\"l'Ensambling Può ridurre la varianza delle previsioni e migliorare la robustezza del modello alle fluttuazioni nei dati di training.\"\"\"\n",
    "\n",
    "\n",
    "# Cross-validation with the best parameters\n",
    "\n",
    "from sklearn.model_selection import train_test_split\n",
    "i = 0\n",
    "final_model_ = []\n",
    "test_scores = []\n",
    "for train_index, test_index in cv.split(X):\n",
    "    X_train_1, X_test_1 = X[train_index], X[test_index]\n",
    "    y_train_1, y_test_1 = y[train_index], y[test_index]\n",
    "    i = i + 1\n",
    "    \n",
    "    # Generate 5 possible splits and foreach save a model and history\n",
    "\n",
    "    pipeline_test = Pipeline([\n",
    "        ('scaler', RobustScaler()),\n",
    "        ('neuralnetwork', NeuralNetwork(verbose=0, **params, loss='mean_euclidean_error', validation_data=(X_test_1, y_test_1)))\n",
    "    ])\n",
    "    # save different model for each fold to make ensamble model later\n",
    "    final_model_[i-1] = pipeline_test.fit(X_train_1, y_train_1)\n",
    "    test_scores.append(final_model_.named_steps['neuralnetwork'].history.history)\n",
    "\n",
    "test_scores_df = pd.DataFrame(test_scores)\n",
    "\n"
   ]
  },
  {
   "cell_type": "markdown",
   "metadata": {},
   "source": [
    "# Save Model"
   ]
  },
  {
   "cell_type": "code",
   "execution_count": null,
   "metadata": {},
   "outputs": [],
   "source": [
    "# Save the model best parameters\n",
    "best_params = params\n",
    "best_params_df = pd.DataFrame([best_params])\n",
    "csv_filename = os.path.join(MODEL_FOLDER,f'best_params_optuna_NN_{METRIC}.csv') \n",
    "best_params_df.to_csv(csv_filename, index=False)\n"
   ]
  },
  {
   "cell_type": "code",
   "execution_count": null,
   "metadata": {},
   "outputs": [],
   "source": [
    "# Save the model\n",
    "count_model = 0\n",
    "for model in final_model:\n",
    "    count_model += 1\n",
    "    model_path = os.path.join(MODEL_FOLDER, f'NN_model_Optuna_NN_{METRIC}_model{count_model}.joblib')\n",
    "    model_path_pkl = os.path.join(MODEL_FOLDER, f'NN_model_Optuna_NN_pkl_{METRIC}_model{count_model}.pkl')\n",
    "    dump(model, model_path, compress=3)\n",
    "    dump(model, model_path_pkl, compress=3)\n",
    "count_model = 0\n",
    "for model in final_model_ : \n",
    "    count_model += 1\n",
    "    model_path = os.path.join(MODEL_FOLDER, f'NN_model_Optuna_NN_{METRIC}_model{count_model}_final.joblib')\n",
    "    model_path_pkl = os.path.join(MODEL_FOLDER, f'NN_model_Optuna_NN_pkl_{METRIC}_model{count_model}_final.pkl')\n",
    "    dump(model, model_path, compress=3)\n",
    "    dump(model, model_path_pkl, compress=3)\n",
    "\n"
   ]
  }
 ],
 "metadata": {
  "accelerator": "GPU",
  "colab": {
   "gpuType": "T4",
   "provenance": []
  },
  "kernelspec": {
   "display_name": "Python 3",
   "name": "python3"
  },
  "language_info": {
   "codemirror_mode": {
    "name": "ipython",
    "version": 3
   },
   "file_extension": ".py",
   "mimetype": "text/x-python",
   "name": "python",
   "nbconvert_exporter": "python",
   "pygments_lexer": "ipython3",
   "version": "3.9.18"
  },
  "widgets": {
   "application/vnd.jupyter.widget-state+json": {
    "06058d394035419796d899be6f9301d2": {
     "model_module": "@jupyter-widgets/controls",
     "model_module_version": "1.5.0",
     "model_name": "HTMLModel",
     "state": {
      "_dom_classes": [],
      "_model_module": "@jupyter-widgets/controls",
      "_model_module_version": "1.5.0",
      "_model_name": "HTMLModel",
      "_view_count": null,
      "_view_module": "@jupyter-widgets/controls",
      "_view_module_version": "1.5.0",
      "_view_name": "HTMLView",
      "description": "",
      "description_tooltip": null,
      "layout": "IPY_MODEL_31a79dca326547da9fd9808b0e9e53b2",
      "placeholder": "​",
      "style": "IPY_MODEL_35c7924e39484c539b6824b77d314ab2",
      "value": "Best trial: 274. Best value: 1.07981: 100%"
     }
    },
    "06c162907b3241d48c3e10ea5a714eac": {
     "model_module": "@jupyter-widgets/controls",
     "model_module_version": "1.5.0",
     "model_name": "HTMLModel",
     "state": {
      "_dom_classes": [],
      "_model_module": "@jupyter-widgets/controls",
      "_model_module_version": "1.5.0",
      "_model_name": "HTMLModel",
      "_view_count": null,
      "_view_module": "@jupyter-widgets/controls",
      "_view_module_version": "1.5.0",
      "_view_name": "HTMLView",
      "description": "",
      "description_tooltip": null,
      "layout": "IPY_MODEL_6a5e86075a01438b8e494ad9bd133a0f",
      "placeholder": "​",
      "style": "IPY_MODEL_6eca51cb6d5b4ea9aa71dc7f585d37e9",
      "value": " 400/400 [3:15:34&lt;00:00, 29.35s/it]"
     }
    },
    "09e34088d5c94c3a8f795b9162fdd04a": {
     "model_module": "@jupyter-widgets/controls",
     "model_module_version": "1.5.0",
     "model_name": "FloatProgressModel",
     "state": {
      "_dom_classes": [],
      "_model_module": "@jupyter-widgets/controls",
      "_model_module_version": "1.5.0",
      "_model_name": "FloatProgressModel",
      "_view_count": null,
      "_view_module": "@jupyter-widgets/controls",
      "_view_module_version": "1.5.0",
      "_view_name": "ProgressView",
      "bar_style": "success",
      "description": "",
      "description_tooltip": null,
      "layout": "IPY_MODEL_8dd97f74c7b9400fad855beb65d1c9de",
      "max": 400,
      "min": 0,
      "orientation": "horizontal",
      "style": "IPY_MODEL_8c951a96a64e4a57bd09a4e5935a88d8",
      "value": 400
     }
    },
    "31a79dca326547da9fd9808b0e9e53b2": {
     "model_module": "@jupyter-widgets/base",
     "model_module_version": "1.2.0",
     "model_name": "LayoutModel",
     "state": {
      "_model_module": "@jupyter-widgets/base",
      "_model_module_version": "1.2.0",
      "_model_name": "LayoutModel",
      "_view_count": null,
      "_view_module": "@jupyter-widgets/base",
      "_view_module_version": "1.2.0",
      "_view_name": "LayoutView",
      "align_content": null,
      "align_items": null,
      "align_self": null,
      "border": null,
      "bottom": null,
      "display": null,
      "flex": null,
      "flex_flow": null,
      "grid_area": null,
      "grid_auto_columns": null,
      "grid_auto_flow": null,
      "grid_auto_rows": null,
      "grid_column": null,
      "grid_gap": null,
      "grid_row": null,
      "grid_template_areas": null,
      "grid_template_columns": null,
      "grid_template_rows": null,
      "height": null,
      "justify_content": null,
      "justify_items": null,
      "left": null,
      "margin": null,
      "max_height": null,
      "max_width": null,
      "min_height": null,
      "min_width": null,
      "object_fit": null,
      "object_position": null,
      "order": null,
      "overflow": null,
      "overflow_x": null,
      "overflow_y": null,
      "padding": null,
      "right": null,
      "top": null,
      "visibility": null,
      "width": null
     }
    },
    "35c7924e39484c539b6824b77d314ab2": {
     "model_module": "@jupyter-widgets/controls",
     "model_module_version": "1.5.0",
     "model_name": "DescriptionStyleModel",
     "state": {
      "_model_module": "@jupyter-widgets/controls",
      "_model_module_version": "1.5.0",
      "_model_name": "DescriptionStyleModel",
      "_view_count": null,
      "_view_module": "@jupyter-widgets/base",
      "_view_module_version": "1.2.0",
      "_view_name": "StyleView",
      "description_width": ""
     }
    },
    "6a5e86075a01438b8e494ad9bd133a0f": {
     "model_module": "@jupyter-widgets/base",
     "model_module_version": "1.2.0",
     "model_name": "LayoutModel",
     "state": {
      "_model_module": "@jupyter-widgets/base",
      "_model_module_version": "1.2.0",
      "_model_name": "LayoutModel",
      "_view_count": null,
      "_view_module": "@jupyter-widgets/base",
      "_view_module_version": "1.2.0",
      "_view_name": "LayoutView",
      "align_content": null,
      "align_items": null,
      "align_self": null,
      "border": null,
      "bottom": null,
      "display": null,
      "flex": null,
      "flex_flow": null,
      "grid_area": null,
      "grid_auto_columns": null,
      "grid_auto_flow": null,
      "grid_auto_rows": null,
      "grid_column": null,
      "grid_gap": null,
      "grid_row": null,
      "grid_template_areas": null,
      "grid_template_columns": null,
      "grid_template_rows": null,
      "height": null,
      "justify_content": null,
      "justify_items": null,
      "left": null,
      "margin": null,
      "max_height": null,
      "max_width": null,
      "min_height": null,
      "min_width": null,
      "object_fit": null,
      "object_position": null,
      "order": null,
      "overflow": null,
      "overflow_x": null,
      "overflow_y": null,
      "padding": null,
      "right": null,
      "top": null,
      "visibility": null,
      "width": null
     }
    },
    "6eca51cb6d5b4ea9aa71dc7f585d37e9": {
     "model_module": "@jupyter-widgets/controls",
     "model_module_version": "1.5.0",
     "model_name": "DescriptionStyleModel",
     "state": {
      "_model_module": "@jupyter-widgets/controls",
      "_model_module_version": "1.5.0",
      "_model_name": "DescriptionStyleModel",
      "_view_count": null,
      "_view_module": "@jupyter-widgets/base",
      "_view_module_version": "1.2.0",
      "_view_name": "StyleView",
      "description_width": ""
     }
    },
    "8c951a96a64e4a57bd09a4e5935a88d8": {
     "model_module": "@jupyter-widgets/controls",
     "model_module_version": "1.5.0",
     "model_name": "ProgressStyleModel",
     "state": {
      "_model_module": "@jupyter-widgets/controls",
      "_model_module_version": "1.5.0",
      "_model_name": "ProgressStyleModel",
      "_view_count": null,
      "_view_module": "@jupyter-widgets/base",
      "_view_module_version": "1.2.0",
      "_view_name": "StyleView",
      "bar_color": null,
      "description_width": ""
     }
    },
    "8dd97f74c7b9400fad855beb65d1c9de": {
     "model_module": "@jupyter-widgets/base",
     "model_module_version": "1.2.0",
     "model_name": "LayoutModel",
     "state": {
      "_model_module": "@jupyter-widgets/base",
      "_model_module_version": "1.2.0",
      "_model_name": "LayoutModel",
      "_view_count": null,
      "_view_module": "@jupyter-widgets/base",
      "_view_module_version": "1.2.0",
      "_view_name": "LayoutView",
      "align_content": null,
      "align_items": null,
      "align_self": null,
      "border": null,
      "bottom": null,
      "display": null,
      "flex": null,
      "flex_flow": null,
      "grid_area": null,
      "grid_auto_columns": null,
      "grid_auto_flow": null,
      "grid_auto_rows": null,
      "grid_column": null,
      "grid_gap": null,
      "grid_row": null,
      "grid_template_areas": null,
      "grid_template_columns": null,
      "grid_template_rows": null,
      "height": null,
      "justify_content": null,
      "justify_items": null,
      "left": null,
      "margin": null,
      "max_height": null,
      "max_width": null,
      "min_height": null,
      "min_width": null,
      "object_fit": null,
      "object_position": null,
      "order": null,
      "overflow": null,
      "overflow_x": null,
      "overflow_y": null,
      "padding": null,
      "right": null,
      "top": null,
      "visibility": null,
      "width": null
     }
    },
    "df79bb55fc0c42ea816d9abc3c0f748b": {
     "model_module": "@jupyter-widgets/base",
     "model_module_version": "1.2.0",
     "model_name": "LayoutModel",
     "state": {
      "_model_module": "@jupyter-widgets/base",
      "_model_module_version": "1.2.0",
      "_model_name": "LayoutModel",
      "_view_count": null,
      "_view_module": "@jupyter-widgets/base",
      "_view_module_version": "1.2.0",
      "_view_name": "LayoutView",
      "align_content": null,
      "align_items": null,
      "align_self": null,
      "border": null,
      "bottom": null,
      "display": null,
      "flex": null,
      "flex_flow": null,
      "grid_area": null,
      "grid_auto_columns": null,
      "grid_auto_flow": null,
      "grid_auto_rows": null,
      "grid_column": null,
      "grid_gap": null,
      "grid_row": null,
      "grid_template_areas": null,
      "grid_template_columns": null,
      "grid_template_rows": null,
      "height": null,
      "justify_content": null,
      "justify_items": null,
      "left": null,
      "margin": null,
      "max_height": null,
      "max_width": null,
      "min_height": null,
      "min_width": null,
      "object_fit": null,
      "object_position": null,
      "order": null,
      "overflow": null,
      "overflow_x": null,
      "overflow_y": null,
      "padding": null,
      "right": null,
      "top": null,
      "visibility": null,
      "width": null
     }
    },
    "fde57d175f10435bb44162c60ad7ac2e": {
     "model_module": "@jupyter-widgets/controls",
     "model_module_version": "1.5.0",
     "model_name": "HBoxModel",
     "state": {
      "_dom_classes": [],
      "_model_module": "@jupyter-widgets/controls",
      "_model_module_version": "1.5.0",
      "_model_name": "HBoxModel",
      "_view_count": null,
      "_view_module": "@jupyter-widgets/controls",
      "_view_module_version": "1.5.0",
      "_view_name": "HBoxView",
      "box_style": "",
      "children": [
       "IPY_MODEL_06058d394035419796d899be6f9301d2",
       "IPY_MODEL_09e34088d5c94c3a8f795b9162fdd04a",
       "IPY_MODEL_06c162907b3241d48c3e10ea5a714eac"
      ],
      "layout": "IPY_MODEL_df79bb55fc0c42ea816d9abc3c0f748b"
     }
    }
   }
  }
 },
 "nbformat": 4,
 "nbformat_minor": 0
}
