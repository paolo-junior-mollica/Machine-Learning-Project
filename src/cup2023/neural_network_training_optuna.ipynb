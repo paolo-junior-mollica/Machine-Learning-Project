{
 "cells": [
  {
   "cell_type": "code",
   "execution_count": null,
   "metadata": {},
   "outputs": [],
   "source": [
    "USER = \"Nunzio\""
   ]
  },
  {
   "cell_type": "code",
   "execution_count": null,
   "metadata": {
    "collapsed": false
   },
   "outputs": [],
   "source": [
    "import sys\n",
    "import os\n",
    "if (colab := 'google.colab' in sys.modules):\n",
    "    from google.colab import drive\n",
    "    drive.mount('/content/drive')\n",
    "    BASE_PATH = \"/content/drive/Shareddrives/Project_ML_23/\" + USER + \"/machine-learning-project\"\n",
    "    sys.path.insert(0,BASE_PATH)\n",
    "    N_JOBS = 1\n",
    "    sys.path.insert(0,BASE_PATH + \"/src/utils\")\n",
    "    !pip install optuna\n",
    "    !pip install scikit-learn\n",
    "    !pip install scikeras\n",
    "    TRAIN_DATA = os.path.join(BASE_PATH, 'datasets', 'cup2023','ML-CUP23-TR.csv')\n",
    "    IMAGES_FOLDER = os.path.join(BASE_PATH, 'images', 'cup2023', 'neural_network')\n",
    "    MODEL_FOLDER = os.path.join(BASE_PATH, 'trained_models', 'cup2023')\n",
    "else :   \n",
    "    N_JOBS = -1\n",
    "    TRAIN_DATA = os.path.join('..', '..', 'datasets', 'cup2023', 'ML-CUP23-TR.csv')\n",
    "    IMAGES_FOLDER = os.path.join('..', '..', 'images', 'cup2023', 'neural_network')\n",
    "    MODEL_FOLDER = os.path.join('..', '..', 'trained_models', 'cup2023')"
   ]
  },
  {
   "cell_type": "code",
   "execution_count": null,
   "metadata": {
    "collapsed": true
   },
   "outputs": [],
   "source": [
    "if (colab := 'google.colab' in sys.modules):\n",
    "    sys.path.append(BASE_PATH + \"/src/utils\")\n",
    "else:\n",
    "    sys.path.append('../utils')\n",
    "\n",
    "import numpy as np\n",
    "import pandas as pd\n",
    "import matplotlib.pyplot as plt\n",
    "import seaborn as sns; sns.set_theme(style='darkgrid')\n",
    "from keras import backend as K\n",
    "\n",
    "\n",
    "from utils import save_plot, mean_euclidean_error, root_mean_squared_error, multidim_r2\n",
    "from NN import NeuralNetwork\n",
    "from joblib import dump"
   ]
  },
  {
   "cell_type": "code",
   "execution_count": null,
   "metadata": {
    "collapsed": false
   },
   "outputs": [],
   "source": [
    "# To skip the first column (row indexes)\n",
    "columns_to_read = list(range(1, 14))\n",
    "\n",
    "df_train = pd.read_csv(TRAIN_DATA, header=None, comment='#', usecols=columns_to_read, delimiter=',')\n",
    "df_train = df_train.astype('float64') # casting\n",
    "df_train.head()"
   ]
  },
  {
   "cell_type": "code",
   "execution_count": null,
   "metadata": {
    "collapsed": false
   },
   "outputs": [],
   "source": [
    "features = ['feature_' + str(i) for i in range(1, 11)]\n",
    "targets = ['target_x', 'target_y', 'target_z']\n",
    "\n",
    "# Rename columns\n",
    "new_column_names = features + targets\n",
    "df_train.columns = new_column_names\n",
    "\n",
    "df_train.head()"
   ]
  },
  {
   "cell_type": "code",
   "execution_count": null,
   "metadata": {
    "collapsed": false
   },
   "outputs": [],
   "source": [
    "from sklearn.model_selection import train_test_split\n",
    "\n",
    "X = df_train[features].to_numpy()\n",
    "y = df_train[targets].to_numpy()\n",
    "\n",
    "X_train, X_test, y_train, y_test = train_test_split(X, y, test_size=0.2, random_state=42)\n",
    "X_train_val, X_valid, y_train_val, y_valid = train_test_split(X, y, test_size=0.2, random_state=42)"
   ]
  },
  {
   "cell_type": "markdown",
   "metadata": {
    "collapsed": false
   },
   "source": [
    "# Create model"
   ]
  },
  {
   "cell_type": "code",
   "execution_count": null,
   "metadata": {
    "collapsed": false
   },
   "outputs": [],
   "source": [
    "from sklearn.metrics import make_scorer\n",
    "\n",
    "mee_scorer = make_scorer(mean_euclidean_error, greater_is_better=False)\n"
   ]
  },
  {
   "cell_type": "code",
   "execution_count": null,
   "metadata": {
    "collapsed": false
   },
   "outputs": [],
   "source": [
    "from sklearn.model_selection import cross_val_score\n",
    "import optuna\n",
    "from scikeras.wrappers import KerasRegressor\n",
    "from sklearn.preprocessing import RobustScaler\n",
    "from sklearn.pipeline import Pipeline\n",
    "from keras.callbacks import EarlyStopping\n",
    "\n",
    "\n",
    "def objective_function(trial):\n",
    "    num_layers = trial.suggest_int('num_layers', 1, 5)\n",
    "\n",
    "    # Setting up the architecture with a funnel structure\n",
    "    max_units = 512\n",
    "    architecture = []\n",
    "    for i in range(num_layers):\n",
    "        units = trial.suggest_int(f'num_units_l{i}', 32, max_units, step=32)\n",
    "        architecture.append(units)\n",
    "        max_units = units  # Next layer will have equal or fewer units\n",
    "\n",
    "    dropout_input_rate = trial.suggest_float('dropout_input_rate', 0.0, 0.5)\n",
    "    dropout_hidden_rate = [trial.suggest_float(f'dropout_rate_l{i}', 0.0, 0.5) for i in range(num_layers)]\n",
    "    learning_rate = trial.suggest_float('learning_rate', 1e-4, 1e-2, log=True)\n",
    "    momentum = trial.suggest_float('momentum', 0.0, 1.0)\n",
    "    weight_decay = trial.suggest_float('weight_decay', 1e-6, 1e-2, log=True)\n",
    "    use_nesterov = trial.suggest_categorical('use_nesterov', [True, False])\n",
    "    epochs = trial.suggest_int('epochs', 5, 400)\n",
    "    batch_size = trial.suggest_int('batch_size', 16, 128)\n",
    "    patience = trial.suggest_int('patience', 5, 20)\n",
    "\n",
    "    def build_model():\n",
    "        model = NeuralNetwork(\n",
    "            input_dimension=10,\n",
    "            output_dimension=3,\n",
    "            architecture=architecture,\n",
    "            activation='relu',\n",
    "            dropout_input_rate=dropout_input_rate,\n",
    "            dropout_hidden_rate=dropout_hidden_rate,\n",
    "            learning_rate=learning_rate,\n",
    "            momentum=momentum,\n",
    "            weight_decay=weight_decay,\n",
    "            use_nesterov=use_nesterov\n",
    "        ).build_model()\n",
    "        return model\n",
    "\n",
    "    pipeline = Pipeline([\n",
    "        ('scaler', RobustScaler()),\n",
    "        ('model', KerasRegressor(build_model, epochs=epochs, batch_size=batch_size, verbose=0, callbacks=[EarlyStopping(monitor='loss', patience=patience)]))\n",
    "    ])\n",
    "\n",
    "    '''\n",
    "    Per usare cross validation, decommentare le due righe sotto e commentare\n",
    "    le altre fino al return\n",
    "    '''\n",
    "    scores = cross_val_score(pipeline, X_train, y_train, cv=5, scoring=mee_scorer)\n",
    "    return -np.mean(scores)\n",
    "\n",
    "    #pipeline.fit(X_train_val, y_train_val)\n",
    "    #y_pred = pipeline.predict(X_valid)\n",
    "\n",
    "    #error = mean_euclidean_error(y_valid, y_pred)\n",
    "    #return error\n",
    "\n",
    "study = optuna.create_study(direction='minimize')\n",
    "study.optimize(objective_function, n_trials=300, n_jobs=N_JOBS, show_progress_bar=True)"
   ]
  },
  {
   "cell_type": "code",
   "execution_count": null,
   "metadata": {
    "collapsed": false
   },
   "outputs": [],
   "source": [
    "print(study.best_trial)\n",
    "print(study.best_params)\n",
    "print(study.best_value)"
   ]
  },
  {
   "cell_type": "code",
   "execution_count": null,
   "outputs": [],
   "source": [
    "best_params = study.best_params\n",
    "architecture = []\n",
    "dropout_hidden_rate = []\n",
    "\n",
    "for i in range(best_params['num_layers']):\n",
    "    units = best_params[f'num_units_l{i}']\n",
    "    dropout_rate = best_params[f'dropout_rate_l{i}']\n",
    "    architecture.append(units)\n",
    "    dropout_hidden_rate.append(dropout_rate)"
   ],
   "metadata": {
    "collapsed": false
   }
  },
  {
   "cell_type": "code",
   "execution_count": null,
   "metadata": {
    "collapsed": false
   },
   "outputs": [],
   "source": [
    "def build_model():\n",
    "    model = NeuralNetwork(\n",
    "        input_dimension=10,\n",
    "        output_dimension=3,\n",
    "        architecture=architecture,\n",
    "        activation='relu',\n",
    "        dropout_input_rate=best_params['dropout_input_rate'],\n",
    "        dropout_hidden_rate=dropout_hidden_rate,\n",
    "        learning_rate=best_params['learning_rate'],\n",
    "        momentum=best_params['momentum'],\n",
    "        weight_decay=best_params['weight_decay'],\n",
    "        use_nesterov=best_params['use_nesterov']\n",
    "    ).build_model()\n",
    "    return model\n",
    "\n",
    "nn = KerasRegressor(\n",
    "    build_model,\n",
    "    epochs=best_params['epochs'],\n",
    "    batch_size=best_params['batch_size'],\n",
    "    verbose=0\n",
    ")"
   ]
  },
  {
   "cell_type": "code",
   "execution_count": null,
   "metadata": {
    "collapsed": false
   },
   "outputs": [],
   "source": [
    "final_model = Pipeline([\n",
    "    ('scaler', RobustScaler()),\n",
    "    ('neuralnetwork', nn)\n",
    "])\n",
    "\n",
    "final_model.fit(X_train, y_train)"
   ]
  },
  {
   "cell_type": "markdown",
   "metadata": {
    "collapsed": false
   },
   "source": [
    "# Test of the model"
   ]
  },
  {
   "cell_type": "code",
   "execution_count": null,
   "metadata": {
    "collapsed": false
   },
   "outputs": [],
   "source": [
    "y_pred = final_model.predict(X_test)\n",
    "\n",
    "mee = mean_euclidean_error(y_test, y_pred)\n",
    "r2 = multidim_r2(y_test, y_pred)\n",
    "rmse = root_mean_squared_error(y_test, y_pred)\n",
    "\n",
    "print('MEE:', mee)\n",
    "print('R2:', r2)\n",
    "print('RMSE:', rmse)"
   ]
  },
  {
   "cell_type": "markdown",
   "metadata": {
    "collapsed": false
   },
   "source": [
    "# Learning curve"
   ]
  },
  {
   "cell_type": "code",
   "execution_count": null,
   "metadata": {
    "collapsed": false
   },
   "outputs": [],
   "source": [
    "from sklearn.model_selection import learning_curve\n",
    "\n",
    "train_sizes, train_scores, validation_scores = learning_curve(\n",
    "    estimator=final_model,\n",
    "    X=X_train,\n",
    "    y=y_train,\n",
    "    train_sizes=[0.1, 0.33, 0.55, 0.78, 1.],\n",
    "    cv=5,\n",
    "    n_jobs=-1,\n",
    "    verbose=2,\n",
    "    scoring=mee_scorer\n",
    ")"
   ]
  },
  {
   "cell_type": "code",
   "execution_count": null,
   "metadata": {
    "collapsed": false
   },
   "outputs": [],
   "source": [
    "train_scores_mean = np.mean(train_scores, axis=1)\n",
    "train_scores_std = np.std(train_scores, axis=1)\n",
    "validation_scores_mean = np.mean(validation_scores, axis=1)\n",
    "validation_scores_std = np.std(validation_scores, axis=1)"
   ]
  },
  {
   "cell_type": "code",
   "execution_count": null,
   "metadata": {
    "collapsed": false
   },
   "outputs": [],
   "source": [
    "plt.figure()\n",
    "plt.title('Learning curve', fontweight='bold', fontsize=16)\n",
    "plt.xlabel('Training examples', fontweight='bold')\n",
    "plt.ylabel('Score', fontweight='bold')\n",
    "plt.grid(True)\n",
    "\n",
    "color1 = sns.dark_palette((20, 60, 50), input='husl')[-1]\n",
    "color2 = sns.dark_palette('seagreen')[-1]\n",
    "\n",
    "# Filling the area around the mean scores to indicate variability of the model's performance\n",
    "# The shaded area represents the range of scores (mean ± standard deviation) for each training set size\n",
    "plt.fill_between(\n",
    "    train_sizes, train_scores_mean - train_scores_std,\n",
    "                 train_scores_mean + train_scores_std, alpha=0.2, color=color1\n",
    ")\n",
    "plt.fill_between(\n",
    "    train_sizes, validation_scores_mean - validation_scores_std,\n",
    "                 validation_scores_mean + validation_scores_std, alpha=0.2, color=color2\n",
    ")\n",
    "\n",
    "# Mean score lines for training and validation\n",
    "sns.lineplot(x=train_sizes, y=train_scores_mean, marker='s', color=color1, label='Training score')\n",
    "sns.lineplot(x=train_sizes, y=validation_scores_mean, marker='s', color=color2, label='Cross-validation score')\n",
    "\n",
    "plt.legend(loc='lower right')\n",
    "\n",
    "save_plot(plt, IMAGES_FOLDER, 'learning_curve_optuna')\n",
    "plt.show()"
   ]
  },
  {
   "cell_type": "markdown",
   "metadata": {
    "collapsed": false
   },
   "source": [
    "# Save model"
   ]
  },
  {
   "cell_type": "code",
   "execution_count": null,
   "metadata": {
    "collapsed": false
   },
   "outputs": [],
   "source": [
    "model_path = os.path.join(MODEL_FOLDER, 'NN_optuna_model.joblib')\n",
    "dump(final_model, model_path, compress=3)"
   ]
  }
 ],
 "metadata": {
  "kernelspec": {
   "display_name": "Python 3",
   "language": "python",
   "name": "python3"
  },
  "language_info": {
   "codemirror_mode": {
    "name": "ipython",
    "version": 3
   },
   "file_extension": ".py",
   "mimetype": "text/x-python",
   "name": "python",
   "nbconvert_exporter": "python",
   "pygments_lexer": "ipython3",
   "version": "3.9.18"
  }
 },
 "nbformat": 4,
 "nbformat_minor": 0
}
